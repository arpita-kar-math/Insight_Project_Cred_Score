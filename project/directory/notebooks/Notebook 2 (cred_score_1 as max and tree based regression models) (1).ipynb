{
 "cells": [
  {
   "cell_type": "code",
   "execution_count": 1,
   "metadata": {},
   "outputs": [],
   "source": [
    "import numpy as np\n",
    "import pandas as pd\n",
    "import matplotlib.pyplot as plt\n",
    "import seaborn as sns\n",
    "%matplotlib inline"
   ]
  },
  {
   "cell_type": "code",
   "execution_count": 2,
   "metadata": {},
   "outputs": [],
   "source": [
    "combined_data = pd.read_csv('combined.csv')"
   ]
  },
  {
   "cell_type": "code",
   "execution_count": 3,
   "metadata": {},
   "outputs": [
    {
     "data": {
      "text/html": [
       "<div>\n",
       "<style scoped>\n",
       "    .dataframe tbody tr th:only-of-type {\n",
       "        vertical-align: middle;\n",
       "    }\n",
       "\n",
       "    .dataframe tbody tr th {\n",
       "        vertical-align: top;\n",
       "    }\n",
       "\n",
       "    .dataframe thead th {\n",
       "        text-align: right;\n",
       "    }\n",
       "</style>\n",
       "<table border=\"1\" class=\"dataframe\">\n",
       "  <thead>\n",
       "    <tr style=\"text-align: right;\">\n",
       "      <th></th>\n",
       "      <th>brand_uuid</th>\n",
       "      <th>id</th>\n",
       "      <th>full_name</th>\n",
       "      <th>company_slug</th>\n",
       "      <th>slug</th>\n",
       "      <th>email</th>\n",
       "      <th>job_title</th>\n",
       "      <th>location</th>\n",
       "      <th>is_c_level</th>\n",
       "      <th>working_since</th>\n",
       "      <th>...</th>\n",
       "      <th>founded</th>\n",
       "      <th>employees_count</th>\n",
       "      <th>generic_reseller</th>\n",
       "      <th>store_is_subdomain</th>\n",
       "      <th>product_prices_mean</th>\n",
       "      <th>product_prices_max</th>\n",
       "      <th>product_prices_min</th>\n",
       "      <th>cred_1_growth_score_max</th>\n",
       "      <th>cred_2_growth_score_mean</th>\n",
       "      <th>time_worked</th>\n",
       "    </tr>\n",
       "  </thead>\n",
       "  <tbody>\n",
       "    <tr>\n",
       "      <td>0</td>\n",
       "      <td>motorola</td>\n",
       "      <td>2015583</td>\n",
       "      <td>Michaël Maarek</td>\n",
       "      <td>motorola-mobility</td>\n",
       "      <td>michaelmaarek</td>\n",
       "      <td>lemike10@gmail.com</td>\n",
       "      <td>Key Account Director</td>\n",
       "      <td>London, United Kingdom</td>\n",
       "      <td>0.0</td>\n",
       "      <td>2014-08-01 00:00:00+00:00</td>\n",
       "      <td>...</td>\n",
       "      <td>2017.0</td>\n",
       "      <td>26954.0</td>\n",
       "      <td>0.0</td>\n",
       "      <td>0.0</td>\n",
       "      <td>NaN</td>\n",
       "      <td>NaN</td>\n",
       "      <td>NaN</td>\n",
       "      <td>63.7659</td>\n",
       "      <td>40.933333</td>\n",
       "      <td>853 days 00:00:00.000000000</td>\n",
       "    </tr>\n",
       "    <tr>\n",
       "      <td>1</td>\n",
       "      <td>motorola</td>\n",
       "      <td>2048222</td>\n",
       "      <td>Michael Roberts</td>\n",
       "      <td>motorola-mobility</td>\n",
       "      <td>michaelroberts07</td>\n",
       "      <td>msajs.roberts@gmail.com</td>\n",
       "      <td>Sr. Director of Product Strategy and Business ...</td>\n",
       "      <td>Greater San Diego Area</td>\n",
       "      <td>0.0</td>\n",
       "      <td>2010-08-01 00:00:00+00:00</td>\n",
       "      <td>...</td>\n",
       "      <td>2017.0</td>\n",
       "      <td>26954.0</td>\n",
       "      <td>0.0</td>\n",
       "      <td>0.0</td>\n",
       "      <td>NaN</td>\n",
       "      <td>NaN</td>\n",
       "      <td>NaN</td>\n",
       "      <td>63.7659</td>\n",
       "      <td>31.882950</td>\n",
       "      <td>731 days 00:00:00.000000000</td>\n",
       "    </tr>\n",
       "    <tr>\n",
       "      <td>2</td>\n",
       "      <td>motorola</td>\n",
       "      <td>60552</td>\n",
       "      <td>Pratod Kasbekar</td>\n",
       "      <td>motorola-mobility</td>\n",
       "      <td>pratod-kasbekar-a088b64</td>\n",
       "      <td>pkasbekar@verizon.net</td>\n",
       "      <td>Senior Director of Program Management/Engineering</td>\n",
       "      <td>United States</td>\n",
       "      <td>0.0</td>\n",
       "      <td>2006-01-01 00:00:00+00:00</td>\n",
       "      <td>...</td>\n",
       "      <td>2017.0</td>\n",
       "      <td>26954.0</td>\n",
       "      <td>0.0</td>\n",
       "      <td>0.0</td>\n",
       "      <td>NaN</td>\n",
       "      <td>NaN</td>\n",
       "      <td>NaN</td>\n",
       "      <td>63.7659</td>\n",
       "      <td>63.765900</td>\n",
       "      <td>5265 days 16:25:25.000000000</td>\n",
       "    </tr>\n",
       "    <tr>\n",
       "      <td>3</td>\n",
       "      <td>motorola</td>\n",
       "      <td>60545</td>\n",
       "      <td>Pamela Ajaibela</td>\n",
       "      <td>motorola-mobility</td>\n",
       "      <td>pamelaajaibela</td>\n",
       "      <td>pamelapajaibela@gmail.com</td>\n",
       "      <td>Director</td>\n",
       "      <td>San Francisco Bay Area</td>\n",
       "      <td>0.0</td>\n",
       "      <td>2007-02-01 00:00:00+00:00</td>\n",
       "      <td>...</td>\n",
       "      <td>2017.0</td>\n",
       "      <td>26954.0</td>\n",
       "      <td>0.0</td>\n",
       "      <td>0.0</td>\n",
       "      <td>NaN</td>\n",
       "      <td>NaN</td>\n",
       "      <td>NaN</td>\n",
       "      <td>63.7659</td>\n",
       "      <td>63.765900</td>\n",
       "      <td>4869 days 16:25:25.000000000</td>\n",
       "    </tr>\n",
       "    <tr>\n",
       "      <td>4</td>\n",
       "      <td>motorola</td>\n",
       "      <td>60546</td>\n",
       "      <td>paul burnett</td>\n",
       "      <td>NaN</td>\n",
       "      <td>paul-burnett-73189b23</td>\n",
       "      <td>pburnett66@rogers.com</td>\n",
       "      <td>Channel Director</td>\n",
       "      <td>Canada</td>\n",
       "      <td>0.0</td>\n",
       "      <td>1970-01-01 00:00:00.000002017+00:00</td>\n",
       "      <td>...</td>\n",
       "      <td>2017.0</td>\n",
       "      <td>26954.0</td>\n",
       "      <td>0.0</td>\n",
       "      <td>0.0</td>\n",
       "      <td>NaN</td>\n",
       "      <td>NaN</td>\n",
       "      <td>NaN</td>\n",
       "      <td>63.7659</td>\n",
       "      <td>63.765900</td>\n",
       "      <td>18414 days 16:25:24.999997983</td>\n",
       "    </tr>\n",
       "  </tbody>\n",
       "</table>\n",
       "<p>5 rows × 31 columns</p>\n",
       "</div>"
      ],
      "text/plain": [
       "  brand_uuid       id        full_name       company_slug  \\\n",
       "0   motorola  2015583   Michaël Maarek  motorola-mobility   \n",
       "1   motorola  2048222  Michael Roberts  motorola-mobility   \n",
       "2   motorola    60552  Pratod Kasbekar  motorola-mobility   \n",
       "3   motorola    60545  Pamela Ajaibela  motorola-mobility   \n",
       "4   motorola    60546     paul burnett                NaN   \n",
       "\n",
       "                      slug                      email  \\\n",
       "0            michaelmaarek         lemike10@gmail.com   \n",
       "1         michaelroberts07    msajs.roberts@gmail.com   \n",
       "2  pratod-kasbekar-a088b64      pkasbekar@verizon.net   \n",
       "3           pamelaajaibela  pamelapajaibela@gmail.com   \n",
       "4    paul-burnett-73189b23      pburnett66@rogers.com   \n",
       "\n",
       "                                           job_title                location  \\\n",
       "0                               Key Account Director  London, United Kingdom   \n",
       "1  Sr. Director of Product Strategy and Business ...  Greater San Diego Area   \n",
       "2  Senior Director of Program Management/Engineering           United States   \n",
       "3                                           Director  San Francisco Bay Area   \n",
       "4                                   Channel Director                  Canada   \n",
       "\n",
       "   is_c_level                        working_since  ... founded  \\\n",
       "0         0.0            2014-08-01 00:00:00+00:00  ...  2017.0   \n",
       "1         0.0            2010-08-01 00:00:00+00:00  ...  2017.0   \n",
       "2         0.0            2006-01-01 00:00:00+00:00  ...  2017.0   \n",
       "3         0.0            2007-02-01 00:00:00+00:00  ...  2017.0   \n",
       "4         0.0  1970-01-01 00:00:00.000002017+00:00  ...  2017.0   \n",
       "\n",
       "   employees_count  generic_reseller store_is_subdomain  product_prices_mean  \\\n",
       "0          26954.0               0.0                0.0                  NaN   \n",
       "1          26954.0               0.0                0.0                  NaN   \n",
       "2          26954.0               0.0                0.0                  NaN   \n",
       "3          26954.0               0.0                0.0                  NaN   \n",
       "4          26954.0               0.0                0.0                  NaN   \n",
       "\n",
       "   product_prices_max  product_prices_min  cred_1_growth_score_max  \\\n",
       "0                 NaN                 NaN                  63.7659   \n",
       "1                 NaN                 NaN                  63.7659   \n",
       "2                 NaN                 NaN                  63.7659   \n",
       "3                 NaN                 NaN                  63.7659   \n",
       "4                 NaN                 NaN                  63.7659   \n",
       "\n",
       "   cred_2_growth_score_mean                    time_worked  \n",
       "0                 40.933333    853 days 00:00:00.000000000  \n",
       "1                 31.882950    731 days 00:00:00.000000000  \n",
       "2                 63.765900   5265 days 16:25:25.000000000  \n",
       "3                 63.765900   4869 days 16:25:25.000000000  \n",
       "4                 63.765900  18414 days 16:25:24.999997983  \n",
       "\n",
       "[5 rows x 31 columns]"
      ]
     },
     "execution_count": 3,
     "metadata": {},
     "output_type": "execute_result"
    }
   ],
   "source": [
    "combined_data.head()"
   ]
  },
  {
   "cell_type": "code",
   "execution_count": 22,
   "metadata": {},
   "outputs": [
    {
     "data": {
      "text/plain": [
       "(1552472, 28)"
      ]
     },
     "execution_count": 22,
     "metadata": {},
     "output_type": "execute_result"
    }
   ],
   "source": [
    "combined_data.shape"
   ]
  },
  {
   "cell_type": "code",
   "execution_count": 4,
   "metadata": {},
   "outputs": [
    {
     "data": {
      "text/plain": [
       "Index(['brand_uuid', 'id', 'full_name', 'company_slug', 'slug', 'email',\n",
       "       'job_title', 'location', 'is_c_level', 'working_since', 'working_until',\n",
       "       'is_current', 'brand_id', 'brand_name', 'growth_score',\n",
       "       'sudden_growth_score', 'sudden_growth_delta', 'acceleration_score',\n",
       "       'success_score', 'is_physical_products_brand', 'is_brickandmortar',\n",
       "       'founded', 'employees_count', 'generic_reseller', 'store_is_subdomain',\n",
       "       'product_prices_mean', 'product_prices_max', 'product_prices_min',\n",
       "       'cred_1_growth_score_max', 'cred_2_growth_score_mean', 'time_worked'],\n",
       "      dtype='object')"
      ]
     },
     "execution_count": 4,
     "metadata": {},
     "output_type": "execute_result"
    }
   ],
   "source": [
    "combined_data.columns #columns in the dataframe"
   ]
  },
  {
   "cell_type": "code",
   "execution_count": 5,
   "metadata": {},
   "outputs": [
    {
     "name": "stdout",
     "output_type": "stream",
     "text": [
      "Number of unique names:  1347616\n",
      "Number of unique slugs (from LinkedIn):  1459704\n",
      "Number of unique email ids:  592383\n"
     ]
    }
   ],
   "source": [
    "#number of unique full names, slugs, email in the dataframe to choose which would be best to group by\n",
    "print('Number of unique names: ', combined_data['full_name'].nunique())\n",
    "print('Number of unique slugs (from LinkedIn): ', combined_data['slug'].nunique())\n",
    "print('Number of unique email ids: ', combined_data['email'].nunique())"
   ]
  },
  {
   "cell_type": "code",
   "execution_count": 6,
   "metadata": {},
   "outputs": [
    {
     "name": "stdout",
     "output_type": "stream",
     "text": [
      "Null values in full name is  0\n",
      "Null values in slug is  0\n"
     ]
    }
   ],
   "source": [
    "#number of null valuesin names, slugs (not considering email anymore, since we seem to have very less data in that column)\n",
    "print('Null values in full name is ', combined_data['full_name'].isna().sum())\n",
    "print('Null values in slug is ', combined_data['slug'].isna().sum())"
   ]
  },
  {
   "cell_type": "code",
   "execution_count": 7,
   "metadata": {},
   "outputs": [
    {
     "name": "stdout",
     "output_type": "stream",
     "text": [
      "Null values in slug is  0\n",
      "Number of unique slugs (from LinkedIn):  1459704\n"
     ]
    }
   ],
   "source": [
    "#Drop the rows with null value in the 'slug column', check the null values and unique values again\n",
    "combined_data.dropna(subset=['slug'], inplace=True)\n",
    "#combined_data = combined_data[combined_data['slug'].notnull()]\n",
    "print('Null values in slug is ', combined_data['slug'].isna().sum())\n",
    "print('Number of unique slugs (from LinkedIn): ', combined_data['slug'].nunique())"
   ]
  },
  {
   "cell_type": "code",
   "execution_count": 27,
   "metadata": {},
   "outputs": [
    {
     "data": {
      "text/plain": [
       "(1546517, 28)"
      ]
     },
     "execution_count": 27,
     "metadata": {},
     "output_type": "execute_result"
    }
   ],
   "source": [
    "combined_data.shape"
   ]
  },
  {
   "cell_type": "code",
   "execution_count": 8,
   "metadata": {},
   "outputs": [],
   "source": [
    "group_by_slug = combined_data.groupby('slug')"
   ]
  },
  {
   "cell_type": "code",
   "execution_count": 9,
   "metadata": {},
   "outputs": [
    {
     "data": {
      "text/plain": [
       "<pandas.core.groupby.generic.DataFrameGroupBy object at 0x000001E605B53108>"
      ]
     },
     "execution_count": 9,
     "metadata": {},
     "output_type": "execute_result"
    }
   ],
   "source": [
    "group_by_slug"
   ]
  },
  {
   "cell_type": "code",
   "execution_count": 30,
   "metadata": {},
   "outputs": [
    {
     "data": {
      "text/html": [
       "<div>\n",
       "<style scoped>\n",
       "    .dataframe tbody tr th:only-of-type {\n",
       "        vertical-align: middle;\n",
       "    }\n",
       "\n",
       "    .dataframe tbody tr th {\n",
       "        vertical-align: top;\n",
       "    }\n",
       "\n",
       "    .dataframe thead th {\n",
       "        text-align: right;\n",
       "    }\n",
       "</style>\n",
       "<table border=\"1\" class=\"dataframe\">\n",
       "  <thead>\n",
       "    <tr style=\"text-align: right;\">\n",
       "      <th></th>\n",
       "      <th>max</th>\n",
       "      <th>mean</th>\n",
       "    </tr>\n",
       "    <tr>\n",
       "      <th>slug</th>\n",
       "      <th></th>\n",
       "      <th></th>\n",
       "    </tr>\n",
       "  </thead>\n",
       "  <tbody>\n",
       "    <tr>\n",
       "      <td>%25C3%25A0dam-balmas-0b012618</td>\n",
       "      <td>4.0894</td>\n",
       "      <td>1.45715</td>\n",
       "    </tr>\n",
       "    <tr>\n",
       "      <td>%25C3%25A1d%25C3%25A1m-rudolf-21795096</td>\n",
       "      <td>53.8800</td>\n",
       "      <td>53.88000</td>\n",
       "    </tr>\n",
       "    <tr>\n",
       "      <td>%25C3%25A1ine-breen-18944844</td>\n",
       "      <td>1.6584</td>\n",
       "      <td>1.65840</td>\n",
       "    </tr>\n",
       "    <tr>\n",
       "      <td>%25C3%25A1lvaro-gonz%25C3%25A1lez-6b57a031</td>\n",
       "      <td>67.9460</td>\n",
       "      <td>43.18946</td>\n",
       "    </tr>\n",
       "    <tr>\n",
       "      <td>%25C3%25A1lvaro-guiti%25C3%25A1n-le%25C3%25B3n-86a5832a</td>\n",
       "      <td>29.4717</td>\n",
       "      <td>29.47170</td>\n",
       "    </tr>\n",
       "    <tr>\n",
       "      <td>...</td>\n",
       "      <td>...</td>\n",
       "      <td>...</td>\n",
       "    </tr>\n",
       "    <tr>\n",
       "      <td>🤩-david-👉-wojcik-🚀-67b209ab</td>\n",
       "      <td>-6.0418</td>\n",
       "      <td>-6.04180</td>\n",
       "    </tr>\n",
       "    <tr>\n",
       "      <td>🦅john-beamson-🦅-8b9440161</td>\n",
       "      <td>-0.4931</td>\n",
       "      <td>-0.49310</td>\n",
       "    </tr>\n",
       "    <tr>\n",
       "      <td>🦋v-k🦋-8532a3198</td>\n",
       "      <td>16.3732</td>\n",
       "      <td>16.37320</td>\n",
       "    </tr>\n",
       "    <tr>\n",
       "      <td>🧫🧬🧪-angelo-da-rosa-🧫🧬🧪-268a1a2b</td>\n",
       "      <td>-0.4931</td>\n",
       "      <td>-0.49310</td>\n",
       "    </tr>\n",
       "    <tr>\n",
       "      <td>🧵audrey🧵🤸‍♂️-hansen-21768753</td>\n",
       "      <td>-4.3674</td>\n",
       "      <td>-4.36740</td>\n",
       "    </tr>\n",
       "  </tbody>\n",
       "</table>\n",
       "<p>1459704 rows × 2 columns</p>\n",
       "</div>"
      ],
      "text/plain": [
       "                                                        max      mean\n",
       "slug                                                                 \n",
       "%25C3%25A0dam-balmas-0b012618                        4.0894   1.45715\n",
       "%25C3%25A1d%25C3%25A1m-rudolf-21795096              53.8800  53.88000\n",
       "%25C3%25A1ine-breen-18944844                         1.6584   1.65840\n",
       "%25C3%25A1lvaro-gonz%25C3%25A1lez-6b57a031          67.9460  43.18946\n",
       "%25C3%25A1lvaro-guiti%25C3%25A1n-le%25C3%25B3n-...  29.4717  29.47170\n",
       "...                                                     ...       ...\n",
       "🤩-david-👉-wojcik-🚀-67b209ab                         -6.0418  -6.04180\n",
       "🦅john-beamson-🦅-8b9440161                           -0.4931  -0.49310\n",
       "🦋v-k🦋-8532a3198                                     16.3732  16.37320\n",
       "🧫🧬🧪-angelo-da-rosa-🧫🧬🧪-268a1a2b                     -0.4931  -0.49310\n",
       "🧵audrey🧵🤸‍♂️-hansen-21768753                        -4.3674  -4.36740\n",
       "\n",
       "[1459704 rows x 2 columns]"
      ]
     },
     "execution_count": 30,
     "metadata": {},
     "output_type": "execute_result"
    }
   ],
   "source": [
    "group_by_slug.growth_score.agg(['max', 'mean'])"
   ]
  },
  {
   "cell_type": "code",
   "execution_count": 10,
   "metadata": {},
   "outputs": [
    {
     "data": {
      "text/html": [
       "<div>\n",
       "<style scoped>\n",
       "    .dataframe tbody tr th:only-of-type {\n",
       "        vertical-align: middle;\n",
       "    }\n",
       "\n",
       "    .dataframe tbody tr th {\n",
       "        vertical-align: top;\n",
       "    }\n",
       "\n",
       "    .dataframe thead th {\n",
       "        text-align: right;\n",
       "    }\n",
       "</style>\n",
       "<table border=\"1\" class=\"dataframe\">\n",
       "  <thead>\n",
       "    <tr style=\"text-align: right;\">\n",
       "      <th></th>\n",
       "      <th>brand_uuid</th>\n",
       "      <th>id</th>\n",
       "      <th>full_name</th>\n",
       "      <th>company_slug</th>\n",
       "      <th>slug</th>\n",
       "      <th>email</th>\n",
       "      <th>job_title</th>\n",
       "      <th>location</th>\n",
       "      <th>is_c_level</th>\n",
       "      <th>working_since</th>\n",
       "      <th>...</th>\n",
       "      <th>founded</th>\n",
       "      <th>employees_count</th>\n",
       "      <th>generic_reseller</th>\n",
       "      <th>store_is_subdomain</th>\n",
       "      <th>product_prices_mean</th>\n",
       "      <th>product_prices_max</th>\n",
       "      <th>product_prices_min</th>\n",
       "      <th>cred_1_growth_score_max</th>\n",
       "      <th>cred_2_growth_score_mean</th>\n",
       "      <th>time_worked</th>\n",
       "    </tr>\n",
       "  </thead>\n",
       "  <tbody>\n",
       "    <tr>\n",
       "      <td>0</td>\n",
       "      <td>motorola</td>\n",
       "      <td>2015583</td>\n",
       "      <td>Michaël Maarek</td>\n",
       "      <td>motorola-mobility</td>\n",
       "      <td>michaelmaarek</td>\n",
       "      <td>lemike10@gmail.com</td>\n",
       "      <td>Key Account Director</td>\n",
       "      <td>London, United Kingdom</td>\n",
       "      <td>0.0</td>\n",
       "      <td>2014-08-01 00:00:00+00:00</td>\n",
       "      <td>...</td>\n",
       "      <td>2017.0</td>\n",
       "      <td>26954.0</td>\n",
       "      <td>0.0</td>\n",
       "      <td>0.0</td>\n",
       "      <td>NaN</td>\n",
       "      <td>NaN</td>\n",
       "      <td>NaN</td>\n",
       "      <td>63.7659</td>\n",
       "      <td>40.933333</td>\n",
       "      <td>853 days 00:00:00.000000000</td>\n",
       "    </tr>\n",
       "    <tr>\n",
       "      <td>1</td>\n",
       "      <td>motorola</td>\n",
       "      <td>2048222</td>\n",
       "      <td>Michael Roberts</td>\n",
       "      <td>motorola-mobility</td>\n",
       "      <td>michaelroberts07</td>\n",
       "      <td>msajs.roberts@gmail.com</td>\n",
       "      <td>Sr. Director of Product Strategy and Business ...</td>\n",
       "      <td>Greater San Diego Area</td>\n",
       "      <td>0.0</td>\n",
       "      <td>2010-08-01 00:00:00+00:00</td>\n",
       "      <td>...</td>\n",
       "      <td>2017.0</td>\n",
       "      <td>26954.0</td>\n",
       "      <td>0.0</td>\n",
       "      <td>0.0</td>\n",
       "      <td>NaN</td>\n",
       "      <td>NaN</td>\n",
       "      <td>NaN</td>\n",
       "      <td>63.7659</td>\n",
       "      <td>31.882950</td>\n",
       "      <td>731 days 00:00:00.000000000</td>\n",
       "    </tr>\n",
       "    <tr>\n",
       "      <td>2</td>\n",
       "      <td>motorola</td>\n",
       "      <td>60552</td>\n",
       "      <td>Pratod Kasbekar</td>\n",
       "      <td>motorola-mobility</td>\n",
       "      <td>pratod-kasbekar-a088b64</td>\n",
       "      <td>pkasbekar@verizon.net</td>\n",
       "      <td>Senior Director of Program Management/Engineering</td>\n",
       "      <td>United States</td>\n",
       "      <td>0.0</td>\n",
       "      <td>2006-01-01 00:00:00+00:00</td>\n",
       "      <td>...</td>\n",
       "      <td>2017.0</td>\n",
       "      <td>26954.0</td>\n",
       "      <td>0.0</td>\n",
       "      <td>0.0</td>\n",
       "      <td>NaN</td>\n",
       "      <td>NaN</td>\n",
       "      <td>NaN</td>\n",
       "      <td>63.7659</td>\n",
       "      <td>63.765900</td>\n",
       "      <td>5265 days 16:25:25.000000000</td>\n",
       "    </tr>\n",
       "    <tr>\n",
       "      <td>3</td>\n",
       "      <td>motorola</td>\n",
       "      <td>60545</td>\n",
       "      <td>Pamela Ajaibela</td>\n",
       "      <td>motorola-mobility</td>\n",
       "      <td>pamelaajaibela</td>\n",
       "      <td>pamelapajaibela@gmail.com</td>\n",
       "      <td>Director</td>\n",
       "      <td>San Francisco Bay Area</td>\n",
       "      <td>0.0</td>\n",
       "      <td>2007-02-01 00:00:00+00:00</td>\n",
       "      <td>...</td>\n",
       "      <td>2017.0</td>\n",
       "      <td>26954.0</td>\n",
       "      <td>0.0</td>\n",
       "      <td>0.0</td>\n",
       "      <td>NaN</td>\n",
       "      <td>NaN</td>\n",
       "      <td>NaN</td>\n",
       "      <td>63.7659</td>\n",
       "      <td>63.765900</td>\n",
       "      <td>4869 days 16:25:25.000000000</td>\n",
       "    </tr>\n",
       "    <tr>\n",
       "      <td>4</td>\n",
       "      <td>motorola</td>\n",
       "      <td>60546</td>\n",
       "      <td>paul burnett</td>\n",
       "      <td>NaN</td>\n",
       "      <td>paul-burnett-73189b23</td>\n",
       "      <td>pburnett66@rogers.com</td>\n",
       "      <td>Channel Director</td>\n",
       "      <td>Canada</td>\n",
       "      <td>0.0</td>\n",
       "      <td>1970-01-01 00:00:00.000002017+00:00</td>\n",
       "      <td>...</td>\n",
       "      <td>2017.0</td>\n",
       "      <td>26954.0</td>\n",
       "      <td>0.0</td>\n",
       "      <td>0.0</td>\n",
       "      <td>NaN</td>\n",
       "      <td>NaN</td>\n",
       "      <td>NaN</td>\n",
       "      <td>63.7659</td>\n",
       "      <td>63.765900</td>\n",
       "      <td>18414 days 16:25:24.999997983</td>\n",
       "    </tr>\n",
       "  </tbody>\n",
       "</table>\n",
       "<p>5 rows × 31 columns</p>\n",
       "</div>"
      ],
      "text/plain": [
       "  brand_uuid       id        full_name       company_slug  \\\n",
       "0   motorola  2015583   Michaël Maarek  motorola-mobility   \n",
       "1   motorola  2048222  Michael Roberts  motorola-mobility   \n",
       "2   motorola    60552  Pratod Kasbekar  motorola-mobility   \n",
       "3   motorola    60545  Pamela Ajaibela  motorola-mobility   \n",
       "4   motorola    60546     paul burnett                NaN   \n",
       "\n",
       "                      slug                      email  \\\n",
       "0            michaelmaarek         lemike10@gmail.com   \n",
       "1         michaelroberts07    msajs.roberts@gmail.com   \n",
       "2  pratod-kasbekar-a088b64      pkasbekar@verizon.net   \n",
       "3           pamelaajaibela  pamelapajaibela@gmail.com   \n",
       "4    paul-burnett-73189b23      pburnett66@rogers.com   \n",
       "\n",
       "                                           job_title                location  \\\n",
       "0                               Key Account Director  London, United Kingdom   \n",
       "1  Sr. Director of Product Strategy and Business ...  Greater San Diego Area   \n",
       "2  Senior Director of Program Management/Engineering           United States   \n",
       "3                                           Director  San Francisco Bay Area   \n",
       "4                                   Channel Director                  Canada   \n",
       "\n",
       "   is_c_level                        working_since  ... founded  \\\n",
       "0         0.0            2014-08-01 00:00:00+00:00  ...  2017.0   \n",
       "1         0.0            2010-08-01 00:00:00+00:00  ...  2017.0   \n",
       "2         0.0            2006-01-01 00:00:00+00:00  ...  2017.0   \n",
       "3         0.0            2007-02-01 00:00:00+00:00  ...  2017.0   \n",
       "4         0.0  1970-01-01 00:00:00.000002017+00:00  ...  2017.0   \n",
       "\n",
       "   employees_count  generic_reseller store_is_subdomain  product_prices_mean  \\\n",
       "0          26954.0               0.0                0.0                  NaN   \n",
       "1          26954.0               0.0                0.0                  NaN   \n",
       "2          26954.0               0.0                0.0                  NaN   \n",
       "3          26954.0               0.0                0.0                  NaN   \n",
       "4          26954.0               0.0                0.0                  NaN   \n",
       "\n",
       "   product_prices_max  product_prices_min  cred_1_growth_score_max  \\\n",
       "0                 NaN                 NaN                  63.7659   \n",
       "1                 NaN                 NaN                  63.7659   \n",
       "2                 NaN                 NaN                  63.7659   \n",
       "3                 NaN                 NaN                  63.7659   \n",
       "4                 NaN                 NaN                  63.7659   \n",
       "\n",
       "   cred_2_growth_score_mean                    time_worked  \n",
       "0                 40.933333    853 days 00:00:00.000000000  \n",
       "1                 31.882950    731 days 00:00:00.000000000  \n",
       "2                 63.765900   5265 days 16:25:25.000000000  \n",
       "3                 63.765900   4869 days 16:25:25.000000000  \n",
       "4                 63.765900  18414 days 16:25:24.999997983  \n",
       "\n",
       "[5 rows x 31 columns]"
      ]
     },
     "execution_count": 10,
     "metadata": {},
     "output_type": "execute_result"
    }
   ],
   "source": [
    "#In this in one go, we computed the max growth score (max of all growth scores associated to a person) as the first option of credibility score, \n",
    "combined_data['cred_1_growth_score_max'] = group_by_slug['growth_score'].transform('max')\n",
    "combined_data.head()"
   ]
  },
  {
   "cell_type": "code",
   "execution_count": 11,
   "metadata": {},
   "outputs": [
    {
     "data": {
      "text/html": [
       "<div>\n",
       "<style scoped>\n",
       "    .dataframe tbody tr th:only-of-type {\n",
       "        vertical-align: middle;\n",
       "    }\n",
       "\n",
       "    .dataframe tbody tr th {\n",
       "        vertical-align: top;\n",
       "    }\n",
       "\n",
       "    .dataframe thead th {\n",
       "        text-align: right;\n",
       "    }\n",
       "</style>\n",
       "<table border=\"1\" class=\"dataframe\">\n",
       "  <thead>\n",
       "    <tr style=\"text-align: right;\">\n",
       "      <th></th>\n",
       "      <th>brand_uuid</th>\n",
       "      <th>id</th>\n",
       "      <th>full_name</th>\n",
       "      <th>company_slug</th>\n",
       "      <th>slug</th>\n",
       "      <th>email</th>\n",
       "      <th>job_title</th>\n",
       "      <th>location</th>\n",
       "      <th>is_c_level</th>\n",
       "      <th>working_since</th>\n",
       "      <th>...</th>\n",
       "      <th>founded</th>\n",
       "      <th>employees_count</th>\n",
       "      <th>generic_reseller</th>\n",
       "      <th>store_is_subdomain</th>\n",
       "      <th>product_prices_mean</th>\n",
       "      <th>product_prices_max</th>\n",
       "      <th>product_prices_min</th>\n",
       "      <th>cred_1_growth_score_max</th>\n",
       "      <th>cred_2_growth_score_mean</th>\n",
       "      <th>time_worked</th>\n",
       "    </tr>\n",
       "  </thead>\n",
       "  <tbody>\n",
       "    <tr>\n",
       "      <td>0</td>\n",
       "      <td>motorola</td>\n",
       "      <td>2015583</td>\n",
       "      <td>Michaël Maarek</td>\n",
       "      <td>motorola-mobility</td>\n",
       "      <td>michaelmaarek</td>\n",
       "      <td>lemike10@gmail.com</td>\n",
       "      <td>Key Account Director</td>\n",
       "      <td>London, United Kingdom</td>\n",
       "      <td>0.0</td>\n",
       "      <td>2014-08-01 00:00:00+00:00</td>\n",
       "      <td>...</td>\n",
       "      <td>2017.0</td>\n",
       "      <td>26954.0</td>\n",
       "      <td>0.0</td>\n",
       "      <td>0.0</td>\n",
       "      <td>NaN</td>\n",
       "      <td>NaN</td>\n",
       "      <td>NaN</td>\n",
       "      <td>63.7659</td>\n",
       "      <td>40.933333</td>\n",
       "      <td>853 days 00:00:00.000000000</td>\n",
       "    </tr>\n",
       "    <tr>\n",
       "      <td>1</td>\n",
       "      <td>motorola</td>\n",
       "      <td>2048222</td>\n",
       "      <td>Michael Roberts</td>\n",
       "      <td>motorola-mobility</td>\n",
       "      <td>michaelroberts07</td>\n",
       "      <td>msajs.roberts@gmail.com</td>\n",
       "      <td>Sr. Director of Product Strategy and Business ...</td>\n",
       "      <td>Greater San Diego Area</td>\n",
       "      <td>0.0</td>\n",
       "      <td>2010-08-01 00:00:00+00:00</td>\n",
       "      <td>...</td>\n",
       "      <td>2017.0</td>\n",
       "      <td>26954.0</td>\n",
       "      <td>0.0</td>\n",
       "      <td>0.0</td>\n",
       "      <td>NaN</td>\n",
       "      <td>NaN</td>\n",
       "      <td>NaN</td>\n",
       "      <td>63.7659</td>\n",
       "      <td>31.882950</td>\n",
       "      <td>731 days 00:00:00.000000000</td>\n",
       "    </tr>\n",
       "    <tr>\n",
       "      <td>2</td>\n",
       "      <td>motorola</td>\n",
       "      <td>60552</td>\n",
       "      <td>Pratod Kasbekar</td>\n",
       "      <td>motorola-mobility</td>\n",
       "      <td>pratod-kasbekar-a088b64</td>\n",
       "      <td>pkasbekar@verizon.net</td>\n",
       "      <td>Senior Director of Program Management/Engineering</td>\n",
       "      <td>United States</td>\n",
       "      <td>0.0</td>\n",
       "      <td>2006-01-01 00:00:00+00:00</td>\n",
       "      <td>...</td>\n",
       "      <td>2017.0</td>\n",
       "      <td>26954.0</td>\n",
       "      <td>0.0</td>\n",
       "      <td>0.0</td>\n",
       "      <td>NaN</td>\n",
       "      <td>NaN</td>\n",
       "      <td>NaN</td>\n",
       "      <td>63.7659</td>\n",
       "      <td>63.765900</td>\n",
       "      <td>5265 days 16:25:25.000000000</td>\n",
       "    </tr>\n",
       "    <tr>\n",
       "      <td>3</td>\n",
       "      <td>motorola</td>\n",
       "      <td>60545</td>\n",
       "      <td>Pamela Ajaibela</td>\n",
       "      <td>motorola-mobility</td>\n",
       "      <td>pamelaajaibela</td>\n",
       "      <td>pamelapajaibela@gmail.com</td>\n",
       "      <td>Director</td>\n",
       "      <td>San Francisco Bay Area</td>\n",
       "      <td>0.0</td>\n",
       "      <td>2007-02-01 00:00:00+00:00</td>\n",
       "      <td>...</td>\n",
       "      <td>2017.0</td>\n",
       "      <td>26954.0</td>\n",
       "      <td>0.0</td>\n",
       "      <td>0.0</td>\n",
       "      <td>NaN</td>\n",
       "      <td>NaN</td>\n",
       "      <td>NaN</td>\n",
       "      <td>63.7659</td>\n",
       "      <td>63.765900</td>\n",
       "      <td>4869 days 16:25:25.000000000</td>\n",
       "    </tr>\n",
       "    <tr>\n",
       "      <td>4</td>\n",
       "      <td>motorola</td>\n",
       "      <td>60546</td>\n",
       "      <td>paul burnett</td>\n",
       "      <td>NaN</td>\n",
       "      <td>paul-burnett-73189b23</td>\n",
       "      <td>pburnett66@rogers.com</td>\n",
       "      <td>Channel Director</td>\n",
       "      <td>Canada</td>\n",
       "      <td>0.0</td>\n",
       "      <td>1970-01-01 00:00:00.000002017+00:00</td>\n",
       "      <td>...</td>\n",
       "      <td>2017.0</td>\n",
       "      <td>26954.0</td>\n",
       "      <td>0.0</td>\n",
       "      <td>0.0</td>\n",
       "      <td>NaN</td>\n",
       "      <td>NaN</td>\n",
       "      <td>NaN</td>\n",
       "      <td>63.7659</td>\n",
       "      <td>63.765900</td>\n",
       "      <td>18414 days 16:25:24.999997983</td>\n",
       "    </tr>\n",
       "  </tbody>\n",
       "</table>\n",
       "<p>5 rows × 31 columns</p>\n",
       "</div>"
      ],
      "text/plain": [
       "  brand_uuid       id        full_name       company_slug  \\\n",
       "0   motorola  2015583   Michaël Maarek  motorola-mobility   \n",
       "1   motorola  2048222  Michael Roberts  motorola-mobility   \n",
       "2   motorola    60552  Pratod Kasbekar  motorola-mobility   \n",
       "3   motorola    60545  Pamela Ajaibela  motorola-mobility   \n",
       "4   motorola    60546     paul burnett                NaN   \n",
       "\n",
       "                      slug                      email  \\\n",
       "0            michaelmaarek         lemike10@gmail.com   \n",
       "1         michaelroberts07    msajs.roberts@gmail.com   \n",
       "2  pratod-kasbekar-a088b64      pkasbekar@verizon.net   \n",
       "3           pamelaajaibela  pamelapajaibela@gmail.com   \n",
       "4    paul-burnett-73189b23      pburnett66@rogers.com   \n",
       "\n",
       "                                           job_title                location  \\\n",
       "0                               Key Account Director  London, United Kingdom   \n",
       "1  Sr. Director of Product Strategy and Business ...  Greater San Diego Area   \n",
       "2  Senior Director of Program Management/Engineering           United States   \n",
       "3                                           Director  San Francisco Bay Area   \n",
       "4                                   Channel Director                  Canada   \n",
       "\n",
       "   is_c_level                        working_since  ... founded  \\\n",
       "0         0.0            2014-08-01 00:00:00+00:00  ...  2017.0   \n",
       "1         0.0            2010-08-01 00:00:00+00:00  ...  2017.0   \n",
       "2         0.0            2006-01-01 00:00:00+00:00  ...  2017.0   \n",
       "3         0.0            2007-02-01 00:00:00+00:00  ...  2017.0   \n",
       "4         0.0  1970-01-01 00:00:00.000002017+00:00  ...  2017.0   \n",
       "\n",
       "   employees_count  generic_reseller store_is_subdomain  product_prices_mean  \\\n",
       "0          26954.0               0.0                0.0                  NaN   \n",
       "1          26954.0               0.0                0.0                  NaN   \n",
       "2          26954.0               0.0                0.0                  NaN   \n",
       "3          26954.0               0.0                0.0                  NaN   \n",
       "4          26954.0               0.0                0.0                  NaN   \n",
       "\n",
       "   product_prices_max  product_prices_min  cred_1_growth_score_max  \\\n",
       "0                 NaN                 NaN                  63.7659   \n",
       "1                 NaN                 NaN                  63.7659   \n",
       "2                 NaN                 NaN                  63.7659   \n",
       "3                 NaN                 NaN                  63.7659   \n",
       "4                 NaN                 NaN                  63.7659   \n",
       "\n",
       "   cred_2_growth_score_mean                    time_worked  \n",
       "0                 40.933333    853 days 00:00:00.000000000  \n",
       "1                 31.882950    731 days 00:00:00.000000000  \n",
       "2                 63.765900   5265 days 16:25:25.000000000  \n",
       "3                 63.765900   4869 days 16:25:25.000000000  \n",
       "4                 63.765900  18414 days 16:25:24.999997983  \n",
       "\n",
       "[5 rows x 31 columns]"
      ]
     },
     "execution_count": 11,
     "metadata": {},
     "output_type": "execute_result"
    }
   ],
   "source": [
    "#do the same thing as before but now setting cred score to be the mean of the growth scores\n",
    "combined_data['cred_2_growth_score_mean'] = group_by_slug['growth_score'].transform('mean')\n",
    "combined_data.head()"
   ]
  },
  {
   "cell_type": "code",
   "execution_count": 34,
   "metadata": {},
   "outputs": [
    {
     "name": "stdout",
     "output_type": "stream",
     "text": [
      "Number of unique job titles is  714331\n"
     ]
    }
   ],
   "source": [
    "#want to check number of unique job titles, this is to check if we can afford converting them to categorical variables\n",
    "print('Number of unique job titles is ', combined_data['job_title'].nunique())"
   ]
  },
  {
   "cell_type": "code",
   "execution_count": 53,
   "metadata": {},
   "outputs": [
    {
     "data": {
      "text/plain": [
       "<seaborn.axisgrid.FacetGrid at 0x121d130e048>"
      ]
     },
     "execution_count": 53,
     "metadata": {},
     "output_type": "execute_result"
    },
    {
     "data": {
      "text/plain": [
       "<Figure size 1440x1440 with 0 Axes>"
      ]
     },
     "metadata": {},
     "output_type": "display_data"
    },
    {
     "data": {
      "image/png": "[encoded data removed]",
      "text/plain": [
       "<Figure size 417.625x360 with 1 Axes>"
      ]
     },
     "metadata": {
      "needs_background": "light"
     },
     "output_type": "display_data"
    }
   ],
   "source": [
    "plt.figure(figsize=(20,20))\n",
    "sns.catplot(x=\"is_c_level\", y=\"cred_1_growth_score_max\", data=combined_data, hue = 'is_current')"
   ]
  },
  {
   "cell_type": "code",
   "execution_count": 12,
   "metadata": {},
   "outputs": [],
   "source": [
    "#filling in the working_since column\n",
    "combined_data.loc[((combined_data['working_since'].isnull()) & (combined_data['is_current'] == True)), 'working_since'] = combined_data['founded'] "
   ]
  },
  {
   "cell_type": "code",
   "execution_count": 37,
   "metadata": {},
   "outputs": [
    {
     "data": {
      "text/plain": [
       "brand_uuid                        484\n",
       "id                                  0\n",
       "full_name                           0\n",
       "company_slug                   637537\n",
       "slug                                0\n",
       "email                          898656\n",
       "job_title                          74\n",
       "location                       135788\n",
       "is_c_level                          0\n",
       "working_since                   11925\n",
       "working_until                       0\n",
       "is_current                          0\n",
       "brand_id                            0\n",
       "brand_name                         35\n",
       "growth_score                        0\n",
       "sudden_growth_score                 0\n",
       "sudden_growth_delta                 0\n",
       "acceleration_score                  0\n",
       "success_score                       0\n",
       "is_physical_products_brand        355\n",
       "is_brickandmortar                 486\n",
       "founded                         32661\n",
       "employees_count                961897\n",
       "generic_reseller                    0\n",
       "store_is_subdomain                  0\n",
       "product_prices_mean           1265129\n",
       "product_prices_max            1265129\n",
       "product_prices_min            1265129\n",
       "cred_1_growth_score_max             0\n",
       "cred_2_growth_score_mean            0\n",
       "dtype: int64"
      ]
     },
     "execution_count": 37,
     "metadata": {},
     "output_type": "execute_result"
    }
   ],
   "source": [
    "combined_data.isnull().sum()"
   ]
  },
  {
   "cell_type": "code",
   "execution_count": 14,
   "metadata": {},
   "outputs": [],
   "source": [
    "#convert both working_since and working_until to date time format\n",
    "combined_data['working_since'] = pd.to_datetime(combined_data['working_since'], utc = True)"
   ]
  },
  {
   "cell_type": "code",
   "execution_count": 15,
   "metadata": {},
   "outputs": [],
   "source": [
    "combined_data['working_until'] = pd.to_datetime(combined_data['working_until'], utc = True)"
   ]
  },
  {
   "cell_type": "code",
   "execution_count": 16,
   "metadata": {},
   "outputs": [
    {
     "name": "stdout",
     "output_type": "stream",
     "text": [
      "<class 'pandas.core.frame.DataFrame'>\n",
      "Int64Index: 1546517 entries, 0 to 1546516\n",
      "Data columns (total 31 columns):\n",
      "brand_uuid                    1546033 non-null object\n",
      "id                            1546517 non-null int64\n",
      "full_name                     1546517 non-null object\n",
      "company_slug                  908980 non-null object\n",
      "slug                          1546517 non-null object\n",
      "email                         647861 non-null object\n",
      "job_title                     1546443 non-null object\n",
      "location                      1410729 non-null object\n",
      "is_c_level                    1546517 non-null float64\n",
      "working_since                 1534592 non-null datetime64[ns, UTC]\n",
      "working_until                 1546517 non-null datetime64[ns, UTC]\n",
      "is_current                    1546517 non-null float64\n",
      "brand_id                      1546517 non-null int64\n",
      "brand_name                    1546482 non-null object\n",
      "growth_score                  1546517 non-null float64\n",
      "sudden_growth_score           1546517 non-null float64\n",
      "sudden_growth_delta           1546517 non-null float64\n",
      "acceleration_score            1546517 non-null float64\n",
      "success_score                 1546517 non-null float64\n",
      "is_physical_products_brand    1546162 non-null float64\n",
      "is_brickandmortar             1546031 non-null float64\n",
      "founded                       1513856 non-null float64\n",
      "employees_count               584620 non-null float64\n",
      "generic_reseller              1546517 non-null float64\n",
      "store_is_subdomain            1546517 non-null float64\n",
      "product_prices_mean           281388 non-null float64\n",
      "product_prices_max            281388 non-null float64\n",
      "product_prices_min            281388 non-null float64\n",
      "cred_1_growth_score_max       1546517 non-null float64\n",
      "cred_2_growth_score_mean      1546517 non-null float64\n",
      "time_worked                   1534592 non-null object\n",
      "dtypes: datetime64[ns, UTC](2), float64(18), int64(2), object(9)\n",
      "memory usage: 417.6+ MB\n"
     ]
    }
   ],
   "source": [
    "combined_data.info()"
   ]
  },
  {
   "cell_type": "code",
   "execution_count": 17,
   "metadata": {},
   "outputs": [],
   "source": [
    "combined_data['time_worked'] = combined_data['working_until'] - combined_data['working_since']"
   ]
  },
  {
   "cell_type": "code",
   "execution_count": 18,
   "metadata": {},
   "outputs": [],
   "source": [
    "combined_data['days_worked'] = combined_data['time_worked'].dt.days"
   ]
  },
  {
   "cell_type": "code",
   "execution_count": 19,
   "metadata": {},
   "outputs": [
    {
     "data": {
      "text/html": [
       "<div>\n",
       "<style scoped>\n",
       "    .dataframe tbody tr th:only-of-type {\n",
       "        vertical-align: middle;\n",
       "    }\n",
       "\n",
       "    .dataframe tbody tr th {\n",
       "        vertical-align: top;\n",
       "    }\n",
       "\n",
       "    .dataframe thead th {\n",
       "        text-align: right;\n",
       "    }\n",
       "</style>\n",
       "<table border=\"1\" class=\"dataframe\">\n",
       "  <thead>\n",
       "    <tr style=\"text-align: right;\">\n",
       "      <th></th>\n",
       "      <th>brand_uuid</th>\n",
       "      <th>id</th>\n",
       "      <th>full_name</th>\n",
       "      <th>company_slug</th>\n",
       "      <th>slug</th>\n",
       "      <th>email</th>\n",
       "      <th>job_title</th>\n",
       "      <th>location</th>\n",
       "      <th>is_c_level</th>\n",
       "      <th>working_since</th>\n",
       "      <th>...</th>\n",
       "      <th>employees_count</th>\n",
       "      <th>generic_reseller</th>\n",
       "      <th>store_is_subdomain</th>\n",
       "      <th>product_prices_mean</th>\n",
       "      <th>product_prices_max</th>\n",
       "      <th>product_prices_min</th>\n",
       "      <th>cred_1_growth_score_max</th>\n",
       "      <th>cred_2_growth_score_mean</th>\n",
       "      <th>time_worked</th>\n",
       "      <th>days_worked</th>\n",
       "    </tr>\n",
       "  </thead>\n",
       "  <tbody>\n",
       "    <tr>\n",
       "      <td>0</td>\n",
       "      <td>motorola</td>\n",
       "      <td>2015583</td>\n",
       "      <td>Michaël Maarek</td>\n",
       "      <td>motorola-mobility</td>\n",
       "      <td>michaelmaarek</td>\n",
       "      <td>lemike10@gmail.com</td>\n",
       "      <td>Key Account Director</td>\n",
       "      <td>London, United Kingdom</td>\n",
       "      <td>0.0</td>\n",
       "      <td>2014-08-01 00:00:00+00:00</td>\n",
       "      <td>...</td>\n",
       "      <td>26954.0</td>\n",
       "      <td>0.0</td>\n",
       "      <td>0.0</td>\n",
       "      <td>NaN</td>\n",
       "      <td>NaN</td>\n",
       "      <td>NaN</td>\n",
       "      <td>63.7659</td>\n",
       "      <td>40.933333</td>\n",
       "      <td>853 days 00:00:00</td>\n",
       "      <td>853.0</td>\n",
       "    </tr>\n",
       "    <tr>\n",
       "      <td>1</td>\n",
       "      <td>motorola</td>\n",
       "      <td>2048222</td>\n",
       "      <td>Michael Roberts</td>\n",
       "      <td>motorola-mobility</td>\n",
       "      <td>michaelroberts07</td>\n",
       "      <td>msajs.roberts@gmail.com</td>\n",
       "      <td>Sr. Director of Product Strategy and Business ...</td>\n",
       "      <td>Greater San Diego Area</td>\n",
       "      <td>0.0</td>\n",
       "      <td>2010-08-01 00:00:00+00:00</td>\n",
       "      <td>...</td>\n",
       "      <td>26954.0</td>\n",
       "      <td>0.0</td>\n",
       "      <td>0.0</td>\n",
       "      <td>NaN</td>\n",
       "      <td>NaN</td>\n",
       "      <td>NaN</td>\n",
       "      <td>63.7659</td>\n",
       "      <td>31.882950</td>\n",
       "      <td>731 days 00:00:00</td>\n",
       "      <td>731.0</td>\n",
       "    </tr>\n",
       "    <tr>\n",
       "      <td>2</td>\n",
       "      <td>motorola</td>\n",
       "      <td>60552</td>\n",
       "      <td>Pratod Kasbekar</td>\n",
       "      <td>motorola-mobility</td>\n",
       "      <td>pratod-kasbekar-a088b64</td>\n",
       "      <td>pkasbekar@verizon.net</td>\n",
       "      <td>Senior Director of Program Management/Engineering</td>\n",
       "      <td>United States</td>\n",
       "      <td>0.0</td>\n",
       "      <td>2006-01-01 00:00:00+00:00</td>\n",
       "      <td>...</td>\n",
       "      <td>26954.0</td>\n",
       "      <td>0.0</td>\n",
       "      <td>0.0</td>\n",
       "      <td>NaN</td>\n",
       "      <td>NaN</td>\n",
       "      <td>NaN</td>\n",
       "      <td>63.7659</td>\n",
       "      <td>63.765900</td>\n",
       "      <td>5265 days 16:25:25</td>\n",
       "      <td>5265.0</td>\n",
       "    </tr>\n",
       "    <tr>\n",
       "      <td>3</td>\n",
       "      <td>motorola</td>\n",
       "      <td>60545</td>\n",
       "      <td>Pamela Ajaibela</td>\n",
       "      <td>motorola-mobility</td>\n",
       "      <td>pamelaajaibela</td>\n",
       "      <td>pamelapajaibela@gmail.com</td>\n",
       "      <td>Director</td>\n",
       "      <td>San Francisco Bay Area</td>\n",
       "      <td>0.0</td>\n",
       "      <td>2007-02-01 00:00:00+00:00</td>\n",
       "      <td>...</td>\n",
       "      <td>26954.0</td>\n",
       "      <td>0.0</td>\n",
       "      <td>0.0</td>\n",
       "      <td>NaN</td>\n",
       "      <td>NaN</td>\n",
       "      <td>NaN</td>\n",
       "      <td>63.7659</td>\n",
       "      <td>63.765900</td>\n",
       "      <td>4869 days 16:25:25</td>\n",
       "      <td>4869.0</td>\n",
       "    </tr>\n",
       "    <tr>\n",
       "      <td>4</td>\n",
       "      <td>motorola</td>\n",
       "      <td>60546</td>\n",
       "      <td>paul burnett</td>\n",
       "      <td>NaN</td>\n",
       "      <td>paul-burnett-73189b23</td>\n",
       "      <td>pburnett66@rogers.com</td>\n",
       "      <td>Channel Director</td>\n",
       "      <td>Canada</td>\n",
       "      <td>0.0</td>\n",
       "      <td>1970-01-01 00:00:00.000002017+00:00</td>\n",
       "      <td>...</td>\n",
       "      <td>26954.0</td>\n",
       "      <td>0.0</td>\n",
       "      <td>0.0</td>\n",
       "      <td>NaN</td>\n",
       "      <td>NaN</td>\n",
       "      <td>NaN</td>\n",
       "      <td>63.7659</td>\n",
       "      <td>63.765900</td>\n",
       "      <td>18414 days 16:25:24.999997</td>\n",
       "      <td>18414.0</td>\n",
       "    </tr>\n",
       "  </tbody>\n",
       "</table>\n",
       "<p>5 rows × 32 columns</p>\n",
       "</div>"
      ],
      "text/plain": [
       "  brand_uuid       id        full_name       company_slug  \\\n",
       "0   motorola  2015583   Michaël Maarek  motorola-mobility   \n",
       "1   motorola  2048222  Michael Roberts  motorola-mobility   \n",
       "2   motorola    60552  Pratod Kasbekar  motorola-mobility   \n",
       "3   motorola    60545  Pamela Ajaibela  motorola-mobility   \n",
       "4   motorola    60546     paul burnett                NaN   \n",
       "\n",
       "                      slug                      email  \\\n",
       "0            michaelmaarek         lemike10@gmail.com   \n",
       "1         michaelroberts07    msajs.roberts@gmail.com   \n",
       "2  pratod-kasbekar-a088b64      pkasbekar@verizon.net   \n",
       "3           pamelaajaibela  pamelapajaibela@gmail.com   \n",
       "4    paul-burnett-73189b23      pburnett66@rogers.com   \n",
       "\n",
       "                                           job_title                location  \\\n",
       "0                               Key Account Director  London, United Kingdom   \n",
       "1  Sr. Director of Product Strategy and Business ...  Greater San Diego Area   \n",
       "2  Senior Director of Program Management/Engineering           United States   \n",
       "3                                           Director  San Francisco Bay Area   \n",
       "4                                   Channel Director                  Canada   \n",
       "\n",
       "   is_c_level                       working_since  ... employees_count  \\\n",
       "0         0.0           2014-08-01 00:00:00+00:00  ...         26954.0   \n",
       "1         0.0           2010-08-01 00:00:00+00:00  ...         26954.0   \n",
       "2         0.0           2006-01-01 00:00:00+00:00  ...         26954.0   \n",
       "3         0.0           2007-02-01 00:00:00+00:00  ...         26954.0   \n",
       "4         0.0 1970-01-01 00:00:00.000002017+00:00  ...         26954.0   \n",
       "\n",
       "   generic_reseller  store_is_subdomain product_prices_mean  \\\n",
       "0               0.0                 0.0                 NaN   \n",
       "1               0.0                 0.0                 NaN   \n",
       "2               0.0                 0.0                 NaN   \n",
       "3               0.0                 0.0                 NaN   \n",
       "4               0.0                 0.0                 NaN   \n",
       "\n",
       "   product_prices_max  product_prices_min  cred_1_growth_score_max  \\\n",
       "0                 NaN                 NaN                  63.7659   \n",
       "1                 NaN                 NaN                  63.7659   \n",
       "2                 NaN                 NaN                  63.7659   \n",
       "3                 NaN                 NaN                  63.7659   \n",
       "4                 NaN                 NaN                  63.7659   \n",
       "\n",
       "   cred_2_growth_score_mean                time_worked  days_worked  \n",
       "0                 40.933333          853 days 00:00:00        853.0  \n",
       "1                 31.882950          731 days 00:00:00        731.0  \n",
       "2                 63.765900         5265 days 16:25:25       5265.0  \n",
       "3                 63.765900         4869 days 16:25:25       4869.0  \n",
       "4                 63.765900 18414 days 16:25:24.999997      18414.0  \n",
       "\n",
       "[5 rows x 32 columns]"
      ]
     },
     "execution_count": 19,
     "metadata": {},
     "output_type": "execute_result"
    }
   ],
   "source": [
    "combined_data.head()"
   ]
  },
  {
   "cell_type": "code",
   "execution_count": 20,
   "metadata": {},
   "outputs": [
    {
     "data": {
      "text/plain": [
       "Index(['brand_uuid', 'id', 'full_name', 'company_slug', 'slug', 'email',\n",
       "       'job_title', 'location', 'is_c_level', 'working_since', 'working_until',\n",
       "       'is_current', 'brand_id', 'brand_name', 'growth_score',\n",
       "       'sudden_growth_score', 'sudden_growth_delta', 'acceleration_score',\n",
       "       'success_score', 'is_physical_products_brand', 'is_brickandmortar',\n",
       "       'founded', 'employees_count', 'generic_reseller', 'store_is_subdomain',\n",
       "       'product_prices_mean', 'product_prices_max', 'product_prices_min',\n",
       "       'cred_1_growth_score_max', 'cred_2_growth_score_mean', 'time_worked',\n",
       "       'days_worked'],\n",
       "      dtype='object')"
      ]
     },
     "execution_count": 20,
     "metadata": {},
     "output_type": "execute_result"
    }
   ],
   "source": [
    "combined_data.columns"
   ]
  },
  {
   "cell_type": "code",
   "execution_count": 22,
   "metadata": {},
   "outputs": [
    {
     "name": "stdout",
     "output_type": "stream",
     "text": [
      "<class 'pandas.core.frame.DataFrame'>\n",
      "Int64Index: 1546517 entries, 0 to 1546516\n",
      "Data columns (total 32 columns):\n",
      "brand_uuid                    1546033 non-null object\n",
      "id                            1546517 non-null int64\n",
      "full_name                     1546517 non-null object\n",
      "company_slug                  908980 non-null object\n",
      "slug                          1546517 non-null object\n",
      "email                         647861 non-null object\n",
      "job_title                     1546443 non-null object\n",
      "location                      1410729 non-null object\n",
      "is_c_level                    1546517 non-null float64\n",
      "working_since                 1534592 non-null datetime64[ns, UTC]\n",
      "working_until                 1546517 non-null datetime64[ns, UTC]\n",
      "is_current                    1546517 non-null float64\n",
      "brand_id                      1546517 non-null int64\n",
      "brand_name                    1546482 non-null object\n",
      "growth_score                  1546517 non-null float64\n",
      "sudden_growth_score           1546517 non-null float64\n",
      "sudden_growth_delta           1546517 non-null float64\n",
      "acceleration_score            1546517 non-null float64\n",
      "success_score                 1546517 non-null float64\n",
      "is_physical_products_brand    1546162 non-null float64\n",
      "is_brickandmortar             1546031 non-null float64\n",
      "founded                       1513856 non-null float64\n",
      "employees_count               584620 non-null float64\n",
      "generic_reseller              1546517 non-null float64\n",
      "store_is_subdomain            1546517 non-null float64\n",
      "product_prices_mean           281388 non-null float64\n",
      "product_prices_max            281388 non-null float64\n",
      "product_prices_min            281388 non-null float64\n",
      "cred_1_growth_score_max       1546517 non-null float64\n",
      "cred_2_growth_score_mean      1546517 non-null float64\n",
      "time_worked                   1534592 non-null timedelta64[ns]\n",
      "days_worked                   1534592 non-null float64\n",
      "dtypes: datetime64[ns, UTC](2), float64(19), int64(2), object(8), timedelta64[ns](1)\n",
      "memory usage: 429.4+ MB\n"
     ]
    }
   ],
   "source": [
    "combined_data.info()"
   ]
  },
  {
   "cell_type": "code",
   "execution_count": 23,
   "metadata": {},
   "outputs": [],
   "source": [
    "#convert founded column to date time format\n",
    "combined_data['founded_date'] = pd.to_datetime(combined_data['founded'], utc = True)"
   ]
  },
  {
   "cell_type": "code",
   "execution_count": 24,
   "metadata": {},
   "outputs": [
    {
     "name": "stdout",
     "output_type": "stream",
     "text": [
      "now = 2020-06-04 08:16:36.791564\n"
     ]
    }
   ],
   "source": [
    "#checking datetime object\n",
    "from datetime import datetime\n",
    "\n",
    "# datetime object containing current date and time\n",
    "now = datetime.now()\n",
    " \n",
    "print(\"now =\", now) "
   ]
  },
  {
   "cell_type": "code",
   "execution_count": 27,
   "metadata": {},
   "outputs": [
    {
     "data": {
      "text/html": [
       "<div>\n",
       "<style scoped>\n",
       "    .dataframe tbody tr th:only-of-type {\n",
       "        vertical-align: middle;\n",
       "    }\n",
       "\n",
       "    .dataframe tbody tr th {\n",
       "        vertical-align: top;\n",
       "    }\n",
       "\n",
       "    .dataframe thead th {\n",
       "        text-align: right;\n",
       "    }\n",
       "</style>\n",
       "<table border=\"1\" class=\"dataframe\">\n",
       "  <thead>\n",
       "    <tr style=\"text-align: right;\">\n",
       "      <th></th>\n",
       "      <th>brand_uuid</th>\n",
       "      <th>id</th>\n",
       "      <th>full_name</th>\n",
       "      <th>company_slug</th>\n",
       "      <th>slug</th>\n",
       "      <th>email</th>\n",
       "      <th>job_title</th>\n",
       "      <th>location</th>\n",
       "      <th>is_c_level</th>\n",
       "      <th>working_since</th>\n",
       "      <th>...</th>\n",
       "      <th>store_is_subdomain</th>\n",
       "      <th>product_prices_mean</th>\n",
       "      <th>product_prices_max</th>\n",
       "      <th>product_prices_min</th>\n",
       "      <th>cred_1_growth_score_max</th>\n",
       "      <th>cred_2_growth_score_mean</th>\n",
       "      <th>time_worked</th>\n",
       "      <th>days_worked</th>\n",
       "      <th>founded_date</th>\n",
       "      <th>today</th>\n",
       "    </tr>\n",
       "  </thead>\n",
       "  <tbody>\n",
       "    <tr>\n",
       "      <td>0</td>\n",
       "      <td>motorola</td>\n",
       "      <td>2015583</td>\n",
       "      <td>Michaël Maarek</td>\n",
       "      <td>motorola-mobility</td>\n",
       "      <td>michaelmaarek</td>\n",
       "      <td>lemike10@gmail.com</td>\n",
       "      <td>Key Account Director</td>\n",
       "      <td>London, United Kingdom</td>\n",
       "      <td>0.0</td>\n",
       "      <td>2014-08-01 00:00:00+00:00</td>\n",
       "      <td>...</td>\n",
       "      <td>0.0</td>\n",
       "      <td>NaN</td>\n",
       "      <td>NaN</td>\n",
       "      <td>NaN</td>\n",
       "      <td>63.7659</td>\n",
       "      <td>40.933333</td>\n",
       "      <td>853 days 00:00:00</td>\n",
       "      <td>853.0</td>\n",
       "      <td>1970-01-01 00:00:00.000002017+00:00</td>\n",
       "      <td>2020-06-04 08:16:36.791564</td>\n",
       "    </tr>\n",
       "    <tr>\n",
       "      <td>1</td>\n",
       "      <td>motorola</td>\n",
       "      <td>2048222</td>\n",
       "      <td>Michael Roberts</td>\n",
       "      <td>motorola-mobility</td>\n",
       "      <td>michaelroberts07</td>\n",
       "      <td>msajs.roberts@gmail.com</td>\n",
       "      <td>Sr. Director of Product Strategy and Business ...</td>\n",
       "      <td>Greater San Diego Area</td>\n",
       "      <td>0.0</td>\n",
       "      <td>2010-08-01 00:00:00+00:00</td>\n",
       "      <td>...</td>\n",
       "      <td>0.0</td>\n",
       "      <td>NaN</td>\n",
       "      <td>NaN</td>\n",
       "      <td>NaN</td>\n",
       "      <td>63.7659</td>\n",
       "      <td>31.882950</td>\n",
       "      <td>731 days 00:00:00</td>\n",
       "      <td>731.0</td>\n",
       "      <td>1970-01-01 00:00:00.000002017+00:00</td>\n",
       "      <td>2020-06-04 08:16:36.791564</td>\n",
       "    </tr>\n",
       "    <tr>\n",
       "      <td>2</td>\n",
       "      <td>motorola</td>\n",
       "      <td>60552</td>\n",
       "      <td>Pratod Kasbekar</td>\n",
       "      <td>motorola-mobility</td>\n",
       "      <td>pratod-kasbekar-a088b64</td>\n",
       "      <td>pkasbekar@verizon.net</td>\n",
       "      <td>Senior Director of Program Management/Engineering</td>\n",
       "      <td>United States</td>\n",
       "      <td>0.0</td>\n",
       "      <td>2006-01-01 00:00:00+00:00</td>\n",
       "      <td>...</td>\n",
       "      <td>0.0</td>\n",
       "      <td>NaN</td>\n",
       "      <td>NaN</td>\n",
       "      <td>NaN</td>\n",
       "      <td>63.7659</td>\n",
       "      <td>63.765900</td>\n",
       "      <td>5265 days 16:25:25</td>\n",
       "      <td>5265.0</td>\n",
       "      <td>1970-01-01 00:00:00.000002017+00:00</td>\n",
       "      <td>2020-06-04 08:16:36.791564</td>\n",
       "    </tr>\n",
       "    <tr>\n",
       "      <td>3</td>\n",
       "      <td>motorola</td>\n",
       "      <td>60545</td>\n",
       "      <td>Pamela Ajaibela</td>\n",
       "      <td>motorola-mobility</td>\n",
       "      <td>pamelaajaibela</td>\n",
       "      <td>pamelapajaibela@gmail.com</td>\n",
       "      <td>Director</td>\n",
       "      <td>San Francisco Bay Area</td>\n",
       "      <td>0.0</td>\n",
       "      <td>2007-02-01 00:00:00+00:00</td>\n",
       "      <td>...</td>\n",
       "      <td>0.0</td>\n",
       "      <td>NaN</td>\n",
       "      <td>NaN</td>\n",
       "      <td>NaN</td>\n",
       "      <td>63.7659</td>\n",
       "      <td>63.765900</td>\n",
       "      <td>4869 days 16:25:25</td>\n",
       "      <td>4869.0</td>\n",
       "      <td>1970-01-01 00:00:00.000002017+00:00</td>\n",
       "      <td>2020-06-04 08:16:36.791564</td>\n",
       "    </tr>\n",
       "    <tr>\n",
       "      <td>4</td>\n",
       "      <td>motorola</td>\n",
       "      <td>60546</td>\n",
       "      <td>paul burnett</td>\n",
       "      <td>NaN</td>\n",
       "      <td>paul-burnett-73189b23</td>\n",
       "      <td>pburnett66@rogers.com</td>\n",
       "      <td>Channel Director</td>\n",
       "      <td>Canada</td>\n",
       "      <td>0.0</td>\n",
       "      <td>1970-01-01 00:00:00.000002017+00:00</td>\n",
       "      <td>...</td>\n",
       "      <td>0.0</td>\n",
       "      <td>NaN</td>\n",
       "      <td>NaN</td>\n",
       "      <td>NaN</td>\n",
       "      <td>63.7659</td>\n",
       "      <td>63.765900</td>\n",
       "      <td>18414 days 16:25:24.999997</td>\n",
       "      <td>18414.0</td>\n",
       "      <td>1970-01-01 00:00:00.000002017+00:00</td>\n",
       "      <td>2020-06-04 08:16:36.791564</td>\n",
       "    </tr>\n",
       "  </tbody>\n",
       "</table>\n",
       "<p>5 rows × 34 columns</p>\n",
       "</div>"
      ],
      "text/plain": [
       "  brand_uuid       id        full_name       company_slug  \\\n",
       "0   motorola  2015583   Michaël Maarek  motorola-mobility   \n",
       "1   motorola  2048222  Michael Roberts  motorola-mobility   \n",
       "2   motorola    60552  Pratod Kasbekar  motorola-mobility   \n",
       "3   motorola    60545  Pamela Ajaibela  motorola-mobility   \n",
       "4   motorola    60546     paul burnett                NaN   \n",
       "\n",
       "                      slug                      email  \\\n",
       "0            michaelmaarek         lemike10@gmail.com   \n",
       "1         michaelroberts07    msajs.roberts@gmail.com   \n",
       "2  pratod-kasbekar-a088b64      pkasbekar@verizon.net   \n",
       "3           pamelaajaibela  pamelapajaibela@gmail.com   \n",
       "4    paul-burnett-73189b23      pburnett66@rogers.com   \n",
       "\n",
       "                                           job_title                location  \\\n",
       "0                               Key Account Director  London, United Kingdom   \n",
       "1  Sr. Director of Product Strategy and Business ...  Greater San Diego Area   \n",
       "2  Senior Director of Program Management/Engineering           United States   \n",
       "3                                           Director  San Francisco Bay Area   \n",
       "4                                   Channel Director                  Canada   \n",
       "\n",
       "   is_c_level                       working_since  ... store_is_subdomain  \\\n",
       "0         0.0           2014-08-01 00:00:00+00:00  ...                0.0   \n",
       "1         0.0           2010-08-01 00:00:00+00:00  ...                0.0   \n",
       "2         0.0           2006-01-01 00:00:00+00:00  ...                0.0   \n",
       "3         0.0           2007-02-01 00:00:00+00:00  ...                0.0   \n",
       "4         0.0 1970-01-01 00:00:00.000002017+00:00  ...                0.0   \n",
       "\n",
       "   product_prices_mean  product_prices_max product_prices_min  \\\n",
       "0                  NaN                 NaN                NaN   \n",
       "1                  NaN                 NaN                NaN   \n",
       "2                  NaN                 NaN                NaN   \n",
       "3                  NaN                 NaN                NaN   \n",
       "4                  NaN                 NaN                NaN   \n",
       "\n",
       "   cred_1_growth_score_max  cred_2_growth_score_mean  \\\n",
       "0                  63.7659                 40.933333   \n",
       "1                  63.7659                 31.882950   \n",
       "2                  63.7659                 63.765900   \n",
       "3                  63.7659                 63.765900   \n",
       "4                  63.7659                 63.765900   \n",
       "\n",
       "                 time_worked  days_worked                        founded_date  \\\n",
       "0          853 days 00:00:00        853.0 1970-01-01 00:00:00.000002017+00:00   \n",
       "1          731 days 00:00:00        731.0 1970-01-01 00:00:00.000002017+00:00   \n",
       "2         5265 days 16:25:25       5265.0 1970-01-01 00:00:00.000002017+00:00   \n",
       "3         4869 days 16:25:25       4869.0 1970-01-01 00:00:00.000002017+00:00   \n",
       "4 18414 days 16:25:24.999997      18414.0 1970-01-01 00:00:00.000002017+00:00   \n",
       "\n",
       "                       today  \n",
       "0 2020-06-04 08:16:36.791564  \n",
       "1 2020-06-04 08:16:36.791564  \n",
       "2 2020-06-04 08:16:36.791564  \n",
       "3 2020-06-04 08:16:36.791564  \n",
       "4 2020-06-04 08:16:36.791564  \n",
       "\n",
       "[5 rows x 34 columns]"
      ]
     },
     "execution_count": 27,
     "metadata": {},
     "output_type": "execute_result"
    }
   ],
   "source": [
    "combined_data['today'] = now\n",
    "combined_data.head()"
   ]
  },
  {
   "cell_type": "code",
   "execution_count": 28,
   "metadata": {},
   "outputs": [],
   "source": [
    "#convert today column to date time format\n",
    "combined_data['today'] = pd.to_datetime(combined_data['today'], utc = True)"
   ]
  },
  {
   "cell_type": "code",
   "execution_count": 29,
   "metadata": {},
   "outputs": [],
   "source": [
    "#create column with age of company\n",
    "combined_data['age_of_brand'] = combined_data['today'] - combined_data['founded_date']"
   ]
  },
  {
   "cell_type": "code",
   "execution_count": 30,
   "metadata": {},
   "outputs": [],
   "source": [
    "combined_data['age_brand_in_days'] = combined_data['age_of_brand'].dt.days"
   ]
  },
  {
   "cell_type": "code",
   "execution_count": 31,
   "metadata": {},
   "outputs": [
    {
     "data": {
      "text/html": [
       "<div>\n",
       "<style scoped>\n",
       "    .dataframe tbody tr th:only-of-type {\n",
       "        vertical-align: middle;\n",
       "    }\n",
       "\n",
       "    .dataframe tbody tr th {\n",
       "        vertical-align: top;\n",
       "    }\n",
       "\n",
       "    .dataframe thead th {\n",
       "        text-align: right;\n",
       "    }\n",
       "</style>\n",
       "<table border=\"1\" class=\"dataframe\">\n",
       "  <thead>\n",
       "    <tr style=\"text-align: right;\">\n",
       "      <th></th>\n",
       "      <th>brand_uuid</th>\n",
       "      <th>id</th>\n",
       "      <th>full_name</th>\n",
       "      <th>company_slug</th>\n",
       "      <th>slug</th>\n",
       "      <th>email</th>\n",
       "      <th>job_title</th>\n",
       "      <th>location</th>\n",
       "      <th>is_c_level</th>\n",
       "      <th>working_since</th>\n",
       "      <th>...</th>\n",
       "      <th>product_prices_max</th>\n",
       "      <th>product_prices_min</th>\n",
       "      <th>cred_1_growth_score_max</th>\n",
       "      <th>cred_2_growth_score_mean</th>\n",
       "      <th>time_worked</th>\n",
       "      <th>days_worked</th>\n",
       "      <th>founded_date</th>\n",
       "      <th>today</th>\n",
       "      <th>age_of_brand</th>\n",
       "      <th>age_brand_in_days</th>\n",
       "    </tr>\n",
       "  </thead>\n",
       "  <tbody>\n",
       "    <tr>\n",
       "      <td>0</td>\n",
       "      <td>motorola</td>\n",
       "      <td>2015583</td>\n",
       "      <td>Michaël Maarek</td>\n",
       "      <td>motorola-mobility</td>\n",
       "      <td>michaelmaarek</td>\n",
       "      <td>lemike10@gmail.com</td>\n",
       "      <td>Key Account Director</td>\n",
       "      <td>London, United Kingdom</td>\n",
       "      <td>0.0</td>\n",
       "      <td>2014-08-01 00:00:00+00:00</td>\n",
       "      <td>...</td>\n",
       "      <td>NaN</td>\n",
       "      <td>NaN</td>\n",
       "      <td>63.7659</td>\n",
       "      <td>40.933333</td>\n",
       "      <td>853 days 00:00:00</td>\n",
       "      <td>853.0</td>\n",
       "      <td>1970-01-01 00:00:00.000002017+00:00</td>\n",
       "      <td>2020-06-04 08:16:36.791564+00:00</td>\n",
       "      <td>18417 days 08:16:36.791561</td>\n",
       "      <td>18417.0</td>\n",
       "    </tr>\n",
       "    <tr>\n",
       "      <td>1</td>\n",
       "      <td>motorola</td>\n",
       "      <td>2048222</td>\n",
       "      <td>Michael Roberts</td>\n",
       "      <td>motorola-mobility</td>\n",
       "      <td>michaelroberts07</td>\n",
       "      <td>msajs.roberts@gmail.com</td>\n",
       "      <td>Sr. Director of Product Strategy and Business ...</td>\n",
       "      <td>Greater San Diego Area</td>\n",
       "      <td>0.0</td>\n",
       "      <td>2010-08-01 00:00:00+00:00</td>\n",
       "      <td>...</td>\n",
       "      <td>NaN</td>\n",
       "      <td>NaN</td>\n",
       "      <td>63.7659</td>\n",
       "      <td>31.882950</td>\n",
       "      <td>731 days 00:00:00</td>\n",
       "      <td>731.0</td>\n",
       "      <td>1970-01-01 00:00:00.000002017+00:00</td>\n",
       "      <td>2020-06-04 08:16:36.791564+00:00</td>\n",
       "      <td>18417 days 08:16:36.791561</td>\n",
       "      <td>18417.0</td>\n",
       "    </tr>\n",
       "    <tr>\n",
       "      <td>2</td>\n",
       "      <td>motorola</td>\n",
       "      <td>60552</td>\n",
       "      <td>Pratod Kasbekar</td>\n",
       "      <td>motorola-mobility</td>\n",
       "      <td>pratod-kasbekar-a088b64</td>\n",
       "      <td>pkasbekar@verizon.net</td>\n",
       "      <td>Senior Director of Program Management/Engineering</td>\n",
       "      <td>United States</td>\n",
       "      <td>0.0</td>\n",
       "      <td>2006-01-01 00:00:00+00:00</td>\n",
       "      <td>...</td>\n",
       "      <td>NaN</td>\n",
       "      <td>NaN</td>\n",
       "      <td>63.7659</td>\n",
       "      <td>63.765900</td>\n",
       "      <td>5265 days 16:25:25</td>\n",
       "      <td>5265.0</td>\n",
       "      <td>1970-01-01 00:00:00.000002017+00:00</td>\n",
       "      <td>2020-06-04 08:16:36.791564+00:00</td>\n",
       "      <td>18417 days 08:16:36.791561</td>\n",
       "      <td>18417.0</td>\n",
       "    </tr>\n",
       "    <tr>\n",
       "      <td>3</td>\n",
       "      <td>motorola</td>\n",
       "      <td>60545</td>\n",
       "      <td>Pamela Ajaibela</td>\n",
       "      <td>motorola-mobility</td>\n",
       "      <td>pamelaajaibela</td>\n",
       "      <td>pamelapajaibela@gmail.com</td>\n",
       "      <td>Director</td>\n",
       "      <td>San Francisco Bay Area</td>\n",
       "      <td>0.0</td>\n",
       "      <td>2007-02-01 00:00:00+00:00</td>\n",
       "      <td>...</td>\n",
       "      <td>NaN</td>\n",
       "      <td>NaN</td>\n",
       "      <td>63.7659</td>\n",
       "      <td>63.765900</td>\n",
       "      <td>4869 days 16:25:25</td>\n",
       "      <td>4869.0</td>\n",
       "      <td>1970-01-01 00:00:00.000002017+00:00</td>\n",
       "      <td>2020-06-04 08:16:36.791564+00:00</td>\n",
       "      <td>18417 days 08:16:36.791561</td>\n",
       "      <td>18417.0</td>\n",
       "    </tr>\n",
       "    <tr>\n",
       "      <td>4</td>\n",
       "      <td>motorola</td>\n",
       "      <td>60546</td>\n",
       "      <td>paul burnett</td>\n",
       "      <td>NaN</td>\n",
       "      <td>paul-burnett-73189b23</td>\n",
       "      <td>pburnett66@rogers.com</td>\n",
       "      <td>Channel Director</td>\n",
       "      <td>Canada</td>\n",
       "      <td>0.0</td>\n",
       "      <td>1970-01-01 00:00:00.000002017+00:00</td>\n",
       "      <td>...</td>\n",
       "      <td>NaN</td>\n",
       "      <td>NaN</td>\n",
       "      <td>63.7659</td>\n",
       "      <td>63.765900</td>\n",
       "      <td>18414 days 16:25:24.999997</td>\n",
       "      <td>18414.0</td>\n",
       "      <td>1970-01-01 00:00:00.000002017+00:00</td>\n",
       "      <td>2020-06-04 08:16:36.791564+00:00</td>\n",
       "      <td>18417 days 08:16:36.791561</td>\n",
       "      <td>18417.0</td>\n",
       "    </tr>\n",
       "  </tbody>\n",
       "</table>\n",
       "<p>5 rows × 36 columns</p>\n",
       "</div>"
      ],
      "text/plain": [
       "  brand_uuid       id        full_name       company_slug  \\\n",
       "0   motorola  2015583   Michaël Maarek  motorola-mobility   \n",
       "1   motorola  2048222  Michael Roberts  motorola-mobility   \n",
       "2   motorola    60552  Pratod Kasbekar  motorola-mobility   \n",
       "3   motorola    60545  Pamela Ajaibela  motorola-mobility   \n",
       "4   motorola    60546     paul burnett                NaN   \n",
       "\n",
       "                      slug                      email  \\\n",
       "0            michaelmaarek         lemike10@gmail.com   \n",
       "1         michaelroberts07    msajs.roberts@gmail.com   \n",
       "2  pratod-kasbekar-a088b64      pkasbekar@verizon.net   \n",
       "3           pamelaajaibela  pamelapajaibela@gmail.com   \n",
       "4    paul-burnett-73189b23      pburnett66@rogers.com   \n",
       "\n",
       "                                           job_title                location  \\\n",
       "0                               Key Account Director  London, United Kingdom   \n",
       "1  Sr. Director of Product Strategy and Business ...  Greater San Diego Area   \n",
       "2  Senior Director of Program Management/Engineering           United States   \n",
       "3                                           Director  San Francisco Bay Area   \n",
       "4                                   Channel Director                  Canada   \n",
       "\n",
       "   is_c_level                       working_since  ... product_prices_max  \\\n",
       "0         0.0           2014-08-01 00:00:00+00:00  ...                NaN   \n",
       "1         0.0           2010-08-01 00:00:00+00:00  ...                NaN   \n",
       "2         0.0           2006-01-01 00:00:00+00:00  ...                NaN   \n",
       "3         0.0           2007-02-01 00:00:00+00:00  ...                NaN   \n",
       "4         0.0 1970-01-01 00:00:00.000002017+00:00  ...                NaN   \n",
       "\n",
       "   product_prices_min  cred_1_growth_score_max cred_2_growth_score_mean  \\\n",
       "0                 NaN                  63.7659                40.933333   \n",
       "1                 NaN                  63.7659                31.882950   \n",
       "2                 NaN                  63.7659                63.765900   \n",
       "3                 NaN                  63.7659                63.765900   \n",
       "4                 NaN                  63.7659                63.765900   \n",
       "\n",
       "                 time_worked  days_worked                        founded_date  \\\n",
       "0          853 days 00:00:00        853.0 1970-01-01 00:00:00.000002017+00:00   \n",
       "1          731 days 00:00:00        731.0 1970-01-01 00:00:00.000002017+00:00   \n",
       "2         5265 days 16:25:25       5265.0 1970-01-01 00:00:00.000002017+00:00   \n",
       "3         4869 days 16:25:25       4869.0 1970-01-01 00:00:00.000002017+00:00   \n",
       "4 18414 days 16:25:24.999997      18414.0 1970-01-01 00:00:00.000002017+00:00   \n",
       "\n",
       "                             today               age_of_brand  \\\n",
       "0 2020-06-04 08:16:36.791564+00:00 18417 days 08:16:36.791561   \n",
       "1 2020-06-04 08:16:36.791564+00:00 18417 days 08:16:36.791561   \n",
       "2 2020-06-04 08:16:36.791564+00:00 18417 days 08:16:36.791561   \n",
       "3 2020-06-04 08:16:36.791564+00:00 18417 days 08:16:36.791561   \n",
       "4 2020-06-04 08:16:36.791564+00:00 18417 days 08:16:36.791561   \n",
       "\n",
       "   age_brand_in_days  \n",
       "0            18417.0  \n",
       "1            18417.0  \n",
       "2            18417.0  \n",
       "3            18417.0  \n",
       "4            18417.0  \n",
       "\n",
       "[5 rows x 36 columns]"
      ]
     },
     "execution_count": 31,
     "metadata": {},
     "output_type": "execute_result"
    }
   ],
   "source": [
    "combined_data.head()"
   ]
  },
  {
   "cell_type": "code",
   "execution_count": 32,
   "metadata": {},
   "outputs": [
    {
     "data": {
      "text/html": [
       "<div>\n",
       "<style scoped>\n",
       "    .dataframe tbody tr th:only-of-type {\n",
       "        vertical-align: middle;\n",
       "    }\n",
       "\n",
       "    .dataframe tbody tr th {\n",
       "        vertical-align: top;\n",
       "    }\n",
       "\n",
       "    .dataframe thead th {\n",
       "        text-align: right;\n",
       "    }\n",
       "</style>\n",
       "<table border=\"1\" class=\"dataframe\">\n",
       "  <thead>\n",
       "    <tr style=\"text-align: right;\">\n",
       "      <th></th>\n",
       "      <th>brand_uuid</th>\n",
       "      <th>id</th>\n",
       "      <th>full_name</th>\n",
       "      <th>company_slug</th>\n",
       "      <th>slug</th>\n",
       "      <th>email</th>\n",
       "      <th>job_title</th>\n",
       "      <th>location</th>\n",
       "      <th>is_c_level</th>\n",
       "      <th>working_since</th>\n",
       "      <th>...</th>\n",
       "      <th>product_prices_min</th>\n",
       "      <th>cred_1_growth_score_max</th>\n",
       "      <th>cred_2_growth_score_mean</th>\n",
       "      <th>time_worked</th>\n",
       "      <th>days_worked</th>\n",
       "      <th>founded_date</th>\n",
       "      <th>today</th>\n",
       "      <th>age_of_brand</th>\n",
       "      <th>age_brand_in_days</th>\n",
       "      <th>experience_w_brand_ratio</th>\n",
       "    </tr>\n",
       "  </thead>\n",
       "  <tbody>\n",
       "    <tr>\n",
       "      <td>0</td>\n",
       "      <td>motorola</td>\n",
       "      <td>2015583</td>\n",
       "      <td>Michaël Maarek</td>\n",
       "      <td>motorola-mobility</td>\n",
       "      <td>michaelmaarek</td>\n",
       "      <td>lemike10@gmail.com</td>\n",
       "      <td>Key Account Director</td>\n",
       "      <td>London, United Kingdom</td>\n",
       "      <td>0.0</td>\n",
       "      <td>2014-08-01 00:00:00+00:00</td>\n",
       "      <td>...</td>\n",
       "      <td>NaN</td>\n",
       "      <td>63.7659</td>\n",
       "      <td>40.933333</td>\n",
       "      <td>853 days 00:00:00</td>\n",
       "      <td>853.0</td>\n",
       "      <td>1970-01-01 00:00:00.000002017+00:00</td>\n",
       "      <td>2020-06-04 08:16:36.791564+00:00</td>\n",
       "      <td>18417 days 08:16:36.791561</td>\n",
       "      <td>18417.0</td>\n",
       "      <td>0.046316</td>\n",
       "    </tr>\n",
       "    <tr>\n",
       "      <td>1</td>\n",
       "      <td>motorola</td>\n",
       "      <td>2048222</td>\n",
       "      <td>Michael Roberts</td>\n",
       "      <td>motorola-mobility</td>\n",
       "      <td>michaelroberts07</td>\n",
       "      <td>msajs.roberts@gmail.com</td>\n",
       "      <td>Sr. Director of Product Strategy and Business ...</td>\n",
       "      <td>Greater San Diego Area</td>\n",
       "      <td>0.0</td>\n",
       "      <td>2010-08-01 00:00:00+00:00</td>\n",
       "      <td>...</td>\n",
       "      <td>NaN</td>\n",
       "      <td>63.7659</td>\n",
       "      <td>31.882950</td>\n",
       "      <td>731 days 00:00:00</td>\n",
       "      <td>731.0</td>\n",
       "      <td>1970-01-01 00:00:00.000002017+00:00</td>\n",
       "      <td>2020-06-04 08:16:36.791564+00:00</td>\n",
       "      <td>18417 days 08:16:36.791561</td>\n",
       "      <td>18417.0</td>\n",
       "      <td>0.039692</td>\n",
       "    </tr>\n",
       "    <tr>\n",
       "      <td>2</td>\n",
       "      <td>motorola</td>\n",
       "      <td>60552</td>\n",
       "      <td>Pratod Kasbekar</td>\n",
       "      <td>motorola-mobility</td>\n",
       "      <td>pratod-kasbekar-a088b64</td>\n",
       "      <td>pkasbekar@verizon.net</td>\n",
       "      <td>Senior Director of Program Management/Engineering</td>\n",
       "      <td>United States</td>\n",
       "      <td>0.0</td>\n",
       "      <td>2006-01-01 00:00:00+00:00</td>\n",
       "      <td>...</td>\n",
       "      <td>NaN</td>\n",
       "      <td>63.7659</td>\n",
       "      <td>63.765900</td>\n",
       "      <td>5265 days 16:25:25</td>\n",
       "      <td>5265.0</td>\n",
       "      <td>1970-01-01 00:00:00.000002017+00:00</td>\n",
       "      <td>2020-06-04 08:16:36.791564+00:00</td>\n",
       "      <td>18417 days 08:16:36.791561</td>\n",
       "      <td>18417.0</td>\n",
       "      <td>0.285877</td>\n",
       "    </tr>\n",
       "    <tr>\n",
       "      <td>3</td>\n",
       "      <td>motorola</td>\n",
       "      <td>60545</td>\n",
       "      <td>Pamela Ajaibela</td>\n",
       "      <td>motorola-mobility</td>\n",
       "      <td>pamelaajaibela</td>\n",
       "      <td>pamelapajaibela@gmail.com</td>\n",
       "      <td>Director</td>\n",
       "      <td>San Francisco Bay Area</td>\n",
       "      <td>0.0</td>\n",
       "      <td>2007-02-01 00:00:00+00:00</td>\n",
       "      <td>...</td>\n",
       "      <td>NaN</td>\n",
       "      <td>63.7659</td>\n",
       "      <td>63.765900</td>\n",
       "      <td>4869 days 16:25:25</td>\n",
       "      <td>4869.0</td>\n",
       "      <td>1970-01-01 00:00:00.000002017+00:00</td>\n",
       "      <td>2020-06-04 08:16:36.791564+00:00</td>\n",
       "      <td>18417 days 08:16:36.791561</td>\n",
       "      <td>18417.0</td>\n",
       "      <td>0.264375</td>\n",
       "    </tr>\n",
       "    <tr>\n",
       "      <td>4</td>\n",
       "      <td>motorola</td>\n",
       "      <td>60546</td>\n",
       "      <td>paul burnett</td>\n",
       "      <td>NaN</td>\n",
       "      <td>paul-burnett-73189b23</td>\n",
       "      <td>pburnett66@rogers.com</td>\n",
       "      <td>Channel Director</td>\n",
       "      <td>Canada</td>\n",
       "      <td>0.0</td>\n",
       "      <td>1970-01-01 00:00:00.000002017+00:00</td>\n",
       "      <td>...</td>\n",
       "      <td>NaN</td>\n",
       "      <td>63.7659</td>\n",
       "      <td>63.765900</td>\n",
       "      <td>18414 days 16:25:24.999997</td>\n",
       "      <td>18414.0</td>\n",
       "      <td>1970-01-01 00:00:00.000002017+00:00</td>\n",
       "      <td>2020-06-04 08:16:36.791564+00:00</td>\n",
       "      <td>18417 days 08:16:36.791561</td>\n",
       "      <td>18417.0</td>\n",
       "      <td>0.999837</td>\n",
       "    </tr>\n",
       "  </tbody>\n",
       "</table>\n",
       "<p>5 rows × 37 columns</p>\n",
       "</div>"
      ],
      "text/plain": [
       "  brand_uuid       id        full_name       company_slug  \\\n",
       "0   motorola  2015583   Michaël Maarek  motorola-mobility   \n",
       "1   motorola  2048222  Michael Roberts  motorola-mobility   \n",
       "2   motorola    60552  Pratod Kasbekar  motorola-mobility   \n",
       "3   motorola    60545  Pamela Ajaibela  motorola-mobility   \n",
       "4   motorola    60546     paul burnett                NaN   \n",
       "\n",
       "                      slug                      email  \\\n",
       "0            michaelmaarek         lemike10@gmail.com   \n",
       "1         michaelroberts07    msajs.roberts@gmail.com   \n",
       "2  pratod-kasbekar-a088b64      pkasbekar@verizon.net   \n",
       "3           pamelaajaibela  pamelapajaibela@gmail.com   \n",
       "4    paul-burnett-73189b23      pburnett66@rogers.com   \n",
       "\n",
       "                                           job_title                location  \\\n",
       "0                               Key Account Director  London, United Kingdom   \n",
       "1  Sr. Director of Product Strategy and Business ...  Greater San Diego Area   \n",
       "2  Senior Director of Program Management/Engineering           United States   \n",
       "3                                           Director  San Francisco Bay Area   \n",
       "4                                   Channel Director                  Canada   \n",
       "\n",
       "   is_c_level                       working_since  ... product_prices_min  \\\n",
       "0         0.0           2014-08-01 00:00:00+00:00  ...                NaN   \n",
       "1         0.0           2010-08-01 00:00:00+00:00  ...                NaN   \n",
       "2         0.0           2006-01-01 00:00:00+00:00  ...                NaN   \n",
       "3         0.0           2007-02-01 00:00:00+00:00  ...                NaN   \n",
       "4         0.0 1970-01-01 00:00:00.000002017+00:00  ...                NaN   \n",
       "\n",
       "   cred_1_growth_score_max  cred_2_growth_score_mean  \\\n",
       "0                  63.7659                 40.933333   \n",
       "1                  63.7659                 31.882950   \n",
       "2                  63.7659                 63.765900   \n",
       "3                  63.7659                 63.765900   \n",
       "4                  63.7659                 63.765900   \n",
       "\n",
       "                 time_worked  days_worked                        founded_date  \\\n",
       "0          853 days 00:00:00        853.0 1970-01-01 00:00:00.000002017+00:00   \n",
       "1          731 days 00:00:00        731.0 1970-01-01 00:00:00.000002017+00:00   \n",
       "2         5265 days 16:25:25       5265.0 1970-01-01 00:00:00.000002017+00:00   \n",
       "3         4869 days 16:25:25       4869.0 1970-01-01 00:00:00.000002017+00:00   \n",
       "4 18414 days 16:25:24.999997      18414.0 1970-01-01 00:00:00.000002017+00:00   \n",
       "\n",
       "                             today               age_of_brand  \\\n",
       "0 2020-06-04 08:16:36.791564+00:00 18417 days 08:16:36.791561   \n",
       "1 2020-06-04 08:16:36.791564+00:00 18417 days 08:16:36.791561   \n",
       "2 2020-06-04 08:16:36.791564+00:00 18417 days 08:16:36.791561   \n",
       "3 2020-06-04 08:16:36.791564+00:00 18417 days 08:16:36.791561   \n",
       "4 2020-06-04 08:16:36.791564+00:00 18417 days 08:16:36.791561   \n",
       "\n",
       "   age_brand_in_days  experience_w_brand_ratio  \n",
       "0            18417.0                  0.046316  \n",
       "1            18417.0                  0.039692  \n",
       "2            18417.0                  0.285877  \n",
       "3            18417.0                  0.264375  \n",
       "4            18417.0                  0.999837  \n",
       "\n",
       "[5 rows x 37 columns]"
      ]
     },
     "execution_count": 32,
     "metadata": {},
     "output_type": "execute_result"
    }
   ],
   "source": [
    "combined_data['experience_w_brand_ratio'] = combined_data['days_worked'] / combined_data['age_brand_in_days']\n",
    "combined_data.head()"
   ]
  },
  {
   "cell_type": "code",
   "execution_count": 33,
   "metadata": {},
   "outputs": [
    {
     "data": {
      "text/html": [
       "<div>\n",
       "<style scoped>\n",
       "    .dataframe tbody tr th:only-of-type {\n",
       "        vertical-align: middle;\n",
       "    }\n",
       "\n",
       "    .dataframe tbody tr th {\n",
       "        vertical-align: top;\n",
       "    }\n",
       "\n",
       "    .dataframe thead th {\n",
       "        text-align: right;\n",
       "    }\n",
       "</style>\n",
       "<table border=\"1\" class=\"dataframe\">\n",
       "  <thead>\n",
       "    <tr style=\"text-align: right;\">\n",
       "      <th></th>\n",
       "      <th>brand_uuid</th>\n",
       "      <th>id</th>\n",
       "      <th>full_name</th>\n",
       "      <th>company_slug</th>\n",
       "      <th>slug</th>\n",
       "      <th>email</th>\n",
       "      <th>job_title</th>\n",
       "      <th>location</th>\n",
       "      <th>is_c_level</th>\n",
       "      <th>working_since</th>\n",
       "      <th>...</th>\n",
       "      <th>is_physical_products_brand</th>\n",
       "      <th>is_brickandmortar</th>\n",
       "      <th>employees_count</th>\n",
       "      <th>generic_reseller</th>\n",
       "      <th>store_is_subdomain</th>\n",
       "      <th>cred_1_growth_score_max</th>\n",
       "      <th>cred_2_growth_score_mean</th>\n",
       "      <th>days_worked</th>\n",
       "      <th>age_brand_in_days</th>\n",
       "      <th>experience_w_brand_ratio</th>\n",
       "    </tr>\n",
       "  </thead>\n",
       "  <tbody>\n",
       "    <tr>\n",
       "      <td>0</td>\n",
       "      <td>motorola</td>\n",
       "      <td>2015583</td>\n",
       "      <td>Michaël Maarek</td>\n",
       "      <td>motorola-mobility</td>\n",
       "      <td>michaelmaarek</td>\n",
       "      <td>lemike10@gmail.com</td>\n",
       "      <td>Key Account Director</td>\n",
       "      <td>London, United Kingdom</td>\n",
       "      <td>0.0</td>\n",
       "      <td>2014-08-01 00:00:00+00:00</td>\n",
       "      <td>...</td>\n",
       "      <td>1.0</td>\n",
       "      <td>1.0</td>\n",
       "      <td>26954.0</td>\n",
       "      <td>0.0</td>\n",
       "      <td>0.0</td>\n",
       "      <td>63.7659</td>\n",
       "      <td>40.933333</td>\n",
       "      <td>853.0</td>\n",
       "      <td>18417.0</td>\n",
       "      <td>0.046316</td>\n",
       "    </tr>\n",
       "    <tr>\n",
       "      <td>1</td>\n",
       "      <td>motorola</td>\n",
       "      <td>2048222</td>\n",
       "      <td>Michael Roberts</td>\n",
       "      <td>motorola-mobility</td>\n",
       "      <td>michaelroberts07</td>\n",
       "      <td>msajs.roberts@gmail.com</td>\n",
       "      <td>Sr. Director of Product Strategy and Business ...</td>\n",
       "      <td>Greater San Diego Area</td>\n",
       "      <td>0.0</td>\n",
       "      <td>2010-08-01 00:00:00+00:00</td>\n",
       "      <td>...</td>\n",
       "      <td>1.0</td>\n",
       "      <td>1.0</td>\n",
       "      <td>26954.0</td>\n",
       "      <td>0.0</td>\n",
       "      <td>0.0</td>\n",
       "      <td>63.7659</td>\n",
       "      <td>31.882950</td>\n",
       "      <td>731.0</td>\n",
       "      <td>18417.0</td>\n",
       "      <td>0.039692</td>\n",
       "    </tr>\n",
       "    <tr>\n",
       "      <td>2</td>\n",
       "      <td>motorola</td>\n",
       "      <td>60552</td>\n",
       "      <td>Pratod Kasbekar</td>\n",
       "      <td>motorola-mobility</td>\n",
       "      <td>pratod-kasbekar-a088b64</td>\n",
       "      <td>pkasbekar@verizon.net</td>\n",
       "      <td>Senior Director of Program Management/Engineering</td>\n",
       "      <td>United States</td>\n",
       "      <td>0.0</td>\n",
       "      <td>2006-01-01 00:00:00+00:00</td>\n",
       "      <td>...</td>\n",
       "      <td>1.0</td>\n",
       "      <td>1.0</td>\n",
       "      <td>26954.0</td>\n",
       "      <td>0.0</td>\n",
       "      <td>0.0</td>\n",
       "      <td>63.7659</td>\n",
       "      <td>63.765900</td>\n",
       "      <td>5265.0</td>\n",
       "      <td>18417.0</td>\n",
       "      <td>0.285877</td>\n",
       "    </tr>\n",
       "    <tr>\n",
       "      <td>3</td>\n",
       "      <td>motorola</td>\n",
       "      <td>60545</td>\n",
       "      <td>Pamela Ajaibela</td>\n",
       "      <td>motorola-mobility</td>\n",
       "      <td>pamelaajaibela</td>\n",
       "      <td>pamelapajaibela@gmail.com</td>\n",
       "      <td>Director</td>\n",
       "      <td>San Francisco Bay Area</td>\n",
       "      <td>0.0</td>\n",
       "      <td>2007-02-01 00:00:00+00:00</td>\n",
       "      <td>...</td>\n",
       "      <td>1.0</td>\n",
       "      <td>1.0</td>\n",
       "      <td>26954.0</td>\n",
       "      <td>0.0</td>\n",
       "      <td>0.0</td>\n",
       "      <td>63.7659</td>\n",
       "      <td>63.765900</td>\n",
       "      <td>4869.0</td>\n",
       "      <td>18417.0</td>\n",
       "      <td>0.264375</td>\n",
       "    </tr>\n",
       "    <tr>\n",
       "      <td>4</td>\n",
       "      <td>motorola</td>\n",
       "      <td>60546</td>\n",
       "      <td>paul burnett</td>\n",
       "      <td>NaN</td>\n",
       "      <td>paul-burnett-73189b23</td>\n",
       "      <td>pburnett66@rogers.com</td>\n",
       "      <td>Channel Director</td>\n",
       "      <td>Canada</td>\n",
       "      <td>0.0</td>\n",
       "      <td>1970-01-01 00:00:00.000002017+00:00</td>\n",
       "      <td>...</td>\n",
       "      <td>1.0</td>\n",
       "      <td>1.0</td>\n",
       "      <td>26954.0</td>\n",
       "      <td>0.0</td>\n",
       "      <td>0.0</td>\n",
       "      <td>63.7659</td>\n",
       "      <td>63.765900</td>\n",
       "      <td>18414.0</td>\n",
       "      <td>18417.0</td>\n",
       "      <td>0.999837</td>\n",
       "    </tr>\n",
       "  </tbody>\n",
       "</table>\n",
       "<p>5 rows × 29 columns</p>\n",
       "</div>"
      ],
      "text/plain": [
       "  brand_uuid       id        full_name       company_slug  \\\n",
       "0   motorola  2015583   Michaël Maarek  motorola-mobility   \n",
       "1   motorola  2048222  Michael Roberts  motorola-mobility   \n",
       "2   motorola    60552  Pratod Kasbekar  motorola-mobility   \n",
       "3   motorola    60545  Pamela Ajaibela  motorola-mobility   \n",
       "4   motorola    60546     paul burnett                NaN   \n",
       "\n",
       "                      slug                      email  \\\n",
       "0            michaelmaarek         lemike10@gmail.com   \n",
       "1         michaelroberts07    msajs.roberts@gmail.com   \n",
       "2  pratod-kasbekar-a088b64      pkasbekar@verizon.net   \n",
       "3           pamelaajaibela  pamelapajaibela@gmail.com   \n",
       "4    paul-burnett-73189b23      pburnett66@rogers.com   \n",
       "\n",
       "                                           job_title                location  \\\n",
       "0                               Key Account Director  London, United Kingdom   \n",
       "1  Sr. Director of Product Strategy and Business ...  Greater San Diego Area   \n",
       "2  Senior Director of Program Management/Engineering           United States   \n",
       "3                                           Director  San Francisco Bay Area   \n",
       "4                                   Channel Director                  Canada   \n",
       "\n",
       "   is_c_level                       working_since  ...  \\\n",
       "0         0.0           2014-08-01 00:00:00+00:00  ...   \n",
       "1         0.0           2010-08-01 00:00:00+00:00  ...   \n",
       "2         0.0           2006-01-01 00:00:00+00:00  ...   \n",
       "3         0.0           2007-02-01 00:00:00+00:00  ...   \n",
       "4         0.0 1970-01-01 00:00:00.000002017+00:00  ...   \n",
       "\n",
       "  is_physical_products_brand  is_brickandmortar  employees_count  \\\n",
       "0                        1.0                1.0          26954.0   \n",
       "1                        1.0                1.0          26954.0   \n",
       "2                        1.0                1.0          26954.0   \n",
       "3                        1.0                1.0          26954.0   \n",
       "4                        1.0                1.0          26954.0   \n",
       "\n",
       "  generic_reseller  store_is_subdomain  cred_1_growth_score_max  \\\n",
       "0              0.0                 0.0                  63.7659   \n",
       "1              0.0                 0.0                  63.7659   \n",
       "2              0.0                 0.0                  63.7659   \n",
       "3              0.0                 0.0                  63.7659   \n",
       "4              0.0                 0.0                  63.7659   \n",
       "\n",
       "   cred_2_growth_score_mean  days_worked  age_brand_in_days  \\\n",
       "0                 40.933333        853.0            18417.0   \n",
       "1                 31.882950        731.0            18417.0   \n",
       "2                 63.765900       5265.0            18417.0   \n",
       "3                 63.765900       4869.0            18417.0   \n",
       "4                 63.765900      18414.0            18417.0   \n",
       "\n",
       "   experience_w_brand_ratio  \n",
       "0                  0.046316  \n",
       "1                  0.039692  \n",
       "2                  0.285877  \n",
       "3                  0.264375  \n",
       "4                  0.999837  \n",
       "\n",
       "[5 rows x 29 columns]"
      ]
     },
     "execution_count": 33,
     "metadata": {},
     "output_type": "execute_result"
    }
   ],
   "source": [
    "#dropping unneccesary columns\n",
    "\n",
    "columns_to_drop = ['time_worked', 'founded', 'today', 'age_of_brand', 'founded_date', 'product_prices_max',\n",
    "                   'product_prices_min', 'product_prices_mean']\n",
    "for col in columns_to_drop:\n",
    "    combined_data.drop(col, axis =1, inplace =True)\n",
    "combined_data.head()    "
   ]
  },
  {
   "cell_type": "code",
   "execution_count": 62,
   "metadata": {},
   "outputs": [],
   "source": [
    "features_and_target = combined_data[['is_c_level', 'cred_1_growth_score_max', 'job_title','is_current', \n",
    "                                     'is_physical_products_brand', 'is_brickandmortar', 'generic_reseller',\n",
    "                                     'store_is_subdomain', 'growth_score']]"
   ]
  },
  {
   "cell_type": "code",
   "execution_count": 65,
   "metadata": {},
   "outputs": [
    {
     "name": "stderr",
     "output_type": "stream",
     "text": [
      "C:\\Users\\arpit\\Anaconda3\\lib\\site-packages\\ipykernel_launcher.py:1: SettingWithCopyWarning: \n",
      "A value is trying to be set on a copy of a slice from a DataFrame\n",
      "\n",
      "See the caveats in the documentation: http://pandas.pydata.org/pandas-docs/stable/user_guide/indexing.html#returning-a-view-versus-a-copy\n",
      "  \"\"\"Entry point for launching an IPython kernel.\n"
     ]
    }
   ],
   "source": [
    "features_and_target.dropna(inplace=True)"
   ]
  },
  {
   "cell_type": "code",
   "execution_count": 67,
   "metadata": {},
   "outputs": [
    {
     "data": {
      "text/plain": [
       "is_c_level                    0\n",
       "cred_1_growth_score_max       0\n",
       "job_title                     0\n",
       "is_current                    0\n",
       "is_physical_products_brand    0\n",
       "is_brickandmortar             0\n",
       "generic_reseller              0\n",
       "store_is_subdomain            0\n",
       "growth_score                  0\n",
       "dtype: int64"
      ]
     },
     "execution_count": 67,
     "metadata": {},
     "output_type": "execute_result"
    }
   ],
   "source": [
    "features_and_target.isnull().sum()"
   ]
  },
  {
   "cell_type": "code",
   "execution_count": 70,
   "metadata": {},
   "outputs": [],
   "source": [
    "X = features_and_target.drop(['growth_score', 'job_title'], axis = 1)\n",
    "y = features_and_target['growth_score']\n",
    "\n",
    "from sklearn.model_selection import train_test_split, cross_val_score\n",
    "from sklearn.tree import DecisionTreeRegressor\n",
    "from sklearn.metrics import mean_squared_error\n",
    "\n",
    "X_train, X_test, y_train, y_test = train_test_split(X, y, test_size = 0.4, random_state = 0)"
   ]
  },
  {
   "cell_type": "code",
   "execution_count": 71,
   "metadata": {},
   "outputs": [],
   "source": [
    "#Instantiating and fitting a Decision tree regressor\n",
    "regr1 = DecisionTreeRegressor(max_depth= 100)\n",
    "regr1.fit(X_train, y_train)\n",
    "pred1 = regr1.predict(X_test)"
   ]
  },
  {
   "cell_type": "code",
   "execution_count": 73,
   "metadata": {},
   "outputs": [
    {
     "data": {
      "text/plain": [
       "8.897453888888105"
      ]
     },
     "execution_count": 73,
     "metadata": {},
     "output_type": "execute_result"
    }
   ],
   "source": [
    "np.sqrt(mean_squared_error(y_test, pred1))"
   ]
  },
  {
   "cell_type": "code",
   "execution_count": 82,
   "metadata": {},
   "outputs": [
    {
     "data": {
      "text/plain": [
       "DecisionTreeRegressor(criterion='mse', max_depth=50, max_features=None,\n",
       "                      max_leaf_nodes=None, min_impurity_decrease=0.0,\n",
       "                      min_impurity_split=None, min_samples_leaf=1,\n",
       "                      min_samples_split=2, min_weight_fraction_leaf=0.0,\n",
       "                      presort=False, random_state=None, splitter='best')"
      ]
     },
     "execution_count": 82,
     "metadata": {},
     "output_type": "execute_result"
    }
   ],
   "source": [
    "#Instantiating and fitting a Decision tree regressor\n",
    "regr2 = DecisionTreeRegressor(max_depth= 50)\n",
    "regr2.fit(X_train, y_train)"
   ]
  },
  {
   "cell_type": "code",
   "execution_count": 83,
   "metadata": {},
   "outputs": [],
   "source": [
    "from sklearn.model_selection import cross_val_score\n",
    "# function to get cross validation scores\n",
    "def get_cv_scores(model):\n",
    "    scores = cross_val_score(model,\n",
    "                             X_train,\n",
    "                             y_train,\n",
    "                             cv=5,\n",
    "                             scoring='r2')\n",
    "    \n",
    "    print('CV Mean: ', np.mean(scores))\n",
    "    print('STD: ', np.std(scores))\n",
    "    print('\\n')"
   ]
  },
  {
   "cell_type": "code",
   "execution_count": 84,
   "metadata": {},
   "outputs": [
    {
     "name": "stdout",
     "output_type": "stream",
     "text": [
      "CV Mean:  0.8842274512439442\n",
      "STD:  0.001599871296478681\n",
      "\n",
      "\n"
     ]
    }
   ],
   "source": [
    "get_cv_scores(regr2)"
   ]
  },
  {
   "cell_type": "code",
   "execution_count": 85,
   "metadata": {},
   "outputs": [
    {
     "name": "stdout",
     "output_type": "stream",
     "text": [
      "CV Mean:  0.884181074428912\n",
      "STD:  0.001461267103590272\n",
      "\n",
      "\n"
     ]
    }
   ],
   "source": [
    "get_cv_scores(regr1)"
   ]
  },
  {
   "cell_type": "code",
   "execution_count": 34,
   "metadata": {},
   "outputs": [],
   "source": [
    "combined_processed_1 = combined_data.to_csv('combined_processed_1.csv',index = False)"
   ]
  },
  {
   "cell_type": "code",
   "execution_count": 88,
   "metadata": {},
   "outputs": [
    {
     "name": "stdout",
     "output_type": "stream",
     "text": [
      "CV Mean:  0.8841445050498207\n",
      "STD:  0.0014641347601818107\n",
      "\n",
      "\n"
     ]
    }
   ],
   "source": [
    "get_cv_scores(regr1)"
   ]
  },
  {
   "cell_type": "code",
   "execution_count": 89,
   "metadata": {},
   "outputs": [
    {
     "data": {
      "text/plain": [
       "<matplotlib.axes._subplots.AxesSubplot at 0x121a37dd508>"
      ]
     },
     "execution_count": 89,
     "metadata": {},
     "output_type": "execute_result"
    },
    {
     "data": {
      "image/png": "[encoded data removed]",
      "text/plain": [
       "<Figure size 432x288 with 1 Axes>"
      ]
     },
     "metadata": {
      "needs_background": "light"
     },
     "output_type": "display_data"
    }
   ],
   "source": [
    "#\n",
    "sns.scatterplot(x = 'cred_1_growth_score_max', y = 'growth_score', data = features_and_target, palette = 'coolwarm', hue = 'is_c_level')"
   ]
  },
  {
   "cell_type": "code",
   "execution_count": 90,
   "metadata": {},
   "outputs": [
    {
     "data": {
      "text/plain": [
       "(1545956, 7)"
      ]
     },
     "execution_count": 90,
     "metadata": {},
     "output_type": "execute_result"
    }
   ],
   "source": [
    "#Let us also try fit a random forest regressor model on this data to see if we get better results\n",
    "X.shape"
   ]
  },
  {
   "cell_type": "code",
   "execution_count": 91,
   "metadata": {},
   "outputs": [
    {
     "name": "stderr",
     "output_type": "stream",
     "text": [
      "C:\\Users\\arpit\\Anaconda3\\lib\\site-packages\\sklearn\\ensemble\\forest.py:245: FutureWarning: The default value of n_estimators will change from 10 in version 0.20 to 100 in 0.22.\n",
      "  \"10 in version 0.20 to 100 in 0.22.\", FutureWarning)\n"
     ]
    },
    {
     "data": {
      "text/plain": [
       "RandomForestRegressor(bootstrap=True, criterion='mse', max_depth=None,\n",
       "                      max_features=7, max_leaf_nodes=None,\n",
       "                      min_impurity_decrease=0.0, min_impurity_split=None,\n",
       "                      min_samples_leaf=1, min_samples_split=2,\n",
       "                      min_weight_fraction_leaf=0.0, n_estimators=10,\n",
       "                      n_jobs=None, oob_score=False, random_state=1, verbose=0,\n",
       "                      warm_start=False)"
      ]
     },
     "execution_count": 91,
     "metadata": {},
     "output_type": "execute_result"
    }
   ],
   "source": [
    "#Bagging using all features\n",
    "from sklearn.ensemble import BaggingRegressor, RandomForestRegressor, GradientBoostingRegressor\n",
    "\n",
    "bag_regr1 = RandomForestRegressor(max_features=7, random_state=1)\n",
    "bag_regr1.fit(X_train, y_train)"
   ]
  },
  {
   "cell_type": "code",
   "execution_count": 92,
   "metadata": {},
   "outputs": [
    {
     "data": {
      "text/plain": [
       "Text(0, 0.5, 'y_test')"
      ]
     },
     "execution_count": 92,
     "metadata": {},
     "output_type": "execute_result"
    },
    {
     "data": {
      "image/png": "[encoded data removed]",
      "text/plain": [
       "<Figure size 936x720 with 1 Axes>"
      ]
     },
     "metadata": {
      "needs_background": "light"
     },
     "output_type": "display_data"
    }
   ],
   "source": [
    "pred = bag_regr1.predict(X_test)\n",
    "\n",
    "plt.figure(figsize = (13,10))\n",
    "plt.scatter(pred, y_test)\n",
    "plt.plot([0, 1], [0, 1], '--k', transform=plt.gca().transAxes)\n",
    "plt.xlabel('pred')\n",
    "plt.ylabel('y_test')"
   ]
  },
  {
   "cell_type": "code",
   "execution_count": 93,
   "metadata": {},
   "outputs": [
    {
     "data": {
      "text/plain": [
       "8.374168936535595"
      ]
     },
     "execution_count": 93,
     "metadata": {},
     "output_type": "execute_result"
    }
   ],
   "source": [
    "np.sqrt(mean_squared_error(y_test, pred))"
   ]
  },
  {
   "cell_type": "code",
   "execution_count": 94,
   "metadata": {},
   "outputs": [
    {
     "name": "stdout",
     "output_type": "stream",
     "text": [
      "CV Mean:  0.8984725971347721\n",
      "STD:  0.0011544461508664384\n",
      "\n",
      "\n"
     ]
    }
   ],
   "source": [
    "get_cv_scores(bag_regr1)"
   ]
  },
  {
   "cell_type": "code",
   "execution_count": 95,
   "metadata": {},
   "outputs": [
    {
     "name": "stderr",
     "output_type": "stream",
     "text": [
      "C:\\Users\\arpit\\Anaconda3\\lib\\site-packages\\sklearn\\ensemble\\forest.py:245: FutureWarning: The default value of n_estimators will change from 10 in version 0.20 to 100 in 0.22.\n",
      "  \"10 in version 0.20 to 100 in 0.22.\", FutureWarning)\n"
     ]
    },
    {
     "data": {
      "text/plain": [
       "RandomForestRegressor(bootstrap=True, criterion='mse', max_depth=None,\n",
       "                      max_features=3, max_leaf_nodes=None,\n",
       "                      min_impurity_decrease=0.0, min_impurity_split=None,\n",
       "                      min_samples_leaf=1, min_samples_split=2,\n",
       "                      min_weight_fraction_leaf=0.0, n_estimators=10,\n",
       "                      n_jobs=None, oob_score=False, random_state=1, verbose=0,\n",
       "                      warm_start=False)"
      ]
     },
     "execution_count": 95,
     "metadata": {},
     "output_type": "execute_result"
    }
   ],
   "source": [
    "#Random forest regressor with 3 features\n",
    "bag_regr2 = RandomForestRegressor(max_features=3, random_state=1)\n",
    "bag_regr2.fit(X_train, y_train)"
   ]
  },
  {
   "cell_type": "code",
   "execution_count": 96,
   "metadata": {},
   "outputs": [
    {
     "data": {
      "text/plain": [
       "8.54023434678565"
      ]
     },
     "execution_count": 96,
     "metadata": {},
     "output_type": "execute_result"
    }
   ],
   "source": [
    "pred_2 = bag_regr2.predict(X_test)\n",
    "np.sqrt(mean_squared_error(y_test, pred_2))"
   ]
  },
  {
   "cell_type": "code",
   "execution_count": 98,
   "metadata": {},
   "outputs": [
    {
     "data": {
      "image/png": "[encoded data removed]",
      "text/plain": [
       "<Figure size 432x288 with 1 Axes>"
      ]
     },
     "metadata": {
      "needs_background": "light"
     },
     "output_type": "display_data"
    }
   ],
   "source": [
    "#Visualizing the feature importances for random forest with 3 max features\n",
    "Importance = pd.DataFrame({'Importance':bag_regr2.feature_importances_*100}, index=X.columns)\n",
    "Importance.sort_values('Importance', axis=0, ascending=True).plot(kind='barh', color='r', )\n",
    "plt.xlabel('Variable Importance')\n",
    "plt.gca().legend_ = None"
   ]
  },
  {
   "cell_type": "code",
   "execution_count": 99,
   "metadata": {},
   "outputs": [
    {
     "data": {
      "image/png": "[encoded data removed]",
      "text/plain": [
       "<Figure size 432x288 with 1 Axes>"
      ]
     },
     "metadata": {
      "needs_background": "light"
     },
     "output_type": "display_data"
    }
   ],
   "source": [
    "#Visualizing the feature importances for random forest with 7 max features\n",
    "Importance = pd.DataFrame({'Importance':bag_regr1.feature_importances_*100}, index=X.columns)\n",
    "Importance.sort_values('Importance', axis=0, ascending=True).plot(kind='barh', color='r', )\n",
    "plt.xlabel('Variable Importance')\n",
    "plt.gca().legend_ = None"
   ]
  },
  {
   "cell_type": "code",
   "execution_count": 100,
   "metadata": {},
   "outputs": [
    {
     "data": {
      "text/plain": [
       "GradientBoostingRegressor(alpha=0.9, criterion='friedman_mse', init=None,\n",
       "                          learning_rate=0.01, loss='ls', max_depth=3,\n",
       "                          max_features=None, max_leaf_nodes=None,\n",
       "                          min_impurity_decrease=0.0, min_impurity_split=None,\n",
       "                          min_samples_leaf=1, min_samples_split=2,\n",
       "                          min_weight_fraction_leaf=0.0, n_estimators=500,\n",
       "                          n_iter_no_change=None, presort='auto', random_state=1,\n",
       "                          subsample=1.0, tol=0.0001, validation_fraction=0.1,\n",
       "                          verbose=0, warm_start=False)"
      ]
     },
     "execution_count": 100,
     "metadata": {},
     "output_type": "execute_result"
    }
   ],
   "source": [
    "#Boosting algorithm to make the predictions\n",
    "regr_boost = GradientBoostingRegressor(n_estimators=500, learning_rate=0.01, random_state=1)\n",
    "regr_boost.fit(X_train, y_train)"
   ]
  },
  {
   "cell_type": "code",
   "execution_count": 101,
   "metadata": {},
   "outputs": [
    {
     "name": "stdout",
     "output_type": "stream",
     "text": [
      "generic_reseller               0.000000\n",
      "is_c_level                     0.017811\n",
      "is_brickandmortar              0.058711\n",
      "is_physical_products_brand     0.154554\n",
      "is_current                     0.407026\n",
      "store_is_subdomain             1.510721\n",
      "cred_1_growth_score_max       97.851177\n",
      "dtype: float64\n"
     ]
    },
    {
     "data": {
      "image/png": "[encoded data removed]",
      "text/plain": [
       "<Figure size 432x288 with 1 Axes>"
      ]
     },
     "metadata": {
      "needs_background": "light"
     },
     "output_type": "display_data"
    }
   ],
   "source": [
    "feature_importance = regr_boost.feature_importances_*100\n",
    "rel_imp = pd.Series(feature_importance, index=X.columns).sort_values(inplace=False)\n",
    "print(rel_imp)\n",
    "rel_imp.T.plot(kind='barh', color='r', )\n",
    "plt.xlabel('Variable Importance in Gradient Boost Regressor')\n",
    "plt.gca().legend_ = None"
   ]
  },
  {
   "cell_type": "code",
   "execution_count": 103,
   "metadata": {},
   "outputs": [
    {
     "data": {
      "text/plain": [
       "8.708187481389366"
      ]
     },
     "execution_count": 103,
     "metadata": {},
     "output_type": "execute_result"
    }
   ],
   "source": [
    "pred_boost = regr_boost.predict(X_test)\n",
    "np.sqrt(mean_squared_error(y_test, pred_boost))"
   ]
  },
  {
   "cell_type": "code",
   "execution_count": 104,
   "metadata": {},
   "outputs": [
    {
     "name": "stdout",
     "output_type": "stream",
     "text": [
      "CV Mean:  0.8934219370868911\n",
      "STD:  0.0015977279589886773\n",
      "\n",
      "\n"
     ]
    }
   ],
   "source": [
    "get_cv_scores(regr_boost)"
   ]
  },
  {
   "cell_type": "code",
   "execution_count": 106,
   "metadata": {},
   "outputs": [
    {
     "name": "stdout",
     "output_type": "stream",
     "text": [
      "714331\n",
      "74\n"
     ]
    }
   ],
   "source": [
    "print(combined_data['job_title'].nunique())\n",
    "print(combined_data['job_title'].isnull().sum())"
   ]
  },
  {
   "cell_type": "code",
   "execution_count": null,
   "metadata": {},
   "outputs": [],
   "source": []
  },
  {
   "cell_type": "code",
   "execution_count": null,
   "metadata": {},
   "outputs": [],
   "source": []
  }
 ],
 "metadata": {
  "kernelspec": {
   "display_name": "conda_python3",
   "language": "python",
   "name": "conda_python3"
  },
  "language_info": {
   "codemirror_mode": {
    "name": "ipython",
    "version": 3
   },
   "file_extension": ".py",
   "mimetype": "text/x-python",
   "name": "python",
   "nbconvert_exporter": "python",
   "pygments_lexer": "ipython3",
   "version": "3.6.5"
  }
 },
 "nbformat": 4,
 "nbformat_minor": 2
}
