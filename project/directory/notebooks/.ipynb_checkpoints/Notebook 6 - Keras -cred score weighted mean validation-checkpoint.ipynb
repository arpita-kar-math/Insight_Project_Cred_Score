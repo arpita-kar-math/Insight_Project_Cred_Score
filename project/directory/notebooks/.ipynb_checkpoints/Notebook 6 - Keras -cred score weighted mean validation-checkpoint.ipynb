{
 "cells": [
  {
   "cell_type": "code",
   "execution_count": 1,
   "metadata": {},
   "outputs": [
    {
     "name": "stdout",
     "output_type": "stream",
     "text": [
      "WARNING:tensorflow:From /home/ec2-user/anaconda3/envs/tensorflow_p27/lib/python2.7/site-packages/tensorflow_core/__init__.py:1467: The name tf.estimator.inputs is deprecated. Please use tf.compat.v1.estimator.inputs instead.\n",
      "\n"
     ]
    }
   ],
   "source": [
    "from tensorflow.keras.models import Sequential\n",
    "from tensorflow.keras.layers import Dense, Activation\n",
    "from tensorflow.keras.optimizers import Adam\n",
    "from sklearn.model_selection import train_test_split\n",
    "from sklearn.preprocessing import MinMaxScaler\n",
    "from tensorflow.keras.layers import Dropout\n",
    "from tensorflow.keras.constraints import max_norm\n",
    "from tensorflow.keras.models import load_model\n",
    "from sklearn.metrics import mean_squared_error,mean_absolute_error,explained_variance_score, r2_score"
   ]
  },
  {
   "cell_type": "code",
   "execution_count": 2,
   "metadata": {},
   "outputs": [],
   "source": [
    "import numpy as np\n",
    "import pandas as pd\n",
    "import matplotlib.pyplot as plt\n",
    "import seaborn as sns\n",
    "%matplotlib inline"
   ]
  },
  {
   "cell_type": "code",
   "execution_count": 3,
   "metadata": {},
   "outputs": [],
   "source": [
    "df_chunk = pd.read_csv('df_mean_cred_score.csv', usecols=['full_name', 'slug', 'job_title', 'brand_name', 'is_c_level',  'is_current', 'growth_score',\n",
    "                                                          'sudden_growth_score', 'sudden_growth_delta', 'acceleration_score', 'success_score', \n",
    "                                                          'is_physical_products_brand', 'is_brickandmortar','generic_reseller', \n",
    "                                                          'store_is_subdomain','cred_score_weighted_mean_mean','cred_score_weighted_mean_max', \n",
    "                                                          'num_brand_count','position_weight', 'experience_w_brand_ratio', 'cred_score_weighted_median'], chunksize=500)"
   ]
  },
  {
   "cell_type": "code",
   "execution_count": 4,
   "metadata": {},
   "outputs": [
    {
     "name": "stdout",
     "output_type": "stream",
     "text": [
      "CPU times: user 22.5 s, sys: 801 ms, total: 23.3 s\n",
      "Wall time: 26.9 s\n"
     ]
    }
   ],
   "source": [
    "%%time\n",
    "#This is in case you use chunks in pandas to upload your file.\n",
    "chunk_list = []  # append each chunk df here \n",
    "\n",
    "# Each chunk is in df format\n",
    "for chunk in df_chunk:\n",
    "    # Once the data filtering is done, append the chunk to list\n",
    "    chunk_list.append(chunk)\n",
    "    \n",
    "# concat the list into dataframe \n",
    "df = pd.concat(chunk_list)\n",
    "del chunk_list"
   ]
  },
  {
   "cell_type": "code",
   "execution_count": 5,
   "metadata": {},
   "outputs": [],
   "source": [
    "#The loyalty column\n",
    "df.loc[(df['num_brand_count'] >=2),'num_brand_association'] = 0\n",
    "df.loc[(df['num_brand_count'] <2),'num_brand_association'] = 1"
   ]
  },
  {
   "cell_type": "code",
   "execution_count": 6,
   "metadata": {},
   "outputs": [],
   "source": [
    "X = df[['is_current','is_c_level', 'is_physical_products_brand', 'is_brickandmortar', 'generic_reseller',\n",
    "       'store_is_subdomain', 'num_brand_association', 'cred_score_weighted_mean_mean']]\n",
    "y = df['growth_score']"
   ]
  },
  {
   "cell_type": "markdown",
   "metadata": {},
   "source": [
    "Train test split\n"
   ]
  },
  {
   "cell_type": "code",
   "execution_count": 7,
   "metadata": {},
   "outputs": [],
   "source": [
    "X_train, X_test, y_train, y_test = train_test_split(X,y,test_size=0.3,random_state=101)"
   ]
  },
  {
   "cell_type": "code",
   "execution_count": 8,
   "metadata": {},
   "outputs": [],
   "source": [
    "#scaling\n",
    "scaler = MinMaxScaler()\n",
    "X_train= scaler.fit_transform(X_train)\n",
    "X_test = scaler.transform(X_test)"
   ]
  },
  {
   "cell_type": "code",
   "execution_count": 9,
   "metadata": {},
   "outputs": [
    {
     "name": "stderr",
     "output_type": "stream",
     "text": [
      "Using TensorFlow backend.\n"
     ]
    }
   ],
   "source": [
    "from keras import backend as K\n",
    "\n",
    "def coeff_determination(y_true, y_pred):\n",
    "    SS_res =  K.sum(K.square( y_true-y_pred )) \n",
    "    SS_tot = K.sum(K.square( y_true - K.mean(y_true) ) ) \n",
    "    return ( 1 - SS_res/(SS_tot + K.epsilon()) )"
   ]
  },
  {
   "cell_type": "code",
   "execution_count": 10,
   "metadata": {},
   "outputs": [],
   "source": [
    "#creating the model\n",
    "model = Sequential()\n",
    "\n",
    "#input layer\n",
    "model.add(Dense(8,activation='relu'))\n",
    "\n",
    "#hidden layer\n",
    "model.add(Dense(8,activation='relu'))\n",
    "model.add(Dropout(0.2))\n",
    "\n",
    "model.add(Dense(4,activation='relu'))\n",
    "\n",
    "model.add(Dense(4,activation='relu'))\n",
    "\n",
    "model.add(Dense(1))\n",
    "\n",
    "model.compile(optimizer='adam',loss='mae', metrics=[coeff_determination])"
   ]
  },
  {
   "cell_type": "code",
   "execution_count": 11,
   "metadata": {},
   "outputs": [
    {
     "name": "stdout",
     "output_type": "stream",
     "text": [
      "WARNING:tensorflow:From /home/ec2-user/anaconda3/envs/tensorflow_p27/lib/python2.7/site-packages/tensorflow_core/python/ops/resource_variable_ops.py:1630: calling __init__ (from tensorflow.python.ops.resource_variable_ops) with constraint is deprecated and will be removed in a future version.\n",
      "Instructions for updating:\n",
      "If using Keras pass *_constraint arguments to layers.\n",
      "Train on 1058297 samples, validate on 453557 samples\n",
      "WARNING:tensorflow:OMP_NUM_THREADS is no longer used by the default Keras config. To configure the number of threads, use tf.config.threading APIs.\n",
      "Epoch 1/100\n",
      "1058297/1058297 [==============================] - 11s 11us/sample - loss: 19.0198 - coeff_determination: 0.0535 - val_loss: 17.4893 - val_coeff_determination: 0.1480\n",
      "Epoch 2/100\n",
      "1058297/1058297 [==============================] - 11s 10us/sample - loss: 17.2147 - coeff_determination: 0.1740 - val_loss: 16.2477 - val_coeff_determination: 0.2324\n",
      "Epoch 3/100\n",
      "1058297/1058297 [==============================] - 11s 10us/sample - loss: 16.0666 - coeff_determination: 0.2272 - val_loss: 15.1293 - val_coeff_determination: 0.3026\n",
      "Epoch 4/100\n",
      "1058297/1058297 [==============================] - 11s 10us/sample - loss: 15.6996 - coeff_determination: 0.2498 - val_loss: 14.9195 - val_coeff_determination: 0.3156\n",
      "Epoch 5/100\n",
      "1058297/1058297 [==============================] - 11s 10us/sample - loss: 15.4906 - coeff_determination: 0.2734 - val_loss: 14.7078 - val_coeff_determination: 0.3637\n",
      "Epoch 6/100\n",
      "1058297/1058297 [==============================] - 11s 10us/sample - loss: 15.1536 - coeff_determination: 0.3057 - val_loss: 14.0455 - val_coeff_determination: 0.3997\n",
      "Epoch 7/100\n",
      "1058297/1058297 [==============================] - 11s 10us/sample - loss: 14.7518 - coeff_determination: 0.3400 - val_loss: 13.8419 - val_coeff_determination: 0.4005\n",
      "Epoch 8/100\n",
      "1058297/1058297 [==============================] - 11s 10us/sample - loss: 14.4817 - coeff_determination: 0.3679 - val_loss: 13.5489 - val_coeff_determination: 0.4362\n",
      "Epoch 9/100\n",
      "1058297/1058297 [==============================] - 10s 10us/sample - loss: 14.3216 - coeff_determination: 0.3878 - val_loss: 13.8373 - val_coeff_determination: 0.4076\n",
      "Epoch 10/100\n",
      "1058297/1058297 [==============================] - 11s 10us/sample - loss: 14.2417 - coeff_determination: 0.3985 - val_loss: 13.6186 - val_coeff_determination: 0.4708\n",
      "Epoch 11/100\n",
      "1058297/1058297 [==============================] - 10s 10us/sample - loss: 14.1881 - coeff_determination: 0.4046 - val_loss: 13.3077 - val_coeff_determination: 0.4666\n",
      "Epoch 12/100\n",
      "1058297/1058297 [==============================] - 10s 10us/sample - loss: 14.1532 - coeff_determination: 0.4086 - val_loss: 13.3026 - val_coeff_determination: 0.4864\n",
      "Epoch 13/100\n",
      "1058297/1058297 [==============================] - 11s 10us/sample - loss: 14.1361 - coeff_determination: 0.4108 - val_loss: 13.2661 - val_coeff_determination: 0.4660\n",
      "Epoch 14/100\n",
      "1058297/1058297 [==============================] - 13s 12us/sample - loss: 14.1202 - coeff_determination: 0.4123 - val_loss: 13.5659 - val_coeff_determination: 0.4703\n",
      "Epoch 15/100\n",
      "1058297/1058297 [==============================] - 10s 10us/sample - loss: 14.1447 - coeff_determination: 0.4125 - val_loss: 13.1023 - val_coeff_determination: 0.4740\n",
      "Epoch 16/100\n",
      "1058297/1058297 [==============================] - 11s 10us/sample - loss: 14.1033 - coeff_determination: 0.4144 - val_loss: 13.2241 - val_coeff_determination: 0.4614\n",
      "Epoch 17/100\n",
      "1058297/1058297 [==============================] - 10s 10us/sample - loss: 14.0743 - coeff_determination: 0.4161 - val_loss: 13.3847 - val_coeff_determination: 0.4657\n",
      "Epoch 18/100\n",
      "1058297/1058297 [==============================] - 11s 10us/sample - loss: 14.0765 - coeff_determination: 0.4160 - val_loss: 13.0966 - val_coeff_determination: 0.4810\n",
      "Epoch 19/100\n",
      "1058297/1058297 [==============================] - 11s 10us/sample - loss: 14.0013 - coeff_determination: 0.4195 - val_loss: 13.3817 - val_coeff_determination: 0.4920\n",
      "Epoch 20/100\n",
      "1058297/1058297 [==============================] - 10s 10us/sample - loss: 13.9460 - coeff_determination: 0.4212 - val_loss: 13.0984 - val_coeff_determination: 0.4633\n",
      "Epoch 21/100\n",
      "1058297/1058297 [==============================] - 10s 10us/sample - loss: 13.9284 - coeff_determination: 0.4208 - val_loss: 13.1337 - val_coeff_determination: 0.4887\n",
      "Epoch 22/100\n",
      "1058297/1058297 [==============================] - 11s 10us/sample - loss: 13.8901 - coeff_determination: 0.4224 - val_loss: 13.1820 - val_coeff_determination: 0.4721\n",
      "Epoch 23/100\n",
      "1058297/1058297 [==============================] - 11s 10us/sample - loss: 13.8923 - coeff_determination: 0.4225 - val_loss: 13.0558 - val_coeff_determination: 0.4876\n",
      "Epoch 24/100\n",
      "1058297/1058297 [==============================] - 11s 10us/sample - loss: 13.8480 - coeff_determination: 0.4249 - val_loss: 13.1680 - val_coeff_determination: 0.4555\n",
      "Epoch 25/100\n",
      "1058297/1058297 [==============================] - 11s 10us/sample - loss: 13.6810 - coeff_determination: 0.4313 - val_loss: 12.9468 - val_coeff_determination: 0.5068\n",
      "Epoch 26/100\n",
      "1058297/1058297 [==============================] - 11s 10us/sample - loss: 13.6043 - coeff_determination: 0.4350 - val_loss: 13.1236 - val_coeff_determination: 0.4758\n",
      "Epoch 27/100\n",
      "1058297/1058297 [==============================] - 11s 10us/sample - loss: 13.5522 - coeff_determination: 0.4382 - val_loss: 12.9672 - val_coeff_determination: 0.4627\n",
      "Epoch 28/100\n",
      "1058297/1058297 [==============================] - 11s 10us/sample - loss: 13.5158 - coeff_determination: 0.4394 - val_loss: 12.8375 - val_coeff_determination: 0.5009\n",
      "Epoch 29/100\n",
      "1058297/1058297 [==============================] - 11s 10us/sample - loss: 13.5069 - coeff_determination: 0.4394 - val_loss: 13.2351 - val_coeff_determination: 0.5094\n",
      "Epoch 30/100\n",
      "1058297/1058297 [==============================] - 11s 10us/sample - loss: 13.5201 - coeff_determination: 0.4377 - val_loss: 13.1571 - val_coeff_determination: 0.4995\n",
      "Epoch 31/100\n",
      "1058297/1058297 [==============================] - 13s 12us/sample - loss: 13.4776 - coeff_determination: 0.4401 - val_loss: 12.8388 - val_coeff_determination: 0.4875\n",
      "Epoch 32/100\n",
      "1058297/1058297 [==============================] - 10s 10us/sample - loss: 13.4805 - coeff_determination: 0.4398 - val_loss: 13.1950 - val_coeff_determination: 0.4869\n",
      "Epoch 33/100\n",
      "1058297/1058297 [==============================] - 12s 11us/sample - loss: 13.4347 - coeff_determination: 0.4430 - val_loss: 12.6912 - val_coeff_determination: 0.4993\n",
      "Epoch 34/100\n",
      "1058297/1058297 [==============================] - 63s 60us/sample - loss: 13.4397 - coeff_determination: 0.4428 - val_loss: 13.0350 - val_coeff_determination: 0.4541\n",
      "Epoch 35/100\n",
      "1058297/1058297 [==============================] - 75s 71us/sample - loss: 13.4226 - coeff_determination: 0.4437 - val_loss: 13.6695 - val_coeff_determination: 0.4876\n",
      "Epoch 36/100\n",
      "1058297/1058297 [==============================] - 14s 13us/sample - loss: 13.4668 - coeff_determination: 0.4397 - val_loss: 13.6849 - val_coeff_determination: 0.3978\n",
      "Epoch 37/100\n",
      "1058297/1058297 [==============================] - 11s 10us/sample - loss: 13.4315 - coeff_determination: 0.4421 - val_loss: 12.8803 - val_coeff_determination: 0.4852\n",
      "Epoch 38/100\n",
      "1058297/1058297 [==============================] - 11s 10us/sample - loss: 13.4201 - coeff_determination: 0.4433 - val_loss: 13.3161 - val_coeff_determination: 0.4445\n",
      "Epoch 39/100\n",
      "1058297/1058297 [==============================] - 32s 30us/sample - loss: 13.4159 - coeff_determination: 0.4434 - val_loss: 13.1275 - val_coeff_determination: 0.4556\n",
      "Epoch 40/100\n",
      "1058297/1058297 [==============================] - 74s 70us/sample - loss: 13.3862 - coeff_determination: 0.4451 - val_loss: 12.5830 - val_coeff_determination: 0.4935\n",
      "Epoch 41/100\n",
      "1058297/1058297 [==============================] - 86s 82us/sample - loss: 13.4160 - coeff_determination: 0.4434 - val_loss: 12.7333 - val_coeff_determination: 0.4849\n",
      "Epoch 42/100\n",
      "1058297/1058297 [==============================] - 75s 71us/sample - loss: 13.4252 - coeff_determination: 0.4427 - val_loss: 12.6538 - val_coeff_determination: 0.4968\n",
      "Epoch 43/100\n"
     ]
    },
    {
     "name": "stdout",
     "output_type": "stream",
     "text": [
      "1058297/1058297 [==============================] - 11s 10us/sample - loss: 13.4298 - coeff_determination: 0.4421 - val_loss: 12.6855 - val_coeff_determination: 0.5087\n",
      "Epoch 44/100\n",
      "1058297/1058297 [==============================] - 11s 10us/sample - loss: 13.3868 - coeff_determination: 0.4448 - val_loss: 13.5519 - val_coeff_determination: 0.4170\n",
      "Epoch 45/100\n",
      "1058297/1058297 [==============================] - 11s 10us/sample - loss: 13.3925 - coeff_determination: 0.4447 - val_loss: 12.7504 - val_coeff_determination: 0.4823\n",
      "Epoch 46/100\n",
      "1058297/1058297 [==============================] - 25s 23us/sample - loss: 13.3942 - coeff_determination: 0.4445 - val_loss: 12.7301 - val_coeff_determination: 0.4946\n",
      "Epoch 47/100\n",
      "1058297/1058297 [==============================] - 88s 83us/sample - loss: 13.4241 - coeff_determination: 0.4424 - val_loss: 12.7303 - val_coeff_determination: 0.5038\n",
      "Epoch 48/100\n",
      "1058297/1058297 [==============================] - 76s 72us/sample - loss: 13.4063 - coeff_determination: 0.4436 - val_loss: 13.4836 - val_coeff_determination: 0.4189\n",
      "Epoch 49/100\n",
      "1058297/1058297 [==============================] - 81s 76us/sample - loss: 13.4264 - coeff_determination: 0.4424 - val_loss: 13.2505 - val_coeff_determination: 0.5014\n",
      "Epoch 50/100\n",
      "1058297/1058297 [==============================] - 11s 10us/sample - loss: 13.3998 - coeff_determination: 0.4440 - val_loss: 12.8166 - val_coeff_determination: 0.4842\n",
      "Epoch 51/100\n",
      "1058297/1058297 [==============================] - 11s 10us/sample - loss: 13.4149 - coeff_determination: 0.4430 - val_loss: 13.0571 - val_coeff_determination: 0.4499\n",
      "Epoch 52/100\n",
      "1058297/1058297 [==============================] - 11s 10us/sample - loss: 13.3891 - coeff_determination: 0.4442 - val_loss: 13.1557 - val_coeff_determination: 0.4561\n",
      "Epoch 53/100\n",
      "1058297/1058297 [==============================] - 34s 32us/sample - loss: 13.3889 - coeff_determination: 0.4438 - val_loss: 12.6846 - val_coeff_determination: 0.4835\n",
      "Epoch 54/100\n",
      "1058297/1058297 [==============================] - 86s 81us/sample - loss: 13.3950 - coeff_determination: 0.4436 - val_loss: 13.2169 - val_coeff_determination: 0.4714\n",
      "Epoch 55/100\n",
      "1058297/1058297 [==============================] - 75s 71us/sample - loss: 13.3874 - coeff_determination: 0.4441 - val_loss: 12.7266 - val_coeff_determination: 0.4940\n",
      "Epoch 56/100\n",
      "1058297/1058297 [==============================] - 72s 68us/sample - loss: 13.4012 - coeff_determination: 0.4437 - val_loss: 12.6737 - val_coeff_determination: 0.4837\n",
      "Epoch 57/100\n",
      "1058297/1058297 [==============================] - 12s 12us/sample - loss: 13.4061 - coeff_determination: 0.4426 - val_loss: 13.4278 - val_coeff_determination: 0.4845\n",
      "Epoch 58/100\n",
      "1058297/1058297 [==============================] - 11s 10us/sample - loss: 13.3700 - coeff_determination: 0.4450 - val_loss: 12.7607 - val_coeff_determination: 0.5016\n",
      "Epoch 59/100\n",
      "1058297/1058297 [==============================] - 11s 10us/sample - loss: 13.4029 - coeff_determination: 0.4430 - val_loss: 12.8801 - val_coeff_determination: 0.4843\n",
      "Epoch 60/100\n",
      "1058297/1058297 [==============================] - 39s 37us/sample - loss: 13.3701 - coeff_determination: 0.4456 - val_loss: 12.6798 - val_coeff_determination: 0.5035\n",
      "Epoch 61/100\n",
      "1058297/1058297 [==============================] - 74s 70us/sample - loss: 13.3739 - coeff_determination: 0.4449 - val_loss: 12.8114 - val_coeff_determination: 0.4699\n",
      "Epoch 62/100\n",
      "1058297/1058297 [==============================] - 87s 82us/sample - loss: 13.3730 - coeff_determination: 0.4454 - val_loss: 13.4168 - val_coeff_determination: 0.4302\n",
      "Epoch 63/100\n",
      "1058297/1058297 [==============================] - 68s 64us/sample - loss: 13.4021 - coeff_determination: 0.4432 - val_loss: 12.6157 - val_coeff_determination: 0.4912\n",
      "Epoch 64/100\n",
      "1058297/1058297 [==============================] - 11s 10us/sample - loss: 13.3764 - coeff_determination: 0.4447 - val_loss: 12.7603 - val_coeff_determination: 0.4782\n",
      "Epoch 65/100\n",
      "1058297/1058297 [==============================] - 11s 10us/sample - loss: 13.4079 - coeff_determination: 0.4428 - val_loss: 12.9525 - val_coeff_determination: 0.4779\n",
      "Epoch 66/100\n",
      "1058297/1058297 [==============================] - 11s 10us/sample - loss: 13.3926 - coeff_determination: 0.4434 - val_loss: 12.7685 - val_coeff_determination: 0.4740\n",
      "Epoch 67/100\n",
      "1058297/1058297 [==============================] - 35s 33us/sample - loss: 13.3837 - coeff_determination: 0.4451 - val_loss: 13.5086 - val_coeff_determination: 0.4706\n",
      "Epoch 68/100\n",
      "1058297/1058297 [==============================] - 87s 82us/sample - loss: 13.3775 - coeff_determination: 0.4453 - val_loss: 13.4678 - val_coeff_determination: 0.4942\n",
      "Epoch 69/100\n",
      "1058297/1058297 [==============================] - 75s 71us/sample - loss: 13.3757 - coeff_determination: 0.4446 - val_loss: 12.6055 - val_coeff_determination: 0.5036\n",
      "Epoch 70/100\n",
      "1058297/1058297 [==============================] - 72s 68us/sample - loss: 13.3457 - coeff_determination: 0.4472 - val_loss: 12.8870 - val_coeff_determination: 0.4748\n",
      "Epoch 71/100\n",
      "1058297/1058297 [==============================] - 11s 10us/sample - loss: 13.3729 - coeff_determination: 0.4452 - val_loss: 12.7005 - val_coeff_determination: 0.4730\n",
      "Epoch 72/100\n",
      "1058297/1058297 [==============================] - 11s 10us/sample - loss: 13.3843 - coeff_determination: 0.4444 - val_loss: 13.1095 - val_coeff_determination: 0.4498\n",
      "Epoch 73/100\n",
      "1058297/1058297 [==============================] - 11s 10us/sample - loss: 13.4058 - coeff_determination: 0.4430 - val_loss: 13.1595 - val_coeff_determination: 0.4338\n",
      "Epoch 74/100\n",
      "1058297/1058297 [==============================] - 44s 41us/sample - loss: 13.3632 - coeff_determination: 0.4460 - val_loss: 12.8362 - val_coeff_determination: 0.4609\n",
      "Epoch 75/100\n",
      "1058297/1058297 [==============================] - 90s 85us/sample - loss: 13.3702 - coeff_determination: 0.4449 - val_loss: 12.8989 - val_coeff_determination: 0.4823\n",
      "Epoch 76/100\n",
      "1058297/1058297 [==============================] - 78s 73us/sample - loss: 13.3676 - coeff_determination: 0.4456 - val_loss: 13.0426 - val_coeff_determination: 0.4576\n",
      "Epoch 77/100\n",
      "1058297/1058297 [==============================] - 57s 54us/sample - loss: 13.3436 - coeff_determination: 0.4473 - val_loss: 12.9037 - val_coeff_determination: 0.5075\n",
      "Epoch 78/100\n",
      "1058297/1058297 [==============================] - 13s 12us/sample - loss: 13.3716 - coeff_determination: 0.4449 - val_loss: 13.1891 - val_coeff_determination: 0.4996\n",
      "Epoch 79/100\n",
      "1058297/1058297 [==============================] - 11s 10us/sample - loss: 13.3606 - coeff_determination: 0.4460 - val_loss: 12.9919 - val_coeff_determination: 0.4975\n",
      "Epoch 80/100\n",
      "1058297/1058297 [==============================] - 12s 11us/sample - loss: 13.3248 - coeff_determination: 0.4479 - val_loss: 12.6550 - val_coeff_determination: 0.5041\n",
      "Epoch 81/100\n",
      "1058297/1058297 [==============================] - 58s 55us/sample - loss: 13.3561 - coeff_determination: 0.4465 - val_loss: 13.0909 - val_coeff_determination: 0.4693\n",
      "Epoch 82/100\n",
      "1058297/1058297 [==============================] - 77s 73us/sample - loss: 13.3799 - coeff_determination: 0.4446 - val_loss: 13.3076 - val_coeff_determination: 0.4387\n",
      "Epoch 83/100\n",
      "1058297/1058297 [==============================] - 88s 83us/sample - loss: 13.3275 - coeff_determination: 0.4491 - val_loss: 13.0743 - val_coeff_determination: 0.4989\n",
      "Epoch 84/100\n",
      "1058297/1058297 [==============================] - 44s 41us/sample - loss: 13.2620 - coeff_determination: 0.4577 - val_loss: 13.3036 - val_coeff_determination: 0.4955\n",
      "Epoch 85/100\n",
      "1058297/1058297 [==============================] - 11s 10us/sample - loss: 13.2170 - coeff_determination: 0.4643 - val_loss: 12.9331 - val_coeff_determination: 0.5072\n",
      "Epoch 86/100\n",
      "1058297/1058297 [==============================] - 11s 10us/sample - loss: 13.2153 - coeff_determination: 0.4656 - val_loss: 13.5218 - val_coeff_determination: 0.4260\n",
      "Epoch 87/100\n",
      "1058297/1058297 [==============================] - 12s 11us/sample - loss: 13.2006 - coeff_determination: 0.4658 - val_loss: 12.9846 - val_coeff_determination: 0.4751\n",
      "Epoch 88/100\n"
     ]
    },
    {
     "name": "stdout",
     "output_type": "stream",
     "text": [
      "1058297/1058297 [==============================] - 70s 66us/sample - loss: 13.1627 - coeff_determination: 0.4681 - val_loss: 12.8876 - val_coeff_determination: 0.4672\n",
      "Epoch 89/100\n",
      "1058297/1058297 [==============================] - 76s 71us/sample - loss: 13.1268 - coeff_determination: 0.4704 - val_loss: 12.6905 - val_coeff_determination: 0.4962\n",
      "Epoch 90/100\n",
      "1058297/1058297 [==============================] - 80s 76us/sample - loss: 13.1855 - coeff_determination: 0.4654 - val_loss: 12.5837 - val_coeff_determination: 0.5015\n",
      "Epoch 91/100\n",
      "1058297/1058297 [==============================] - 42s 40us/sample - loss: 13.1259 - coeff_determination: 0.4698 - val_loss: 13.2714 - val_coeff_determination: 0.4399\n",
      "Epoch 92/100\n",
      "1058297/1058297 [==============================] - 11s 10us/sample - loss: 13.1592 - coeff_determination: 0.4674 - val_loss: 12.7555 - val_coeff_determination: 0.4903\n",
      "Epoch 93/100\n",
      "1058297/1058297 [==============================] - 11s 10us/sample - loss: 13.1394 - coeff_determination: 0.4686 - val_loss: 12.6493 - val_coeff_determination: 0.5033\n",
      "Epoch 94/100\n",
      "1058297/1058297 [==============================] - 12s 12us/sample - loss: 13.1270 - coeff_determination: 0.4692 - val_loss: 12.5517 - val_coeff_determination: 0.5135\n",
      "Epoch 95/100\n",
      "1058297/1058297 [==============================] - 64s 60us/sample - loss: 13.1189 - coeff_determination: 0.4705 - val_loss: 12.7554 - val_coeff_determination: 0.4939\n",
      "Epoch 96/100\n",
      "1058297/1058297 [==============================] - 88s 83us/sample - loss: 13.1252 - coeff_determination: 0.4694 - val_loss: 12.6208 - val_coeff_determination: 0.5100\n",
      "Epoch 97/100\n",
      "1058297/1058297 [==============================] - 76s 72us/sample - loss: 13.1895 - coeff_determination: 0.4649 - val_loss: 12.5337 - val_coeff_determination: 0.4976\n",
      "Epoch 98/100\n",
      "1058297/1058297 [==============================] - 39s 37us/sample - loss: 13.0854 - coeff_determination: 0.4723 - val_loss: 12.6977 - val_coeff_determination: 0.5094\n",
      "Epoch 99/100\n",
      "1058297/1058297 [==============================] - 13s 12us/sample - loss: 13.1302 - coeff_determination: 0.4688 - val_loss: 13.8850 - val_coeff_determination: 0.3900\n",
      "Epoch 100/100\n",
      "1058297/1058297 [==============================] - 11s 10us/sample - loss: 13.1490 - coeff_determination: 0.4676 - val_loss: 13.0191 - val_coeff_determination: 0.4689\n"
     ]
    },
    {
     "data": {
      "text/plain": [
       "<tensorflow.python.keras.callbacks.History at 0x7f857cc6c790>"
      ]
     },
     "execution_count": 11,
     "metadata": {},
     "output_type": "execute_result"
    }
   ],
   "source": [
    "#Fitting the model\n",
    "from tensorflow.keras.callbacks import EarlyStopping\n",
    "early_stop = EarlyStopping(monitor='val_loss', mode='min', verbose=1, patience=100)\n",
    "model.fit(x=X_train,y=y_train.values,\n",
    "          validation_data=(X_test,y_test.values),\n",
    "          batch_size=256,epochs=100, callbacks=[early_stop], verbose =1)"
   ]
  },
  {
   "cell_type": "code",
   "execution_count": 12,
   "metadata": {},
   "outputs": [],
   "source": [
    "model.save('keras_project_mean_model.h5') "
   ]
  },
  {
   "cell_type": "code",
   "execution_count": 13,
   "metadata": {},
   "outputs": [
    {
     "data": {
      "text/plain": [
       "<matplotlib.axes._subplots.AxesSubplot at 0x7f8578288dd0>"
      ]
     },
     "execution_count": 13,
     "metadata": {},
     "output_type": "execute_result"
    },
    {
     "data": {
      "image/png": "[encoded data removed]",
      "text/plain": [
       "<Figure size 432x288 with 1 Axes>"
      ]
     },
     "metadata": {},
     "output_type": "display_data"
    }
   ],
   "source": [
    "#evaluating model performance\n",
    "losses = pd.DataFrame(model.history.history)\n",
    "losses.plot()"
   ]
  },
  {
   "cell_type": "code",
   "execution_count": 14,
   "metadata": {},
   "outputs": [
    {
     "name": "stdout",
     "output_type": "stream",
     "text": [
      "('Mean absolute error : ', 13.019126144210135)\n",
      "('Root mean squared error : ', 19.354785443732037)\n",
      "('explained variance score : ', 0.49379990625380377)\n",
      "('r_2 score : ', 0.4708541576099867)\n"
     ]
    }
   ],
   "source": [
    "predictions = model.predict(X_test)\n",
    "print('Mean absolute error : ', mean_absolute_error(y_test,predictions))\n",
    "print('Root mean squared error : ', np.sqrt(mean_squared_error(y_test,predictions)))\n",
    "print('explained variance score : ', explained_variance_score(y_test,predictions))\n",
    "print('r_2 score : ', r2_score(y_test, predictions))"
   ]
  },
  {
   "cell_type": "code",
   "execution_count": null,
   "metadata": {},
   "outputs": [],
   "source": []
  }
 ],
 "metadata": {
  "kernelspec": {
   "display_name": "conda_tensorflow_p27",
   "language": "python",
   "name": "conda_tensorflow_p27"
  },
  "language_info": {
   "codemirror_mode": {
    "name": "ipython",
    "version": 2
   },
   "file_extension": ".py",
   "mimetype": "text/x-python",
   "name": "python",
   "nbconvert_exporter": "python",
   "pygments_lexer": "ipython2",
   "version": "2.7.16"
  }
 },
 "nbformat": 4,
 "nbformat_minor": 4
}
