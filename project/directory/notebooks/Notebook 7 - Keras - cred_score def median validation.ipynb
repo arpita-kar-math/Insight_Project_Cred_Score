{
 "cells": [
  {
   "cell_type": "code",
   "execution_count": 1,
   "metadata": {},
   "outputs": [
    {
     "name": "stdout",
     "output_type": "stream",
     "text": [
      "WARNING:tensorflow:From /home/ec2-user/anaconda3/envs/tensorflow_p27/lib/python2.7/site-packages/tensorflow_core/__init__.py:1467: The name tf.estimator.inputs is deprecated. Please use tf.compat.v1.estimator.inputs instead.\n",
      "\n"
     ]
    }
   ],
   "source": [
    "from tensorflow.keras.models import Sequential\n",
    "from tensorflow.keras.layers import Dense, Activation\n",
    "from tensorflow.keras.optimizers import Adam"
   ]
  },
  {
   "cell_type": "code",
   "execution_count": 2,
   "metadata": {},
   "outputs": [],
   "source": [
    "import numpy as np\n",
    "import pandas as pd\n",
    "import matplotlib.pyplot as plt\n",
    "import seaborn as sns\n",
    "%matplotlib inline"
   ]
  },
  {
   "cell_type": "code",
   "execution_count": 3,
   "metadata": {},
   "outputs": [],
   "source": [
    "df_chunk = pd.read_csv('df_mean_cred_score.csv', usecols=['full_name', 'slug', 'job_title', 'brand_name', 'is_c_level',  'is_current', 'growth_score',\n",
    "                                                          'sudden_growth_score', 'sudden_growth_delta', 'acceleration_score', 'success_score', \n",
    "                                                          'is_physical_products_brand', 'is_brickandmortar','generic_reseller', \n",
    "                                                          'store_is_subdomain','cred_score_weighted_mean_mean','cred_score_weighted_mean_max', \n",
    "                                                          'num_brand_count','position_weight', 'experience_w_brand_ratio', 'cred_score_weighted_median'], chunksize=500)"
   ]
  },
  {
   "cell_type": "code",
   "execution_count": 4,
   "metadata": {},
   "outputs": [
    {
     "name": "stdout",
     "output_type": "stream",
     "text": [
      "CPU times: user 22.8 s, sys: 701 ms, total: 23.5 s\n",
      "Wall time: 1min 12s\n"
     ]
    }
   ],
   "source": [
    "%%time\n",
    "#This is in case you use chunks in pandas to upload your file.\n",
    "chunk_list = []  # append each chunk df here \n",
    "\n",
    "# Each chunk is in df format\n",
    "for chunk in df_chunk:\n",
    "    # Once the data filtering is done, append the chunk to list\n",
    "    chunk_list.append(chunk)\n",
    "    \n",
    "# concat the list into dataframe \n",
    "df = pd.concat(chunk_list)\n",
    "del chunk_list"
   ]
  },
  {
   "cell_type": "code",
   "execution_count": 5,
   "metadata": {},
   "outputs": [],
   "source": [
    "#The loyalty column\n",
    "df.loc[(df['num_brand_count'] >=2),'num_brand_association'] = 0\n",
    "df.loc[(df['num_brand_count'] <2),'num_brand_association'] = 1"
   ]
  },
  {
   "cell_type": "code",
   "execution_count": 6,
   "metadata": {},
   "outputs": [],
   "source": [
    "X = df[['is_current','is_c_level', 'is_physical_products_brand', 'is_brickandmortar', 'generic_reseller',\n",
    "       'store_is_subdomain', 'num_brand_association', 'cred_score_weighted_median']]\n",
    "y = df['growth_score']"
   ]
  },
  {
   "cell_type": "markdown",
   "metadata": {},
   "source": [
    "# Now we train our first keras regression model"
   ]
  },
  {
   "cell_type": "code",
   "execution_count": 7,
   "metadata": {},
   "outputs": [],
   "source": [
    "from sklearn.model_selection import train_test_split\n",
    "X_train, X_test, y_train, y_test = train_test_split(X,y,test_size=0.3,random_state=101)"
   ]
  },
  {
   "cell_type": "code",
   "execution_count": 8,
   "metadata": {},
   "outputs": [],
   "source": [
    "#Scaling\n",
    "from sklearn.preprocessing import MinMaxScaler\n",
    "\n",
    "scaler = MinMaxScaler()\n",
    "X_train= scaler.fit_transform(X_train)\n",
    "X_test = scaler.transform(X_test)"
   ]
  },
  {
   "cell_type": "code",
   "execution_count": 9,
   "metadata": {},
   "outputs": [
    {
     "data": {
      "text/plain": [
       "((1058297, 8), (453557, 8))"
      ]
     },
     "execution_count": 9,
     "metadata": {},
     "output_type": "execute_result"
    }
   ],
   "source": [
    "#Shape\n",
    "X_train.shape , X_test.shape"
   ]
  },
  {
   "cell_type": "code",
   "execution_count": 11,
   "metadata": {},
   "outputs": [],
   "source": [
    "from tensorflow.keras.layers import Dropout\n",
    "from tensorflow.keras.constraints import max_norm\n",
    "#creating the model\n",
    "model = Sequential()\n",
    "\n",
    "#input layer\n",
    "model.add(Dense(8,activation='relu'))\n",
    "model.add(Dropout(0.2))\n",
    "\n",
    "#hidden layer\n",
    "model.add(Dense(4,activation='relu'))\n",
    "model.add(Dense(4,activation='relu'))\n",
    "model.add(Dense(4,activation='relu'))\n",
    "model.add(Dense(1))\n",
    "\n",
    "model.compile(optimizer='adam',loss='mse')"
   ]
  },
  {
   "cell_type": "code",
   "execution_count": 12,
   "metadata": {},
   "outputs": [
    {
     "name": "stdout",
     "output_type": "stream",
     "text": [
      "WARNING:tensorflow:From /home/ec2-user/anaconda3/envs/tensorflow_p27/lib/python2.7/site-packages/tensorflow_core/python/ops/resource_variable_ops.py:1630: calling __init__ (from tensorflow.python.ops.resource_variable_ops) with constraint is deprecated and will be removed in a future version.\n",
      "Instructions for updating:\n",
      "If using Keras pass *_constraint arguments to layers.\n",
      "Train on 1058297 samples, validate on 453557 samples\n",
      "Epoch 1/100\n",
      "WARNING:tensorflow:OMP_NUM_THREADS is no longer used by the default Keras config. To configure the number of threads, use tf.config.threading APIs.\n",
      "1058297/1058297 [==============================] - 11s 11us/sample - loss: 674.5952 - val_loss: 600.2108\n",
      "Epoch 2/100\n",
      "1058297/1058297 [==============================] - 11s 10us/sample - loss: 527.7999 - val_loss: 474.8157\n",
      "Epoch 3/100\n",
      "1058297/1058297 [==============================] - 11s 10us/sample - loss: 456.7553 - val_loss: 434.0856\n",
      "Epoch 4/100\n",
      "1058297/1058297 [==============================] - 11s 10us/sample - loss: 429.6604 - val_loss: 407.9003\n",
      "Epoch 5/100\n",
      "1058297/1058297 [==============================] - 11s 10us/sample - loss: 413.5160 - val_loss: 397.6536\n",
      "Epoch 6/100\n",
      "1058297/1058297 [==============================] - 11s 10us/sample - loss: 404.7902 - val_loss: 395.9932\n",
      "Epoch 7/100\n",
      "1058297/1058297 [==============================] - 11s 10us/sample - loss: 399.1955 - val_loss: 400.3737\n",
      "Epoch 8/100\n",
      "1058297/1058297 [==============================] - 11s 10us/sample - loss: 398.1754 - val_loss: 409.7263\n",
      "Epoch 9/100\n",
      "1058297/1058297 [==============================] - 11s 10us/sample - loss: 396.8339 - val_loss: 413.0685\n",
      "Epoch 10/100\n",
      "1058297/1058297 [==============================] - 11s 10us/sample - loss: 396.9861 - val_loss: 409.5377\n",
      "Epoch 11/100\n",
      "1058297/1058297 [==============================] - 11s 10us/sample - loss: 394.2121 - val_loss: 439.4911\n",
      "Epoch 12/100\n",
      "1058297/1058297 [==============================] - 11s 10us/sample - loss: 395.2128 - val_loss: 404.1580\n",
      "Epoch 13/100\n",
      "1058297/1058297 [==============================] - 11s 10us/sample - loss: 393.9438 - val_loss: 414.4807\n",
      "Epoch 14/100\n",
      "1058297/1058297 [==============================] - 11s 10us/sample - loss: 393.5914 - val_loss: 406.3498\n",
      "Epoch 15/100\n",
      "1058297/1058297 [==============================] - 11s 10us/sample - loss: 393.9745 - val_loss: 456.7148\n",
      "Epoch 16/100\n",
      "1058297/1058297 [==============================] - 11s 10us/sample - loss: 392.2858 - val_loss: 402.3687\n",
      "Epoch 17/100\n",
      "1058297/1058297 [==============================] - 13s 12us/sample - loss: 391.2827 - val_loss: 440.7041\n",
      "Epoch 18/100\n",
      "1058297/1058297 [==============================] - 11s 10us/sample - loss: 389.7549 - val_loss: 409.9794\n",
      "Epoch 19/100\n",
      "1058297/1058297 [==============================] - 11s 10us/sample - loss: 388.8929 - val_loss: 411.1452\n",
      "Epoch 20/100\n",
      "1058297/1058297 [==============================] - 11s 10us/sample - loss: 389.4304 - val_loss: 398.8565\n",
      "Epoch 21/100\n",
      "1058297/1058297 [==============================] - 11s 10us/sample - loss: 388.5409 - val_loss: 384.9834\n",
      "Epoch 22/100\n",
      "1058297/1058297 [==============================] - 11s 10us/sample - loss: 388.7808 - val_loss: 408.1746\n",
      "Epoch 23/100\n",
      "1058297/1058297 [==============================] - 40s 37us/sample - loss: 388.6403 - val_loss: 407.5350\n",
      "Epoch 24/100\n",
      "1058297/1058297 [==============================] - 58s 55us/sample - loss: 386.7765 - val_loss: 412.1957\n",
      "Epoch 25/100\n",
      "1058297/1058297 [==============================] - 11s 10us/sample - loss: 387.6541 - val_loss: 391.2238\n",
      "Epoch 26/100\n",
      "1058297/1058297 [==============================] - 12s 11us/sample - loss: 386.9140 - val_loss: 399.0009\n",
      "Epoch 27/100\n",
      "1058297/1058297 [==============================] - 11s 11us/sample - loss: 384.7405 - val_loss: 429.3735\n",
      "Epoch 28/100\n",
      "1058297/1058297 [==============================] - 23s 22us/sample - loss: 382.5301 - val_loss: 384.7767\n",
      "Epoch 29/100\n",
      "1058297/1058297 [==============================] - 71s 67us/sample - loss: 380.8127 - val_loss: 388.3967\n",
      "Epoch 30/100\n",
      "1058297/1058297 [==============================] - 73s 69us/sample - loss: 381.2750 - val_loss: 427.1148\n",
      "Epoch 31/100\n",
      "1058297/1058297 [==============================] - 81s 76us/sample - loss: 380.5193 - val_loss: 398.7917\n",
      "Epoch 32/100\n",
      "1058297/1058297 [==============================] - 24s 23us/sample - loss: 377.4770 - val_loss: 400.4482\n",
      "Epoch 33/100\n",
      "1058297/1058297 [==============================] - 11s 10us/sample - loss: 378.4569 - val_loss: 399.3774\n",
      "Epoch 34/100\n",
      "1058297/1058297 [==============================] - 11s 10us/sample - loss: 377.4104 - val_loss: 418.9593\n",
      "Epoch 35/100\n",
      "1058297/1058297 [==============================] - 40s 38us/sample - loss: 376.5153 - val_loss: 402.8417\n",
      "Epoch 36/100\n",
      "1058297/1058297 [==============================] - 82s 78us/sample - loss: 375.9726 - val_loss: 405.4175\n",
      "Epoch 37/100\n",
      "1058297/1058297 [==============================] - 71s 67us/sample - loss: 377.7539 - val_loss: 434.1849\n",
      "Epoch 38/100\n",
      "1058297/1058297 [==============================] - 78s 73us/sample - loss: 375.9078 - val_loss: 402.4544\n",
      "Epoch 39/100\n",
      "1058297/1058297 [==============================] - 11s 10us/sample - loss: 377.3034 - val_loss: 414.3219\n",
      "Epoch 40/100\n",
      "1058297/1058297 [==============================] - 11s 10us/sample - loss: 377.7002 - val_loss: 409.3348\n",
      "Epoch 41/100\n",
      "1058297/1058297 [==============================] - 12s 11us/sample - loss: 379.0538 - val_loss: 398.2032\n",
      "Epoch 42/100\n",
      "1058297/1058297 [==============================] - 60s 56us/sample - loss: 378.2185 - val_loss: 419.7198\n",
      "Epoch 43/100\n",
      "1058297/1058297 [==============================] - 81s 77us/sample - loss: 379.0188 - val_loss: 425.1510\n",
      "Epoch 44/100\n",
      "1058297/1058297 [==============================] - 71s 67us/sample - loss: 380.0452 - val_loss: 386.0592\n",
      "Epoch 45/100\n",
      "1058297/1058297 [==============================] - 56s 53us/sample - loss: 377.3172 - val_loss: 385.0029\n",
      "Epoch 46/100\n",
      "1058297/1058297 [==============================] - 11s 10us/sample - loss: 377.4603 - val_loss: 418.4278\n",
      "Epoch 47/100\n",
      "1058297/1058297 [==============================] - 12s 11us/sample - loss: 377.9477 - val_loss: 400.7573\n",
      "Epoch 48/100\n",
      "1058297/1058297 [==============================] - 12s 11us/sample - loss: 379.8354 - val_loss: 373.2029\n",
      "Epoch 49/100\n",
      "1058297/1058297 [==============================] - 50s 48us/sample - loss: 377.3758 - val_loss: 397.7435\n",
      "Epoch 50/100\n",
      "1058297/1058297 [==============================] - 70s 67us/sample - loss: 378.4270 - val_loss: 393.5032\n",
      "Epoch 51/100\n",
      "1058297/1058297 [==============================] - 82s 77us/sample - loss: 377.7873 - val_loss: 426.5009\n",
      "Epoch 52/100\n",
      "1058297/1058297 [==============================] - 62s 58us/sample - loss: 377.5395 - val_loss: 396.7066\n",
      "Epoch 53/100\n",
      "1058297/1058297 [==============================] - 11s 10us/sample - loss: 378.2726 - val_loss: 382.5165\n",
      "Epoch 54/100\n",
      "1058297/1058297 [==============================] - 11s 10us/sample - loss: 377.1672 - val_loss: 406.6625\n",
      "Epoch 55/100\n",
      "1058297/1058297 [==============================] - 13s 12us/sample - loss: 376.5969 - val_loss: 407.7382\n",
      "Epoch 56/100\n",
      "1058297/1058297 [==============================] - 74s 70us/sample - loss: 378.5621 - val_loss: 376.3899\n",
      "Epoch 57/100\n",
      "1058297/1058297 [==============================] - 73s 69us/sample - loss: 377.3546 - val_loss: 411.9992\n",
      "Epoch 58/100\n",
      "1058297/1058297 [==============================] - 70s 66us/sample - loss: 378.2860 - val_loss: 430.4589\n",
      "Epoch 59/100\n",
      "1058297/1058297 [==============================] - 53s 50us/sample - loss: 378.0826 - val_loss: 390.2010\n",
      "Epoch 60/100\n",
      "1058297/1058297 [==============================] - 11s 10us/sample - loss: 377.8658 - val_loss: 403.6852\n",
      "Epoch 61/100\n",
      "1058297/1058297 [==============================] - 11s 10us/sample - loss: 377.6510 - val_loss: 407.7748\n",
      "Epoch 62/100\n",
      "1058297/1058297 [==============================] - 22s 21us/sample - loss: 377.4432 - val_loss: 385.2600\n",
      "Epoch 63/100\n",
      "1058297/1058297 [==============================] - 70s 66us/sample - loss: 377.5378 - val_loss: 414.8684\n",
      "Epoch 64/100\n",
      "1058297/1058297 [==============================] - 83s 79us/sample - loss: 377.3946 - val_loss: 389.5489\n",
      "Epoch 65/100\n",
      "1058297/1058297 [==============================] - 70s 66us/sample - loss: 376.6228 - val_loss: 389.5870\n",
      "Epoch 66/100\n",
      "1058297/1058297 [==============================] - 34s 32us/sample - loss: 376.5571 - val_loss: 405.7704\n",
      "Epoch 67/100\n",
      "1058297/1058297 [==============================] - 11s 10us/sample - loss: 376.9495 - val_loss: 396.5944\n",
      "Epoch 68/100\n",
      "1058297/1058297 [==============================] - 13s 12us/sample - loss: 376.5454 - val_loss: 387.4370\n",
      "Epoch 69/100\n",
      "1058297/1058297 [==============================] - 16s 15us/sample - loss: 375.4336 - val_loss: 420.2331\n",
      "Epoch 70/100\n",
      "1058297/1058297 [==============================] - 72s 68us/sample - loss: 375.9353 - val_loss: 398.1639\n",
      "Epoch 71/100\n",
      "1058297/1058297 [==============================] - 71s 67us/sample - loss: 374.3348 - val_loss: 382.7482\n",
      "Epoch 72/100\n",
      "1058297/1058297 [==============================] - 82s 77us/sample - loss: 375.3428 - val_loss: 383.3099\n",
      "Epoch 73/100\n",
      "1058297/1058297 [==============================] - 36s 34us/sample - loss: 374.3850 - val_loss: 406.7351\n",
      "Epoch 74/100\n",
      "1058297/1058297 [==============================] - 11s 10us/sample - loss: 375.7594 - val_loss: 398.8671\n",
      "Epoch 75/100\n",
      "1058297/1058297 [==============================] - 11s 10us/sample - loss: 375.3293 - val_loss: 402.6528\n",
      "Epoch 76/100\n",
      "1058297/1058297 [==============================] - 29s 27us/sample - loss: 375.8441 - val_loss: 387.6379\n",
      "Epoch 77/100\n",
      "1058297/1058297 [==============================] - 82s 77us/sample - loss: 375.1679 - val_loss: 429.2634\n",
      "Epoch 78/100\n",
      "1058297/1058297 [==============================] - 70s 67us/sample - loss: 375.2521 - val_loss: 383.7668\n",
      "Epoch 79/100\n",
      "1058297/1058297 [==============================] - 82s 78us/sample - loss: 376.1434 - val_loss: 400.2408\n",
      "Epoch 80/100\n",
      "1058297/1058297 [==============================] - 19s 18us/sample - loss: 375.7999 - val_loss: 396.4619\n",
      "Epoch 81/100\n",
      "1058297/1058297 [==============================] - 11s 10us/sample - loss: 375.4883 - val_loss: 375.1182\n",
      "Epoch 82/100\n",
      "1058297/1058297 [==============================] - 11s 11us/sample - loss: 376.7501 - val_loss: 381.8639\n",
      "Epoch 83/100\n",
      "1058297/1058297 [==============================] - 47s 44us/sample - loss: 375.0993 - val_loss: 387.8160\n",
      "Epoch 84/100\n",
      "1058297/1058297 [==============================] - 77s 73us/sample - loss: 376.8231 - val_loss: 412.0715\n",
      "Epoch 85/100\n",
      "1058297/1058297 [==============================] - 76s 72us/sample - loss: 376.3371 - val_loss: 413.3008\n",
      "Epoch 86/100\n",
      "1058297/1058297 [==============================] - 69s 65us/sample - loss: 375.8728 - val_loss: 392.3727\n",
      "Epoch 87/100\n",
      "1058297/1058297 [==============================] - 11s 10us/sample - loss: 375.6752 - val_loss: 396.5408\n",
      "Epoch 88/100\n",
      "1058297/1058297 [==============================] - 11s 11us/sample - loss: 375.7193 - val_loss: 379.3720\n",
      "Epoch 89/100\n",
      "1058297/1058297 [==============================] - 12s 11us/sample - loss: 376.3922 - val_loss: 383.4365\n",
      "Epoch 90/100\n",
      "1058297/1058297 [==============================] - 38s 35us/sample - loss: 374.5434 - val_loss: 406.0824\n",
      "Epoch 91/100\n",
      "1058297/1058297 [==============================] - 70s 66us/sample - loss: 375.2798 - val_loss: 413.8770\n",
      "Epoch 92/100\n",
      "1058297/1058297 [==============================] - 80s 75us/sample - loss: 376.3065 - val_loss: 384.1252\n",
      "Epoch 93/100\n",
      "1058297/1058297 [==============================] - 76s 72us/sample - loss: 376.7155 - val_loss: 397.0862\n",
      "Epoch 94/100\n",
      "1058297/1058297 [==============================] - 13s 13us/sample - loss: 377.5920 - val_loss: 411.5409\n",
      "Epoch 95/100\n",
      "1058297/1058297 [==============================] - 11s 10us/sample - loss: 375.7240 - val_loss: 395.0307\n",
      "Epoch 96/100\n",
      "1058297/1058297 [==============================] - 11s 10us/sample - loss: 376.3743 - val_loss: 381.4710\n",
      "Epoch 97/100\n",
      "1058297/1058297 [==============================] - 26s 25us/sample - loss: 375.2286 - val_loss: 387.8909\n",
      "Epoch 98/100\n",
      "1058297/1058297 [==============================] - 82s 77us/sample - loss: 374.3935 - val_loss: 384.1937\n",
      "Epoch 99/100\n",
      "1058297/1058297 [==============================] - 70s 66us/sample - loss: 374.9966 - val_loss: 385.9819\n",
      "Epoch 100/100\n",
      "1058297/1058297 [==============================] - 82s 77us/sample - loss: 374.4703 - val_loss: 399.7402\n"
     ]
    },
    {
     "data": {
      "text/plain": [
       "<tensorflow.python.keras.callbacks.History at 0x7fc2c0087150>"
      ]
     },
     "execution_count": 12,
     "metadata": {},
     "output_type": "execute_result"
    }
   ],
   "source": [
    "#Fitting the model\n",
    "model.fit(x=X_train,y=y_train.values,\n",
    "          validation_data=(X_test,y_test.values),\n",
    "          batch_size=256,epochs=100)"
   ]
  },
  {
   "cell_type": "code",
   "execution_count": 13,
   "metadata": {},
   "outputs": [],
   "source": [
    "#saving the model\n",
    "from tensorflow.keras.models import load_model\n",
    "model.save('keras_project_model.h5') "
   ]
  },
  {
   "cell_type": "code",
   "execution_count": 14,
   "metadata": {},
   "outputs": [
    {
     "data": {
      "text/plain": [
       "<matplotlib.axes._subplots.AxesSubplot at 0x7fc2647c61d0>"
      ]
     },
     "execution_count": 14,
     "metadata": {},
     "output_type": "execute_result"
    },
    {
     "data": {
      "image/png": "[encoded data removed]",
      "text/plain": [
       "<Figure size 432x288 with 1 Axes>"
      ]
     },
     "metadata": {},
     "output_type": "display_data"
    }
   ],
   "source": [
    "#evaluating model performance\n",
    "losses = pd.DataFrame(model.history.history)\n",
    "losses.plot()"
   ]
  },
  {
   "cell_type": "code",
   "execution_count": 17,
   "metadata": {},
   "outputs": [],
   "source": [
    "from sklearn.metrics import mean_squared_error,mean_absolute_error,explained_variance_score, r2_score"
   ]
  },
  {
   "cell_type": "code",
   "execution_count": 18,
   "metadata": {},
   "outputs": [
    {
     "name": "stdout",
     "output_type": "stream",
     "text": [
      "('Mean absolute error : ', 14.163736058465862)\n",
      "('Root mean squared error : ', 19.993503492190168)\n",
      "('explained variance score : ', 0.45471174091798816)\n",
      "('r_2 score : ', 0.4353537200844242)\n"
     ]
    }
   ],
   "source": [
    "predictions = model.predict(X_test)\n",
    "print('Mean absolute error : ', mean_absolute_error(y_test,predictions))\n",
    "print('Root mean squared error : ', np.sqrt(mean_squared_error(y_test,predictions)))\n",
    "print('explained variance score : ', explained_variance_score(y_test,predictions))\n",
    "print('r_2 score : ', r2_score(y_test, predictions))"
   ]
  },
  {
   "cell_type": "code",
   "execution_count": 19,
   "metadata": {},
   "outputs": [
    {
     "data": {
      "text/plain": [
       "[<matplotlib.lines.Line2D at 0x7fc25c800810>]"
      ]
     },
     "execution_count": 19,
     "metadata": {},
     "output_type": "execute_result"
    },
    {
     "data": {
      "image/png": "[encoded data removed]",
      "text/plain": [
       "<Figure size 432x288 with 1 Axes>"
      ]
     },
     "metadata": {},
     "output_type": "display_data"
    }
   ],
   "source": [
    "# Our predictions\n",
    "plt.scatter(y_test,predictions)\n",
    "\n",
    "# Perfect predictions\n",
    "plt.plot(y_test,y_test,'r')"
   ]
  },
  {
   "cell_type": "code",
   "execution_count": 21,
   "metadata": {},
   "outputs": [
    {
     "name": "stderr",
     "output_type": "stream",
     "text": [
      "/home/ec2-user/anaconda3/envs/tensorflow_p27/lib/python2.7/site-packages/matplotlib/axes/_axes.py:6571: UserWarning: The 'normed' kwarg is deprecated, and has been replaced by the 'density' kwarg.\n",
      "  warnings.warn(\"The 'normed' kwarg is deprecated, and has been \"\n"
     ]
    },
    {
     "data": {
      "text/plain": [
       "<matplotlib.axes._subplots.AxesSubplot at 0x7fc25c8d6990>"
      ]
     },
     "execution_count": 21,
     "metadata": {},
     "output_type": "execute_result"
    },
    {
     "data": {
      "image/png": "[encoded data removed]",
      "text/plain": [
       "<Figure size 432x288 with 1 Axes>"
      ]
     },
     "metadata": {},
     "output_type": "display_data"
    }
   ],
   "source": [
    "errors = y_test.values.reshape(453557, 1) - predictions\n",
    "sns.distplot(errors)"
   ]
  },
  {
   "cell_type": "markdown",
   "metadata": {},
   "source": [
    "# The losses seem to follow sort of a normal distribution which is good. Let us try building another model to see if we can improve on the efficiency o fthe model"
   ]
  },
  {
   "cell_type": "markdown",
   "metadata": {},
   "source": [
    "# Model 2 for regression"
   ]
  },
  {
   "cell_type": "code",
   "execution_count": 7,
   "metadata": {},
   "outputs": [],
   "source": [
    "from sklearn.model_selection import train_test_split\n",
    "X_train, X_test, y_train, y_test = train_test_split(X,y,test_size=0.3,random_state=100)"
   ]
  },
  {
   "cell_type": "code",
   "execution_count": 8,
   "metadata": {},
   "outputs": [],
   "source": [
    "#Scaling\n",
    "from sklearn.preprocessing import MinMaxScaler\n",
    "\n",
    "scaler = MinMaxScaler()\n",
    "X_train= scaler.fit_transform(X_train)\n",
    "X_test = scaler.transform(X_test)"
   ]
  },
  {
   "cell_type": "code",
   "execution_count": 9,
   "metadata": {},
   "outputs": [
    {
     "data": {
      "text/plain": [
       "((1058297, 8), (453557, 8))"
      ]
     },
     "execution_count": 9,
     "metadata": {},
     "output_type": "execute_result"
    }
   ],
   "source": [
    "#Shape\n",
    "X_train.shape , X_test.shape"
   ]
  },
  {
   "cell_type": "code",
   "execution_count": 10,
   "metadata": {},
   "outputs": [
    {
     "name": "stderr",
     "output_type": "stream",
     "text": [
      "Using TensorFlow backend.\n"
     ]
    }
   ],
   "source": [
    "from keras import backend as K\n",
    "\n",
    "def coeff_determination(y_true, y_pred):\n",
    "    SS_res =  K.sum(K.square( y_true-y_pred )) \n",
    "    SS_tot = K.sum(K.square( y_true - K.mean(y_true) ) ) \n",
    "    return ( 1 - SS_res/(SS_tot + K.epsilon()) )"
   ]
  },
  {
   "cell_type": "code",
   "execution_count": 11,
   "metadata": {},
   "outputs": [],
   "source": [
    "from tensorflow.keras.layers import Dropout\n",
    "from tensorflow.keras.constraints import max_norm\n",
    "#creating the model\n",
    "model = Sequential()\n",
    "\n",
    "#input layer\n",
    "model.add(Dense(8,activation='relu'))\n",
    "\n",
    "#hidden layer\n",
    "model.add(Dense(8,activation='relu'))\n",
    "model.add(Dropout(0.2))\n",
    "\n",
    "model.add(Dense(4,activation='relu'))\n",
    "\n",
    "model.add(Dense(4,activation='relu'))\n",
    "\n",
    "model.add(Dense(1))\n",
    "\n",
    "model.compile(optimizer='adam',loss='mae', metrics=[coeff_determination])"
   ]
  },
  {
   "cell_type": "code",
   "execution_count": null,
   "metadata": {},
   "outputs": [
    {
     "name": "stdout",
     "output_type": "stream",
     "text": [
      "WARNING:tensorflow:From /home/ec2-user/anaconda3/envs/tensorflow_p27/lib/python2.7/site-packages/tensorflow_core/python/ops/resource_variable_ops.py:1630: calling __init__ (from tensorflow.python.ops.resource_variable_ops) with constraint is deprecated and will be removed in a future version.\n",
      "Instructions for updating:\n",
      "If using Keras pass *_constraint arguments to layers.\n",
      "Train on 1058297 samples, validate on 453557 samples\n",
      "WARNING:tensorflow:OMP_NUM_THREADS is no longer used by the default Keras config. To configure the number of threads, use tf.config.threading APIs.\n",
      "Epoch 1/400\n",
      "1058297/1058297 [==============================] - 21s 20us/sample - loss: 18.0358 - coeff_determination: 0.1138 - val_loss: 15.6872 - val_coeff_determination: 0.2508\n",
      "Epoch 2/400\n",
      "1058297/1058297 [==============================] - 20s 19us/sample - loss: 15.4178 - coeff_determination: 0.3085 - val_loss: 14.6216 - val_coeff_determination: 0.3711\n",
      "Epoch 3/400\n",
      "1058297/1058297 [==============================] - 20s 19us/sample - loss: 14.8158 - coeff_determination: 0.3563 - val_loss: 15.1964 - val_coeff_determination: 0.3058\n",
      "Epoch 4/400\n",
      "1058297/1058297 [==============================] - 22s 21us/sample - loss: 14.5743 - coeff_determination: 0.3720 - val_loss: 14.7603 - val_coeff_determination: 0.4002\n",
      "Epoch 5/400\n",
      "1058297/1058297 [==============================] - 20s 19us/sample - loss: 14.5172 - coeff_determination: 0.3752 - val_loss: 13.8227 - val_coeff_determination: 0.4231\n",
      "Epoch 6/400\n",
      "1058297/1058297 [==============================] - 20s 19us/sample - loss: 14.4537 - coeff_determination: 0.3802 - val_loss: 14.0812 - val_coeff_determination: 0.3960\n",
      "Epoch 7/400\n",
      "1058297/1058297 [==============================] - 20s 19us/sample - loss: 14.4381 - coeff_determination: 0.3796 - val_loss: 14.6235 - val_coeff_determination: 0.3382\n",
      "Epoch 8/400\n",
      "1058297/1058297 [==============================] - 20s 19us/sample - loss: 14.4060 - coeff_determination: 0.3816 - val_loss: 13.7497 - val_coeff_determination: 0.4174\n",
      "Epoch 9/400\n",
      "1058297/1058297 [==============================] - 20s 19us/sample - loss: 14.4250 - coeff_determination: 0.3800 - val_loss: 13.6795 - val_coeff_determination: 0.4229\n",
      "Epoch 10/400\n",
      "1058297/1058297 [==============================] - 20s 19us/sample - loss: 14.3831 - coeff_determination: 0.3813 - val_loss: 13.9198 - val_coeff_determination: 0.3924\n",
      "Epoch 11/400\n",
      "1058297/1058297 [==============================] - 20s 19us/sample - loss: 14.3592 - coeff_determination: 0.3809 - val_loss: 14.6239 - val_coeff_determination: 0.3375\n",
      "Epoch 12/400\n",
      "1058297/1058297 [==============================] - 21s 20us/sample - loss: 14.3260 - coeff_determination: 0.3819 - val_loss: 15.0809 - val_coeff_determination: 0.2858\n",
      "Epoch 13/400\n",
      "1058297/1058297 [==============================] - 21s 20us/sample - loss: 14.3416 - coeff_determination: 0.3796 - val_loss: 13.6969 - val_coeff_determination: 0.4197\n",
      "Epoch 14/400\n",
      "1058297/1058297 [==============================] - 20s 19us/sample - loss: 14.3254 - coeff_determination: 0.3798 - val_loss: 13.7948 - val_coeff_determination: 0.4240\n",
      "Epoch 15/400\n",
      "1058297/1058297 [==============================] - 20s 19us/sample - loss: 14.3005 - coeff_determination: 0.3814 - val_loss: 13.9149 - val_coeff_determination: 0.4010\n",
      "Epoch 16/400\n",
      "1058297/1058297 [==============================] - 20s 19us/sample - loss: 14.2706 - coeff_determination: 0.3830 - val_loss: 14.3721 - val_coeff_determination: 0.3567\n",
      "Epoch 17/400\n",
      "1058297/1058297 [==============================] - 20s 19us/sample - loss: 14.2888 - coeff_determination: 0.3813 - val_loss: 14.1095 - val_coeff_determination: 0.4212\n",
      "Epoch 18/400\n",
      "1058297/1058297 [==============================] - 20s 19us/sample - loss: 14.2702 - coeff_determination: 0.3819 - val_loss: 14.8957 - val_coeff_determination: 0.2903\n",
      "Epoch 19/400\n",
      "1058297/1058297 [==============================] - 20s 19us/sample - loss: 14.3123 - coeff_determination: 0.3789 - val_loss: 14.5646 - val_coeff_determination: 0.3319\n",
      "Epoch 20/400\n",
      "1058297/1058297 [==============================] - 20s 19us/sample - loss: 14.2482 - coeff_determination: 0.3833 - val_loss: 13.6216 - val_coeff_determination: 0.4386\n",
      "Epoch 21/400\n",
      "1058297/1058297 [==============================] - 22s 21us/sample - loss: 14.2836 - coeff_determination: 0.3802 - val_loss: 14.0348 - val_coeff_determination: 0.4033\n",
      "Epoch 22/400\n",
      "1058297/1058297 [==============================] - 20s 19us/sample - loss: 14.2335 - coeff_determination: 0.3839 - val_loss: 13.5553 - val_coeff_determination: 0.4271\n",
      "Epoch 23/400\n",
      "1058297/1058297 [==============================] - 20s 19us/sample - loss: 14.2540 - coeff_determination: 0.3820 - val_loss: 14.9313 - val_coeff_determination: 0.3009\n",
      "Epoch 24/400\n",
      "1058297/1058297 [==============================] - 20s 19us/sample - loss: 14.2797 - coeff_determination: 0.3795 - val_loss: 13.4471 - val_coeff_determination: 0.4420\n",
      "Epoch 25/400\n",
      "1058297/1058297 [==============================] - 20s 19us/sample - loss: 14.2177 - coeff_determination: 0.3847 - val_loss: 14.1657 - val_coeff_determination: 0.4233\n",
      "Epoch 26/400\n",
      "1058297/1058297 [==============================] - 20s 19us/sample - loss: 14.1657 - coeff_determination: 0.3870 - val_loss: 13.6935 - val_coeff_determination: 0.4259\n",
      "Epoch 27/400\n",
      "1058297/1058297 [==============================] - 20s 19us/sample - loss: 14.1830 - coeff_determination: 0.3848 - val_loss: 13.8851 - val_coeff_determination: 0.4400\n",
      "Epoch 28/400\n",
      "1058297/1058297 [==============================] - 20s 19us/sample - loss: 14.1460 - coeff_determination: 0.3870 - val_loss: 14.5896 - val_coeff_determination: 0.3366\n",
      "Epoch 29/400\n",
      "1058297/1058297 [==============================] - 20s 19us/sample - loss: 14.1203 - coeff_determination: 0.3883 - val_loss: 13.5341 - val_coeff_determination: 0.4238\n",
      "Epoch 30/400\n",
      "1058297/1058297 [==============================] - 22s 21us/sample - loss: 14.0796 - coeff_determination: 0.3911 - val_loss: 13.6636 - val_coeff_determination: 0.4177\n",
      "Epoch 31/400\n",
      "1058297/1058297 [==============================] - 20s 19us/sample - loss: 14.0562 - coeff_determination: 0.3928 - val_loss: 13.3344 - val_coeff_determination: 0.4418\n",
      "Epoch 32/400\n",
      "1058297/1058297 [==============================] - 92s 87us/sample - loss: 14.0106 - coeff_determination: 0.3975 - val_loss: 13.4112 - val_coeff_determination: 0.4567\n",
      "Epoch 33/400\n",
      "1058297/1058297 [==============================] - 70s 66us/sample - loss: 13.9725 - coeff_determination: 0.4017 - val_loss: 14.0383 - val_coeff_determination: 0.3876\n",
      "Epoch 34/400\n",
      "1058297/1058297 [==============================] - 20s 19us/sample - loss: 13.9660 - coeff_determination: 0.4038 - val_loss: 13.6802 - val_coeff_determination: 0.4179\n",
      "Epoch 35/400\n",
      "1058297/1058297 [==============================] - 78s 74us/sample - loss: 13.9121 - coeff_determination: 0.4066 - val_loss: 13.5729 - val_coeff_determination: 0.4243\n",
      "Epoch 36/400\n",
      "1058297/1058297 [==============================] - 130s 123us/sample - loss: 13.9047 - coeff_determination: 0.4065 - val_loss: 13.2301 - val_coeff_determination: 0.4656\n",
      "Epoch 37/400\n",
      "1058297/1058297 [==============================] - 70s 66us/sample - loss: 13.9088 - coeff_determination: 0.4061 - val_loss: 13.6898 - val_coeff_determination: 0.4486\n",
      "Epoch 38/400\n",
      "1058297/1058297 [==============================] - 20s 19us/sample - loss: 13.8941 - coeff_determination: 0.4073 - val_loss: 13.7666 - val_coeff_determination: 0.4082\n",
      "Epoch 39/400\n",
      "1058297/1058297 [==============================] - 109s 103us/sample - loss: 13.8400 - coeff_determination: 0.4115 - val_loss: 13.4260 - val_coeff_determination: 0.4578\n",
      "Epoch 40/400\n",
      "1058297/1058297 [==============================] - 132s 125us/sample - loss: 13.8863 - coeff_determination: 0.4080 - val_loss: 13.1906 - val_coeff_determination: 0.4692\n",
      "Epoch 41/400\n",
      "1058297/1058297 [==============================] - 43s 41us/sample - loss: 13.8868 - coeff_determination: 0.4082 - val_loss: 13.4722 - val_coeff_determination: 0.4590\n",
      "Epoch 42/400\n",
      "1058297/1058297 [==============================] - 21s 19us/sample - loss: 13.8189 - coeff_determination: 0.4136 - val_loss: 13.6879 - val_coeff_determination: 0.4102\n",
      "Epoch 43/400\n"
     ]
    },
    {
     "name": "stdout",
     "output_type": "stream",
     "text": [
      "1058297/1058297 [==============================] - 108s 102us/sample - loss: 13.8566 - coeff_determination: 0.4099 - val_loss: 13.5087 - val_coeff_determination: 0.4695\n",
      "Epoch 44/400\n",
      "1058297/1058297 [==============================] - 119s 113us/sample - loss: 13.8462 - coeff_determination: 0.4112 - val_loss: 13.6309 - val_coeff_determination: 0.4186\n",
      "Epoch 45/400\n",
      "1058297/1058297 [==============================] - 52s 49us/sample - loss: 13.8409 - coeff_determination: 0.4118 - val_loss: 13.2823 - val_coeff_determination: 0.4448\n",
      "Epoch 46/400\n",
      "1058297/1058297 [==============================] - 21s 20us/sample - loss: 13.7890 - coeff_determination: 0.4156 - val_loss: 13.9663 - val_coeff_determination: 0.3736\n",
      "Epoch 47/400\n",
      "1058297/1058297 [==============================] - 101s 96us/sample - loss: 13.8001 - coeff_determination: 0.4153 - val_loss: 13.6841 - val_coeff_determination: 0.4087\n",
      "Epoch 48/400\n",
      "1058297/1058297 [==============================] - 132s 125us/sample - loss: 13.8559 - coeff_determination: 0.4107 - val_loss: 13.1307 - val_coeff_determination: 0.4557\n",
      "Epoch 49/400\n",
      "1058297/1058297 [==============================] - 45s 42us/sample - loss: 13.8249 - coeff_determination: 0.4127 - val_loss: 13.3282 - val_coeff_determination: 0.4479\n",
      "Epoch 50/400\n",
      "1058297/1058297 [==============================] - 23s 22us/sample - loss: 13.7799 - coeff_determination: 0.4167 - val_loss: 13.3237 - val_coeff_determination: 0.4633\n",
      "Epoch 51/400\n",
      "1058297/1058297 [==============================] - 130s 123us/sample - loss: 13.8153 - coeff_determination: 0.4134 - val_loss: 14.5326 - val_coeff_determination: 0.3398\n",
      "Epoch 52/400\n",
      "1058297/1058297 [==============================] - 131s 124us/sample - loss: 13.8284 - coeff_determination: 0.4131 - val_loss: 13.5213 - val_coeff_determination: 0.4658\n",
      "Epoch 53/400\n",
      "1058297/1058297 [==============================] - 20s 19us/sample - loss: 13.8218 - coeff_determination: 0.4126 - val_loss: 13.2178 - val_coeff_determination: 0.4526\n",
      "Epoch 54/400\n",
      "1058297/1058297 [==============================] - 24s 22us/sample - loss: 13.8039 - coeff_determination: 0.4147 - val_loss: 13.4072 - val_coeff_determination: 0.4462\n",
      "Epoch 55/400\n",
      "1058297/1058297 [==============================] - 131s 124us/sample - loss: 13.7634 - coeff_determination: 0.4170 - val_loss: 13.5066 - val_coeff_determination: 0.4685\n",
      "Epoch 56/400\n",
      "1058297/1058297 [==============================] - 121s 114us/sample - loss: 13.7540 - coeff_determination: 0.4182 - val_loss: 13.3923 - val_coeff_determination: 0.4413\n",
      "Epoch 57/400\n",
      "1058297/1058297 [==============================] - 26s 24us/sample - loss: 13.8007 - coeff_determination: 0.4142 - val_loss: 13.6240 - val_coeff_determination: 0.4595\n",
      "Epoch 58/400\n",
      "1058297/1058297 [==============================] - 27s 25us/sample - loss: 13.7743 - coeff_determination: 0.4155 - val_loss: 13.6880 - val_coeff_determination: 0.4151\n",
      "Epoch 59/400\n",
      "1058297/1058297 [==============================] - 121s 114us/sample - loss: 13.7708 - coeff_determination: 0.4167 - val_loss: 13.2047 - val_coeff_determination: 0.4694\n",
      "Epoch 60/400\n",
      "1058297/1058297 [==============================] - 132s 124us/sample - loss: 13.7631 - coeff_determination: 0.4173 - val_loss: 13.0715 - val_coeff_determination: 0.4717\n",
      "Epoch 61/400\n",
      "1058297/1058297 [==============================] - 20s 19us/sample - loss: 13.7615 - coeff_determination: 0.4168 - val_loss: 14.1993 - val_coeff_determination: 0.3888\n",
      "Epoch 62/400\n",
      "1058297/1058297 [==============================] - 24s 23us/sample - loss: 13.7804 - coeff_determination: 0.4157 - val_loss: 13.1756 - val_coeff_determination: 0.4634\n",
      "Epoch 63/400\n",
      "1058297/1058297 [==============================] - 132s 125us/sample - loss: 13.7620 - coeff_determination: 0.4167 - val_loss: 13.3999 - val_coeff_determination: 0.4387\n",
      "Epoch 64/400\n",
      "1058297/1058297 [==============================] - 125s 118us/sample - loss: 13.7792 - coeff_determination: 0.4159 - val_loss: 13.0303 - val_coeff_determination: 0.4773\n",
      "Epoch 65/400\n",
      "1058297/1058297 [==============================] - 20s 19us/sample - loss: 13.7534 - coeff_determination: 0.4178 - val_loss: 13.2852 - val_coeff_determination: 0.4475\n",
      "Epoch 66/400\n",
      "1058297/1058297 [==============================] - 51s 48us/sample - loss: 13.7474 - coeff_determination: 0.4182 - val_loss: 13.1668 - val_coeff_determination: 0.4647\n",
      "Epoch 67/400\n",
      "1058297/1058297 [==============================] - 134s 126us/sample - loss: 13.7581 - coeff_determination: 0.4175 - val_loss: 14.4563 - val_coeff_determination: 0.4284\n",
      "Epoch 68/400\n",
      "1058297/1058297 [==============================] - 100s 95us/sample - loss: 13.8007 - coeff_determination: 0.4136 - val_loss: 13.1501 - val_coeff_determination: 0.4585\n",
      "Epoch 69/400\n",
      "1058297/1058297 [==============================] - 20s 19us/sample - loss: 13.7146 - coeff_determination: 0.4209 - val_loss: 13.8020 - val_coeff_determination: 0.4390\n",
      "Epoch 70/400\n",
      "1058297/1058297 [==============================] - 49s 47us/sample - loss: 13.7414 - coeff_determination: 0.4185 - val_loss: 13.0941 - val_coeff_determination: 0.4676\n",
      "Epoch 71/400\n",
      "1058297/1058297 [==============================] - 129s 122us/sample - loss: 13.7369 - coeff_determination: 0.4189 - val_loss: 13.7822 - val_coeff_determination: 0.4028\n",
      "Epoch 72/400\n",
      "1058297/1058297 [==============================] - 100s 94us/sample - loss: 13.7288 - coeff_determination: 0.4194 - val_loss: 13.6854 - val_coeff_determination: 0.4050\n",
      "Epoch 73/400\n",
      "1058297/1058297 [==============================] - 20s 19us/sample - loss: 13.7551 - coeff_determination: 0.4169 - val_loss: 13.1300 - val_coeff_determination: 0.4524\n",
      "Epoch 74/400\n",
      "1058297/1058297 [==============================] - 80s 75us/sample - loss: 13.7186 - coeff_determination: 0.4197 - val_loss: 13.1954 - val_coeff_determination: 0.4683\n",
      "Epoch 75/400\n",
      "1058297/1058297 [==============================] - 120s 114us/sample - loss: 13.7480 - coeff_determination: 0.4180 - val_loss: 13.1137 - val_coeff_determination: 0.4648\n",
      "Epoch 76/400\n",
      "1058297/1058297 [==============================] - 85s 80us/sample - loss: 13.7385 - coeff_determination: 0.4187 - val_loss: 13.2567 - val_coeff_determination: 0.4520\n",
      "Epoch 77/400\n",
      "1058297/1058297 [==============================] - 20s 19us/sample - loss: 13.7267 - coeff_determination: 0.4198 - val_loss: 13.2220 - val_coeff_determination: 0.4636\n",
      "Epoch 78/400\n",
      "1058297/1058297 [==============================] - 96s 91us/sample - loss: 13.7064 - coeff_determination: 0.4207 - val_loss: 13.0866 - val_coeff_determination: 0.4736\n",
      "Epoch 79/400\n",
      "1058297/1058297 [==============================] - 130s 123us/sample - loss: 13.7077 - coeff_determination: 0.4208 - val_loss: 13.3576 - val_coeff_determination: 0.4471\n",
      "Epoch 80/400\n",
      "1058297/1058297 [==============================] - 59s 56us/sample - loss: 13.6879 - coeff_determination: 0.4223 - val_loss: 13.2313 - val_coeff_determination: 0.4536\n",
      "Epoch 81/400\n",
      "1058297/1058297 [==============================] - 20s 19us/sample - loss: 13.7218 - coeff_determination: 0.4200 - val_loss: 14.0611 - val_coeff_determination: 0.3765\n",
      "Epoch 82/400\n",
      "1058297/1058297 [==============================] - 98s 93us/sample - loss: 13.6811 - coeff_determination: 0.4228 - val_loss: 13.3607 - val_coeff_determination: 0.4368\n",
      "Epoch 83/400\n",
      "1058297/1058297 [==============================] - 137s 129us/sample - loss: 13.7059 - coeff_determination: 0.4205 - val_loss: 13.1122 - val_coeff_determination: 0.4697\n",
      "Epoch 84/400\n",
      "1058297/1058297 [==============================] - 45s 42us/sample - loss: 13.7390 - coeff_determination: 0.4186 - val_loss: 13.0582 - val_coeff_determination: 0.4648\n",
      "Epoch 85/400\n",
      "1058297/1058297 [==============================] - 20s 19us/sample - loss: 13.6722 - coeff_determination: 0.4235 - val_loss: 14.0737 - val_coeff_determination: 0.4452\n",
      "Epoch 86/400\n",
      "1058297/1058297 [==============================] - 111s 105us/sample - loss: 13.7178 - coeff_determination: 0.4198 - val_loss: 13.3091 - val_coeff_determination: 0.4682\n",
      "Epoch 87/400\n",
      "1058297/1058297 [==============================] - 135s 128us/sample - loss: 13.6915 - coeff_determination: 0.4217 - val_loss: 13.3946 - val_coeff_determination: 0.4285\n",
      "Epoch 88/400\n"
     ]
    },
    {
     "name": "stdout",
     "output_type": "stream",
     "text": [
      "1058297/1058297 [==============================] - 35s 33us/sample - loss: 13.7046 - coeff_determination: 0.4202 - val_loss: 13.3338 - val_coeff_determination: 0.4500\n",
      "Epoch 89/400\n",
      "1058297/1058297 [==============================] - 21s 20us/sample - loss: 13.6996 - coeff_determination: 0.4203 - val_loss: 13.6364 - val_coeff_determination: 0.4214\n",
      "Epoch 90/400\n",
      "1058297/1058297 [==============================] - 120s 113us/sample - loss: 13.6900 - coeff_determination: 0.4220 - val_loss: 13.3008 - val_coeff_determination: 0.4361\n",
      "Epoch 91/400\n",
      "1058297/1058297 [==============================] - 123s 117us/sample - loss: 13.6970 - coeff_determination: 0.4210 - val_loss: 13.4118 - val_coeff_determination: 0.4684\n",
      "Epoch 92/400\n",
      "1058297/1058297 [==============================] - 37s 35us/sample - loss: 13.7054 - coeff_determination: 0.4202 - val_loss: 13.0670 - val_coeff_determination: 0.4693\n",
      "Epoch 93/400\n",
      "1058297/1058297 [==============================] - 23s 22us/sample - loss: 13.6219 - coeff_determination: 0.4253 - val_loss: 13.0519 - val_coeff_determination: 0.4561\n",
      "Epoch 94/400\n",
      "1058297/1058297 [==============================] - 120s 114us/sample - loss: 13.6532 - coeff_determination: 0.4228 - val_loss: 13.0870 - val_coeff_determination: 0.4673\n",
      "Epoch 95/400\n",
      "1058297/1058297 [==============================] - 135s 128us/sample - loss: 13.6086 - coeff_determination: 0.4264 - val_loss: 13.2305 - val_coeff_determination: 0.4413\n",
      "Epoch 96/400\n",
      "1058297/1058297 [==============================] - 22s 20us/sample - loss: 13.6350 - coeff_determination: 0.4251 - val_loss: 13.4245 - val_coeff_determination: 0.4530\n",
      "Epoch 97/400\n",
      "1058297/1058297 [==============================] - 23s 22us/sample - loss: 13.6507 - coeff_determination: 0.4231 - val_loss: 13.8659 - val_coeff_determination: 0.4653\n",
      "Epoch 98/400\n",
      "1058297/1058297 [==============================] - 127s 120us/sample - loss: 13.6287 - coeff_determination: 0.4240 - val_loss: 13.8489 - val_coeff_determination: 0.4518\n",
      "Epoch 99/400\n",
      "1058297/1058297 [==============================] - 131s 124us/sample - loss: 13.6533 - coeff_determination: 0.4223 - val_loss: 13.7983 - val_coeff_determination: 0.4059\n",
      "Epoch 100/400\n",
      "1058297/1058297 [==============================] - 20s 19us/sample - loss: 13.6399 - coeff_determination: 0.4233 - val_loss: 13.0815 - val_coeff_determination: 0.4700\n",
      "Epoch 101/400\n",
      "1058297/1058297 [==============================] - 26s 24us/sample - loss: 13.6125 - coeff_determination: 0.4262 - val_loss: 13.7792 - val_coeff_determination: 0.4666\n",
      "Epoch 102/400\n",
      "1058297/1058297 [==============================] - 135s 127us/sample - loss: 13.6504 - coeff_determination: 0.4224 - val_loss: 13.4582 - val_coeff_determination: 0.4731\n",
      "Epoch 103/400\n",
      "1058297/1058297 [==============================] - 119s 112us/sample - loss: 13.5730 - coeff_determination: 0.4273 - val_loss: 14.2000 - val_coeff_determination: 0.4407\n",
      "Epoch 104/400\n",
      "1058297/1058297 [==============================] - 22s 21us/sample - loss: 13.5582 - coeff_determination: 0.4285 - val_loss: 14.7595 - val_coeff_determination: 0.3081\n",
      "Epoch 105/400\n",
      "1058297/1058297 [==============================] - 34s 32us/sample - loss: 13.5850 - coeff_determination: 0.4262 - val_loss: 13.8545 - val_coeff_determination: 0.3948\n",
      "Epoch 106/400\n",
      "1058297/1058297 [==============================] - 125s 118us/sample - loss: 13.5856 - coeff_determination: 0.4256 - val_loss: 13.9762 - val_coeff_determination: 0.3861\n",
      "Epoch 107/400\n",
      " 330752/1058297 [========>.....................] - ETA: 1:36 - loss: 13.6092 - coeff_determination: 0.4195"
     ]
    }
   ],
   "source": [
    "#Fitting the model\n",
    "from tensorflow.keras.callbacks import EarlyStopping\n",
    "early_stop = EarlyStopping(monitor='val_loss', mode='min', verbose=1, patience=100)\n",
    "model.fit(x=X_train,y=y_train.values,\n",
    "          validation_data=(X_test,y_test.values),\n",
    "          batch_size=128,epochs=400, callbacks=[early_stop], verbose =1)"
   ]
  },
  {
   "cell_type": "code",
   "execution_count": null,
   "metadata": {},
   "outputs": [],
   "source": []
  }
 ],
 "metadata": {
  "kernelspec": {
   "display_name": "conda_tensorflow_p27",
   "language": "python",
   "name": "conda_tensorflow_p27"
  },
  "language_info": {
   "codemirror_mode": {
    "name": "ipython",
    "version": 2
   },
   "file_extension": ".py",
   "mimetype": "text/x-python",
   "name": "python",
   "nbconvert_exporter": "python",
   "pygments_lexer": "ipython2",
   "version": "2.7.16"
  }
 },
 "nbformat": 4,
 "nbformat_minor": 4
}
